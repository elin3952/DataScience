{
 "cells": [
  {
   "cell_type": "markdown",
   "metadata": {},
   "source": [
    "<a/ id='top'></a>\n",
    "# Homework 3: Random Variables and Their Distributions\n",
    "***\n",
    "\n",
    "**Name**: **Elena Ingraham**\n",
    "\n",
    "***\n",
    "\n",
    "This assignment is due on Moodle by **5 PM on Friday June 22**. Your solutions to theoretical questions should be done in Markdown/MathJax directly below the associated question.  Your solutions to computational questions should include any specified Python code and results as well as written commentary on your conclusions.  Remember that you are encouraged to discuss the problems with your instructors and classmates, but **you must write all code and solutions on your own**. \n",
    "\n",
    "**NOTES**: \n",
    "\n",
    "- Do **NOT** load or use any Python packages that are not available in Anaconda 3.6. \n",
    "- Because you can technically evaluate notebook cells in a non-linear order, it's a good idea to do Cell $\\rightarrow$ Run All as a check before submitting your solutions.  That way if we need to run your code you will know that it will work as expected. \n",
    "- Submit only this Jupyter notebook to Moodle.  Do not compress it using tar, rar, zip, etc. \n",
    "\n",
    "---\n",
    "**Shortcuts:**  [Problem 1](#p1) | [Problem 2](#p2) | [Problem 3](#p3) | [Problem 4](#p4) | [Problem 5](#p5)\n",
    "\n",
    "---"
   ]
  },
  {
   "cell_type": "code",
   "execution_count": 40,
   "metadata": {
    "collapsed": true,
    "scrolled": true
   },
   "outputs": [],
   "source": [
    "import pandas as pd\n",
    "import numpy as np\n",
    "import matplotlib.pylab as plt\n",
    "from scipy.special import binom\n",
    "from scipy.stats import poisson\n",
    "import random\n",
    "import math\n",
    "%matplotlib inline"
   ]
  },
  {
   "cell_type": "markdown",
   "metadata": {},
   "source": [
    "<br>\n",
    "\n",
    "---\n",
    "<a/ id='p1'></a>\n",
    "[Back to top](#top)\n",
    "### [10 points] Problem 1 \n",
    "\n",
    "**Part A**:  Your friend is teaching you how to bat in baseball by pitching balls to you as you try to hit them. Sadly, you are not very good. On any given pitch, the probability that you hit the ball is only about 0.05. Your friend needs to know when she'll be able to go home, so she wants to estimate the distribution of the number of balls she will need to throw by the time you get your 10th hit. Luckily, you are better at Data Science than you are at baseball!\n",
    "\n",
    "Describe **(i)** what distribution could be used to model the system, **(ii)** define any relevant parameters for that distribution and their values, and **(iii)** define the random variable $X$ that follows that distribution, including all values that $X$ can take on."
   ]
  },
  {
   "cell_type": "markdown",
   "metadata": {},
   "source": [
    "**(i).** **Since we are hitting until our first success this is a geometric distribution. \n",
    "ii. The indpendent probability of hitting the ball is 1/20  so X = .05**. X can take on any values < 1."
   ]
  },
  {
   "cell_type": "markdown",
   "metadata": {},
   "source": [
    "**Part B:**  You are a data-driven transportation engineer investigating the effect that a new stoplight has on city traffic.  The stoplight is located in a high-traffic area, near a large commercial district in your city's downtown, so you want to estimate the distribution of number of cars per hour that pass through the intersection.  You conduct a field study by observing the stoplight all day on Monday and Tuesday one week, and determine that on average 80 cars pass under the stoplight per hour.\n",
    "\n",
    "Describe **(i)** what distribution could be used to model the system, **(ii)** define any relevant parameters for that distribution and their values, and **(iii)** define the random variable $X$ that follows that distribution, including all values that $X$ can take on. Additionally, **(iv)** do you think it would be appropriate to use the data you collected and the distribution from parts **(i-iii)** to model the arrival of cars at this stoplight on a weekly timescale? Why or why not?"
   ]
  },
  {
   "cell_type": "markdown",
   "metadata": {},
   "source": [
    "**B.** A poissan distribution could be used to model this distribution. The slice of time, an hour, and the average number of cars are the relevant parameters. X = can  take on any values that allow for the sum to be less that 1. "
   ]
  },
  {
   "cell_type": "markdown",
   "metadata": {},
   "source": [
    "<br>\n",
    "\n",
    "---\n",
    "<a/ id='p2'></a>\n",
    "[Back to top](#top)\n",
    "### [15 points] Problem 2\n",
    "\n",
    "In this problem you'll get some extra practice writing simple simulations. \n",
    "\n",
    "A young boy and an old woman are playing tic tac toe. Unfortunately, the boy is too young to know the strategy and the old woman can't see the board well enough to enact a strategy. Nevertheless, they are content to play games with each other. The old woman plays first and randomly places an X in an open square. The boy plays next, and places an O in one of the remaining open squares. They each play randomly until someone gets three in a row, and then start a new game. Estimate, via simulation, each of the two players' probabilities of winning.\n",
    "\n",
    "**Note**: Part of the goal of this exercises is to give you more practice structuring a simulation. Definitely do not be afraid to write helper functions that are called from your main simulation routine. Things you might want to do modularly are (i) play a single game of tic-tac-toe, (ii) place an X or an O on an free square, or (iii) check if someone has won the game. Just make sure to clearly display your results in code output and summarize things in Markdown. "
   ]
  },
  {
   "cell_type": "code",
   "execution_count": 68,
   "metadata": {
    "scrolled": true
   },
   "outputs": [
    {
     "name": "stdout",
     "output_type": "stream",
     "text": [
      "Boy Probability 0.3313\n",
      "Lady Probability 0.3897\n",
      "['Lady' 'Boy' 'Lady' ..., 'Lady' 'no one' 'no one']\n"
     ]
    },
    {
     "data": {
      "text/plain": [
       "array(['Lady', 'Boy', 'Lady', ..., 'Lady', 'no one', 'no one'],\n",
       "      dtype='<U32')"
      ]
     },
     "execution_count": 68,
     "metadata": {},
     "output_type": "execute_result"
    }
   ],
   "source": [
    "def  ticTacToe():\n",
    "    board = ['1A','2A','3A','1B','2B', '3B', '1C','2C', '3C']\n",
    "    takenSpots = []\n",
    "    boySpots = []\n",
    "    oldLadySpots = []\n",
    "    firstLady = []\n",
    "    lastLady =[]\n",
    "    firstBoy = []\n",
    "    lastBoy = []\n",
    "    winner = []\n",
    "    spot = '1A'\n",
    "    boya = 0\n",
    "    boyb = 0 \n",
    "    boyc = 0\n",
    "    ladya = 0\n",
    "    ladyb = 0 \n",
    "    ladyc = 0\n",
    "    boyone =0 \n",
    "    boytwo = 0\n",
    "    boythree = 0\n",
    "    ladyone =0 \n",
    "    ladytwo = 0\n",
    "    ladythree = 0\n",
    "    turn = 1\n",
    "    winner = \"no one\"\n",
    "    while turn < (9):\n",
    "        spot = random.choice(board)\n",
    "        if spot not in takenSpots:\n",
    "            if (turn % 2 == 0):\n",
    "                turn +=1\n",
    "                boySpots = np.append(boySpots, spot)\n",
    "                firstBoy = [w[0] for w in boySpots]\n",
    "                lastBoy = [w[1] for w in boySpots]\n",
    "                takenSpots = np.append(takenSpots, spot)\n",
    "                if(turn  >= 3):\n",
    "                    for i in range(len(boySpots)-1):\n",
    "                        if (lastBoy[i] == 'A'):\n",
    "                            boya += 1\n",
    "                        elif (lastBoy[i] == 'B'):\n",
    "                            boyb += 1\n",
    "                        elif (lastBoy[i] == 'C'):\n",
    "                            boyc += 1\n",
    "                        if (firstBoy[i] == 1):\n",
    "                            boyone += 1\n",
    "                        elif (firstBoy[i] == 2):\n",
    "                            boytwo += 1\n",
    "                        elif (firstBoy[i] == 3):\n",
    "                            boythree += 1\n",
    "                        if(boya ==3 | boyb ==3 | boyc ==3 | boyone == 3 | boytwo == 3 |boythree ==3):\n",
    "                            winner = 'Boy'\n",
    "                            return winner \n",
    "                       # if (set(['1C','2B','3A']).issubset(boySpots)|set(['A1','2B','3C']).issubset(boySpots)): #all(x in two for x in one)\n",
    "                        if(('1C' in boySpots)& ('2B' in boySpots) & ('3A' in boySpots)):\n",
    "                            winner = 'Boy'\n",
    "                            return winner \n",
    "                        if(('3C' in boySpots) & ('2B' in boySpots) & ('1A' in boySpots)):\n",
    "                            winner = 'Boy'\n",
    "                            return winner \n",
    "                        \n",
    "            if((turn % 2)!= 0):\n",
    "                turn += 1\n",
    "                oldLadySpots = np.append(oldLadySpots, spot)\n",
    "                firstLady = [w[0] for w in oldLadySpots]\n",
    "                lastLady = [w[1] for w in oldLadySpots]\n",
    "                #print(firstLady)\n",
    "                takenSpots = np.append(takenSpots, spot)\n",
    "                if(turn >= 3): \n",
    "                    #print(firstLady)\n",
    "                    for i in range(len(firstLady)-1):\n",
    "                        if (lastLady[i] == 'A'):\n",
    "                            ladya += 1\n",
    "                        elif (lastLady[i] == 'B'):\n",
    "                            ladyb += 1\n",
    "                        elif (lastLady[i] == 'C'):\n",
    "                            ladyc += 1\n",
    "                        if (firstLady[i] == 1):\n",
    "                            ladyone += 1\n",
    "                        elif (firstLady[i] == 2):\n",
    "                            ladytwo += 1\n",
    "                        elif (firstLady[i] == 3):\n",
    "                            ladythree += 1\n",
    "                        if(ladya >=3 | ladyb >=3 | ladyc >=3 | ladyone >= 3 | ladytwo >= 3 |ladythree >=3):\n",
    "                            winner = 'Lady'\n",
    "                            return winner \n",
    "                        if(('1C' in oldLadySpots)& ('2B' in oldLadySpots) & ('3A' in oldLadySpots)):\n",
    "                            winner = 'Lady'\n",
    "                            return winner \n",
    "                        if(('3C' in oldLadySpots) & ('2B' in oldLadySpots) & ('1A' in oldLadySpots)):\n",
    "                            winner = 'Lady'\n",
    "                            return winner \n",
    "                            \n",
    "            else:\n",
    "                spot = random.choice(board)\n",
    "    return winner\n",
    "def tic_tac_game(n):\n",
    "    i = 0 \n",
    "    winner = []\n",
    "    lady_array = []\n",
    "    boy_array = []\n",
    "    draw_array = []\n",
    "    for i in range(n):\n",
    "        winner = np.append(winner, ticTacToe())\n",
    "    for i in range(len(winner)-1):\n",
    "        if (winner[i] == 'Lady'):\n",
    "            lady_array = np.append(lady_array, 1)\n",
    "        elif (winner[i] == 'Boy'):\n",
    "            boy_array = np.append(boy_array, 1)\n",
    "     #   elif (winner[i] == 'no one'):\n",
    "      #      draw_array = np.append(draw_array, 1)\n",
    "    boy_prob = (boy_array.sum()/n)\n",
    "    lady_prob = (lady_array.sum()/n)\n",
    "    #draw_prob = (draw_array.sum()/n)\n",
    "    print(\"Boy Probability\", boy_prob)\n",
    "    print(\"Lady Probability\", lady_prob)\n",
    "    print(winner)\n",
    "    return winner\n",
    "tic_tac_game(10000)  \n",
    "            #if() if the first character of every element in the Spots array & (1,2,3) winner = boy/lady "
   ]
  },
  {
   "cell_type": "markdown",
   "metadata": {},
   "source": [
    "<br>\n",
    "\n",
    "---\n",
    "<a/ id='p3'></a>\n",
    "[Back to top](#top)\n",
    "### [20 points] Problem 3\n",
    "\n",
    "\n",
    "<img src=\"http://uploads.neatorama.com/images/posts/870/98/98870/1508255088-0.jpg\" style=\"width: 260px;\"/>\n",
    "\n",
    "Suppose you are baking pies and want to model the probability with which each pie you bake is delicious.  Let $X$ be a random variable representing the **Deliciousness Index (DI)** of a pie, on a scale of $0$ (least delicious) to $\\pi$ (a most excellent pie).  The probability density function for $X$ is:\n",
    "\n",
    "$$\n",
    "f(x) = \\begin{cases}\n",
    "         c\\left(\\cos{(x)} + 1\\right) & 0 \\leq x \\leq \\pi \\\\\n",
    "         0                           & \\text{otherwise}\n",
    "       \\end{cases}\n",
    "$$\n",
    "where $c$ is some normalizing constant.\n",
    "\n",
    "**Part A**: Determine the value of $c$ such that $f(x)$ is a valid density function. "
   ]
  },
  {
   "cell_type": "markdown",
   "metadata": {},
   "source": [
    "**A.** C = 1/PI for f(x) to be a valid density function."
   ]
  },
  {
   "cell_type": "markdown",
   "metadata": {},
   "source": [
    "**Part B**: Compute the cumulative density (cdf) function $F(x)$ for $X$.  What should $F(\\pi)$ equal?  Be sure to **justify** this answer. Then, verify this answer by calculating $F(\\pi)$ from the cdf you derive."
   ]
  },
  {
   "cell_type": "markdown",
   "metadata": {},
   "source": [
    "**B.** Since the PDF is the derivative of the CDF, we need to integrate the given PDF function to find the CDF, which gives us 1/PI *sin(x)+ (x/PI). F(pi) should equal 1 because the total area, which represents the total probability, is concentrated from zero to PI and zero everywhere else. "
   ]
  },
  {
   "cell_type": "markdown",
   "metadata": {},
   "source": [
    "**Part C**: It is a well-known fact that pies with Deliciousness Index at least 2 are classified as **Quite Tasty**. Use the cdf you computed in **Part B** to find the probability that a single pie you bake is Quite Tasty. "
   ]
  },
  {
   "cell_type": "markdown",
   "metadata": {},
   "source": [
    "**C.** Since it is at least 2, we need to compute the integral of the PDF from 2 to PI, which would give us (1/PI * sin(x) + (x/$\\pi$)) and evaluate it from 2 to $\\pi$ which gives us (1/$\\pi$ * sin($\\pi$) + ($\\pi$/$\\pi$))- (1/$\\pi$ * sin(2) + (2/$\\pi$)) = 1 - (.01 + .636) = .354 or 35.4% percent chance of at least 2 cookies being quite tasty."
   ]
  },
  {
   "cell_type": "markdown",
   "metadata": {},
   "source": [
    "**Part D**: What is the expected Deliciousness Index of any given pie you bake?  Calculate this by hand, using techniques you may or may not need to dust off from Calculus 2. Once you have a final analytic solution (in terms of $\\pi$), *then* you should obtain and report an approximate decimal answer."
   ]
  },
  {
   "cell_type": "markdown",
   "metadata": {},
   "source": [
    "**D.** The expected deliciousness index of any given pie is 1. Since the expected value should be the average value of the CDF. In order to get the average value of the CDF we must integrate again giving us the equation: 1/ $\\pi$(-cos(x)+(1/2)x^2) which we multiply by 1/$\\pi$ since the bounds are from 0 to $\\pi$ and 1/($\\pi$-0) gives us 1/$\\pi$ which all works out to the average value = 1 "
   ]
  },
  {
   "cell_type": "markdown",
   "metadata": {},
   "source": [
    "**Part E:**  The symmetric version of our probability density function is $g(x) = c(\\cos{(x)}+1), -\\pi \\leq x \\leq \\pi$.  $g(x)$ sometimes referred to as the \"raised cosine\" probability density function. It is often useful as an alternative to a normal distribution.\n",
    "Name one key difference between the raised cosine and a normal distribution centered at $x=0$.  Describe a situation that would be appropriate to model using one of those probability density functions, but not the other.\n"
   ]
  },
  {
   "cell_type": "markdown",
   "metadata": {},
   "source": [
    "**E.** The raised cosine function is skewed if it is centered at zero so it would be better in situtations that a probability is skewed whereas the normal distribution has no skewing. Weight could be a situation where the data is skewed and the normal distribution doesn't work. Or maybe an exam where scores never really dip below a certain percentage and the raised cosine fits better. A situation where the normal distribution could be temperatures where the peak is basically dead center and the rest of the temperatures are evenly situated on either side. "
   ]
  },
  {
   "cell_type": "markdown",
   "metadata": {},
   "source": [
    "<br>\n",
    "\n",
    "---\n",
    "<a/ id='p4'></a>\n",
    "[Back to top](#top)\n",
    "### [20 points] Problem 4\n",
    "\n",
    "Let $X =$ the leading digit of a randomly selected number from a large accounting\n",
    "ledger. So, for example, if we randomly draw the number \\$20,695, then $X = 2.$\n",
    "People who make up numbers to commit accounting fraud tend to give $X$ a\n",
    "(discrete) uniform distribution, i.e., $P(X = x) = \\frac{1}{9}$, for $x \\in \\{1, ..., 9\\}$. However,\n",
    "there is empirical evidence that suggests that _naturally occurring_ numbers (e.g.,\n",
    "numbers in a non-fraudulent accounting ledger) have leading digits that do not\n",
    "follow a uniform distribution. Instead, they follow a distribution defined by the following probability mass function:\n",
    "\n",
    "$$\n",
    "f(x) = \\log_{10}\\left( \\frac{x+1}{x} \\right) \\quad \\textrm{for } x = 1, 2, \\ldots, 9\n",
    "$$"
   ]
  },
  {
   "cell_type": "markdown",
   "metadata": {},
   "source": [
    "**Part A**: Write a function pmf_natural that implements $f(x)$. Your function should take in an integer $x$ ($0 \\leq x \\leq 9$) and return $f(x) = P(X = x)$.  Use your function to argue that $f(x)$ is a well-defined probability mass function. "
   ]
  },
  {
   "cell_type": "code",
   "execution_count": 13,
   "metadata": {},
   "outputs": [
    {
     "name": "stdout",
     "output_type": "stream",
     "text": [
      "[ 0.30103     0.07918125  0.12493874  0.09691001  0.04575749  0.17609126\n",
      "  0.05115252  0.06694679  0.05799195]\n"
     ]
    }
   ],
   "source": [
    "def pmf_natural(a):\n",
    "    results = []\n",
    "    digits = []\n",
    "    result = 0\n",
    "    for i in range(len(a)):\n",
    "        digits = [ int(i) for i in str(a[i])]\n",
    "        for i in range(len(digits)):\n",
    "            if (0 < digits[i] <= 9):\n",
    "                result = np.log10((digits[i]+1)/digits[i])\n",
    "                results = np.append(results, result)\n",
    "            else:\n",
    "                results = np.append(results, 0)\n",
    "    print(results)\n",
    "    return results \n",
    "test = [1,5,3,4,9,2,8,6,7]\n",
    "trial1 = pmf_natural(test)\n",
    "        "
   ]
  },
  {
   "cell_type": "markdown",
   "metadata": {},
   "source": [
    "**Part B**: Use the function you wrote above to make stacked bar plots describing the pmf of the naturally occurring numbers as well as the discrete uniform distribution.  Make sure that the $x$- and $y$-limits on your plots are the same so that the two distributions are easy to compare. "
   ]
  },
  {
   "cell_type": "code",
   "execution_count": 37,
   "metadata": {},
   "outputs": [
    {
     "name": "stdout",
     "output_type": "stream",
     "text": [
      "[ 0.30103     0.17609126  0.12493874  0.09691001  0.07918125  0.06694679\n",
      "  0.05799195  0.05115252  0.04575749]\n"
     ]
    },
    {
     "data": {
      "text/plain": [
       "Text(0.5,1,'PMF and Discrete Distribution')"
      ]
     },
     "execution_count": 37,
     "metadata": {},
     "output_type": "execute_result"
    },
    {
     "data": {
      "image/png": "[encoded data removed]",
      "text/plain": [
       "<matplotlib.figure.Figure at 0x7f1f019767f0>"
      ]
     },
     "metadata": {},
     "output_type": "display_data"
    }
   ],
   "source": [
    "discrete_distr = [float(1/9),float(1/9),float(1/9),float(1/9),float(1/9),float(1/9),float(1/9),float(1/9),float(1/9)]\n",
    "yval = [1,5,3,4,9,2,3,6,8,7]\n",
    "graph = pmf_natural([1,2,3,4,5,6,7,8,9])\n",
    "plt.bar([1,2,3,4,5,6,7,8,9], height = graph, color = 'red', alpha = .95)\n",
    "plt.bar([1,2,3,4,5,6,7,8,9], height = discrete_distr, color = 'blue', alpha = .35)\n",
    "plt.title('PMF and Discrete Distribution')"
   ]
  },
  {
   "cell_type": "markdown",
   "metadata": {},
   "source": [
    "**Part C**: Write a function cdf_natural that implements the cumulative distribution function $F(x)$ for $X$ and use it to compute the probability that the leading digit in a number is at most 2 and at most 3.\n",
    "\n",
    "What interesting fact do your results tell you about the relative frequencies of low versus high leading digits, that occur naturally?"
   ]
  },
  {
   "cell_type": "code",
   "execution_count": 15,
   "metadata": {},
   "outputs": [
    {
     "name": "stdout",
     "output_type": "stream",
     "text": [
      "[ 0.30103     0.30103     0.17609126]\n",
      "0.477\n",
      "[ 0.30103     0.30103     0.17609126  0.12493874]\n",
      "0.602\n"
     ]
    }
   ],
   "source": [
    "def cdf_natural(n):\n",
    "    bounds = [1,2,3,4,5,6,7,8,9]\n",
    "    sub_array= [1]\n",
    "    result = 0\n",
    "    i = 0\n",
    "    for i in range(len(bounds)):\n",
    "        if(bounds[i] <= n):\n",
    "            sub_array = np.append(sub_array, bounds[i])\n",
    "            #results = np.append(results, result)\n",
    "        else:\n",
    "            break\n",
    "    result = round(pmf_natural(sub_array).sum()-.30103, 3)\n",
    "    print(result)\n",
    "    return result\n",
    "trial1 = cdf_natural(2)\n",
    "trial1 = cdf_natural(3)\n",
    "    "
   ]
  },
  {
   "cell_type": "markdown",
   "metadata": {},
   "source": [
    "**Part D**: The data in [tax_data.txt](https://piazza.com/class_profile/get_resource/jhaqogsdelf76h/jigc0s4atj24lr) contains the taxable income for individuals in 1978 (available linked here, and on Piazza). Use Pandas and the information from this problem to determine whether or not the dataset is likely fraudulent.  In addition to code and any graphical summaries, make sure to clearly justify your conclusion in words."
   ]
  },
  {
   "cell_type": "code",
   "execution_count": 38,
   "metadata": {},
   "outputs": [
    {
     "data": {
      "image/png": "[encoded data removed]",
      "text/plain": [
       "<matplotlib.figure.Figure at 0x7f1f002fd2b0>"
      ]
     },
     "metadata": {},
     "output_type": "display_data"
    },
    {
     "data": {
      "image/png": "[encoded data removed]",
      "text/plain": [
       "<matplotlib.figure.Figure at 0x7f1f00234da0>"
      ]
     },
     "metadata": {},
     "output_type": "display_data"
    }
   ],
   "source": [
    "web_path = 'https://piazza.com/class_profile/get_resource/jhaqogsdelf76h/jigc0s4atj24lr'\n",
    "file_path = web_path \n",
    "# Load the data into a DataFrame \n",
    "dfTaxes = pd.read_csv(file_path)\n",
    "taxes = (dfTaxes['taxIncomes'].str.replace('\\t', ''))\n",
    "taxes = taxes.values\n",
    "tax = ''.join(str(e) for e in taxes)\n",
    "digits = list(tax)\n",
    "#print(digits)\n",
    "#print('sum = ', taxes.sum())\n",
    "i = 0 \n",
    "counts = [0,0,0,0,0,0,0,0,0,0]\n",
    "for i in range(len(digits)):\n",
    "    if(digits[i] == '0'):\n",
    "        counts[0] += 1\n",
    "    if(digits[i] == '1'):\n",
    "        counts[1] += 1\n",
    "    if(digits[i] == '2'):\n",
    "        counts[2] += 1\n",
    "    if(digits[i] == '3'):\n",
    "        counts[3] += 1\n",
    "    if(digits[i] == '4'):\n",
    "        counts[4] += 1\n",
    "    if(digits[i] == '5'):\n",
    "        counts[5] += 1\n",
    "    if(digits[i] == '6'):\n",
    "        counts[6] += 1\n",
    "    if(digits[i] == '7'):\n",
    "        counts[7] += 1\n",
    "    if(digits[i] == '8'):\n",
    "        counts[8] += 1\n",
    "    if(digits[i] == '9'):\n",
    "        counts[9] += 1\n",
    "#print(digits)\n",
    "#print(counts)\n",
    "plt.bar([0,1,2,3,4,5,6,7,8,9], height = counts, color = 'yellow')\n",
    "plt.title('Tax Data Distribution')\n",
    "plt.show()\n",
    "plt.bar([1,2,3,4,5,6,7,8,9], height = graph, color = 'red')\n",
    "plt.title('PMF Distribution')\n",
    "plt.show()\n",
    "#for i in range(len(taxes)):\n",
    " #       digits = [ int(i) for i in str(taxes[i])]\n",
    "#pmf_natural(digits)\n",
    "#print(taxes)/"
   ]
  },
  {
   "cell_type": "markdown",
   "metadata": {},
   "source": [
    "**D.** The yellow graph that represents the distribution of digits in the tax data clearly show a different distribution than the pmf previously computed (shown below). This shows that the data is most likely fraudulent as it does not follow the natural distribution. "
   ]
  },
  {
   "cell_type": "markdown",
   "metadata": {},
   "source": [
    "<br>\n",
    "\n",
    "---\n",
    "<a/ id='p5'></a>\n",
    "[Back to top](#top)\n",
    "### [35 points] Problem 5\n",
    "\n",
    "You are waiting in line at the grocery store. It is taking _forever_!  There are only two lines open; one is being tended by a cashier named [John Henry](https://en.wikipedia.org/wiki/John_Henry_(folklore)), and the other is tended by a [self check-out machine](https://theconversation.com/the-economics-of-self-service-checkouts-78593). Like all human beings when they arrive at the front of the store to check-out and encounter lines everywhere, you first experience a moment of intense panic. _Which line will be the fastest?_ you wonder, as people shuffle around you.\n",
    "\n",
    "<img src=\"http://www.panoston.com/wp-content/uploads/2017/08/store-line-1.jpg\" style=\"width: 300px;\"/>\n",
    "\n",
    "You decide you need to model the arrival of customers at the front of each of the lines.  From your Intro to Data Science class you remember that the distribution of times _between_ independent arrivals is often modeled using an Exponential distribution.  You stand at the front of the store watching the two lines and tabulating the inter-arrival times for each line and find the following:\n",
    "* John's line checks-out an average of 2 customers per five-minute time slice,\n",
    "* the self check-out machine checks-out an average of 2.5 customers per five-minute time slice **if** the machine is working properly, \n",
    "* the self check-out machine checks-out an average of 1 customer per five-minute time slice if the machine is freezing up, and\n",
    "* the self check-out machine froze up for 2 of the 10 five-minute time slices you observed it.\n",
    "\n",
    "Answer the following questions about this scenario. **Note** that for **Parts B-C** you should clearly express the computation you're doing with math, but feel free to do any fancy function evaluations with Python. \n",
    "\n",
    "**Part A**:  Assuming the between-customer times do in-fact follow exponential distributions, what distributions do you expect the **number** of customers who pass through each line in a given 5-minute interval to follow?  What are the parameter(s) of each distribution?  Note that you should consider both the case where the self check-out is working properly and when it is broken."
   ]
  },
  {
   "cell_type": "markdown",
   "metadata": {},
   "source": [
    "**This follows a Poissan distribution. Lambda for John's line is .4 since it follows the probability of 2 customers per five minutes or 2/5. If the self check out machine is working then it follows the  probability of 2.5 customers per five minutes or .5. And if it's freezing up lambda = .2.**  "
   ]
  },
  {
   "cell_type": "markdown",
   "metadata": {},
   "source": [
    "**Part B**:  What is the probability that 3 customers pass through John's line in the next 5 minutes?  What about the self check-out, assuming that it is working?  What about the self check-out, assuming that it is frozen?"
   ]
  },
  {
   "cell_type": "markdown",
   "metadata": {},
   "source": []
  },
  {
   "cell_type": "code",
   "execution_count": 67,
   "metadata": {},
   "outputs": [
    {
     "name": "stdout",
     "output_type": "stream",
     "text": [
      "John's line:  18.000%\n",
      "If Self checkout is Working:  21.000%\n",
      "If Self checkout is Frozen:  6.000%\n"
     ]
    }
   ],
   "source": [
    "v = 2\n",
    "n = 3\n",
    "poisson = ((v**n)*(math.exp(-v)))/math.factorial(n)\n",
    "print(\"John's line: \",'{:.3%}'.format(round(poisson,2)))\n",
    "v = 2.5\n",
    "poisson = ((v**n)*(math.exp(-v)))/math.factorial(n)\n",
    "print(\"If Self checkout is Working: \",'{:.3%}'.format(round(poisson,2)))\n",
    "v = 1\n",
    "poisson = ((v**n)*(math.exp(-v)))/math.factorial(n)\n",
    "print(\"If Self checkout is Frozen: \",'{:.3%}'.format((round(poisson,2))))"
   ]
  },
  {
   "cell_type": "markdown",
   "metadata": {},
   "source": [
    "**Part C**:  Use your answer to **Part B** and the Law of Total Probability to calculate the probability that the self check-out serves 3 customers is the next 5 minutes."
   ]
  },
  {
   "cell_type": "code",
   "execution_count": 65,
   "metadata": {},
   "outputs": [
    {
     "name": "stdout",
     "output_type": "stream",
     "text": [
      "Total:  18.300%\n"
     ]
    }
   ],
   "source": [
    "v = 2.5\n",
    "n = 3\n",
    "poisson = ((v**n)*(math.exp(-v)))/math.factorial(n)\n",
    "v2 = 1\n",
    "poisson2 = ((v2**n)*(math.exp(-v2)))/math.factorial(n)\n",
    "total = poisson*(4/5)+poisson2*(1/5)\n",
    "print(\"Total: \",'{:.3%}'.format((round(total,3))))"
   ]
  },
  {
   "cell_type": "markdown",
   "metadata": {},
   "source": [
    "**Part D**:  S'pose John is working a 4-hour shift from 4-8 PM after school. He gets no breaks, because the year is 1870 and worker's rights is not yet a thing.  Calculate **exactly** (aside from rounding) the probability that he serves 100 or more customers during his shift.  Be sure to justify any assumptions or extrapolations that you make."
   ]
  },
  {
   "cell_type": "code",
   "execution_count": 63,
   "metadata": {},
   "outputs": [
    {
     "name": "stdout",
     "output_type": "stream",
     "text": [
      "Odds of John serving 100 or more customers:  27.000%\n"
     ]
    }
   ],
   "source": [
    "time = (60*4)/5\n",
    "cusomters = (100/time)\n",
    "# print(peopleperchunk)\n",
    "\n",
    "v = 2\n",
    "n = round(customers)\n",
    "poisson = ((v**n)*(math.exp(-v)))/math.factorial(n)\n",
    "print(\"Odds of John serving 100 or more customers: \",'{:.3%}'.format(round(poisson,2)))"
   ]
  },
  {
   "cell_type": "markdown",
   "metadata": {},
   "source": [
    "**Part E**:  Write a function `checkout_count` to simulate the number of customers served by the self check-out machine in a 4-hour shift. At the very least, your function should take as input the working and broken customer arrival rate parameters, and the probability that the machine is working properly. Use this function to estimate the probability of the self check-out machine serves 100 or more customers in a 4-hour shift, and report your result.\n",
    "\n",
    "Here, your simulation should model the arrival of each new customer, and sample whether or not the machine is working properly for each new customer. Then, your function should simulate customer arrival times at the front of the line by sampling between-customer times from $Exp(\\lambda)$ via Numpy's [random.exponential](https://docs.scipy.org/doc/numpy-1.13.0/reference/generated/numpy.random.exponential.html) function, where the argument $\\lambda$ will depend on the state of the machine (working or broken). Your function should return the number of customer arrivals in a 4-hour shift. Use at least 5000 simulations.\n",
    "\n",
    "Finally, use **this same function**, with clever input, to verify your answer to **Part D**.\n",
    "\n",
    "**Caution!**  Be aware that in some Numpy or Scipy functions for distribution and/or random variables, the conventions for the parameter arguments may differ from those used in class."
   ]
  },
  {
   "cell_type": "code",
   "execution_count": 59,
   "metadata": {},
   "outputs": [
    {
     "data": {
      "text/plain": [
       "201.6792"
      ]
     },
     "execution_count": 59,
     "metadata": {},
     "output_type": "execute_result"
    }
   ],
   "source": [
    "#John's line checks-out an average of 2 customers per five-minute time slice,\n",
    "#the self check-out machine checks-out an average of 2.5 customers per five-minute time slice if the machine is working properly,\n",
    "#the self check-out machine checks-out an average of 1 customer per five-minute time slice if the machine is freezing up, and\n",
    "#the self check-out machine froze up for 2 of the 10 five-minute time slices you observed it.\n",
    "\n",
    "def checkout_count():\n",
    "    machine = [1,1,0,0,0,0,0,0,0,0]\n",
    "    customers = 0\n",
    "    self_cust = 0 \n",
    "    prob_broken = random.choice(machine)\n",
    "    for i in range(48):\n",
    "        customers += 2\n",
    "        if (prob_broken == 1):\n",
    "            customers += 1\n",
    "            self_cust += 1\n",
    "        if (prob_broken == 0):\n",
    "            customers += 2.5\n",
    "            self_cust += 2.5\n",
    "   # print(self_cust/customers)\n",
    "    return customers \n",
    "def checkout_sim(n):\n",
    "    customers = 0 \n",
    "    for i in range(n):\n",
    "        customers += checkout_count()\n",
    "    total_cust = customers/n\n",
    "    return total_cust\n",
    "checkout_sim(10000)\n",
    "    \n",
    "    \n",
    "    #should take as input the working and broken customer arrival rate parameters, and the probability that the machine is working properly."
   ]
  },
  {
   "cell_type": "markdown",
   "metadata": {},
   "source": [
    "**Part F:**  \n",
    "1. What are the mean numbers of customers served by each of John and the self check-out machine during the 4-hour shift?\n",
    "2. Which is better for the grocery store in the short-term, the self check-out machine technology, or folks like John Henry?  Justify your answer with some figures or calculations that you feel will be appropriate, or shout-outs to results you have already calculated.\n",
    "3. What if they improve the self check-out machine to only fail 10% of the time?"
   ]
  },
  {
   "cell_type": "markdown",
   "metadata": {
    "collapsed": true
   },
   "source": [
    "**F.** \n",
    "    **1.** The average number of customers served in a 4-hr shift is 202 people.\n"
   ]
  },
  {
   "cell_type": "markdown",
   "metadata": {},
   "source": [
    "**F. 2)** The annoyingness of self checkout machines aside, grocery stores would be more efficient if they relied more on the technology since they on average serve more customers per hour. Based on my simulation the machines served 5% more custotmers than John Henry. **3.)** If they were to fail only 10% of the time they would be even more effective than John Henry. \n"
   ]
  },
  {
   "cell_type": "code",
   "execution_count": null,
   "metadata": {
    "collapsed": true
   },
   "outputs": [],
   "source": []
  }
 ],
 "metadata": {
  "kernelspec": {
   "display_name": "Python 3",
   "language": "python",
   "name": "python3"
  },
  "language_info": {
   "codemirror_mode": {
    "name": "ipython",
    "version": 3
   },
   "file_extension": ".py",
   "mimetype": "text/x-python",
   "name": "python",
   "nbconvert_exporter": "python",
   "pygments_lexer": "ipython3",
   "version": "3.6.3"
  }
 },
 "nbformat": 4,
 "nbformat_minor": 2
}
