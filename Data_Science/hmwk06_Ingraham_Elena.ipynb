{
 "cells": [
  {
   "cell_type": "markdown",
   "metadata": {},
   "source": [
    "<a id='top'></a>\n",
    "\n",
    "# Homework 6: Bootstrapping, Hypothesis Testing, P-Hacking, and Simple Linear Regression \n",
    "***\n",
    "\n",
    "**Name**: **Elena Ingraham**\n",
    "\n",
    "***\n",
    "\n",
    "This assignment is due on Moodle by **5 PM on Friday July 13**. Your solutions to theoretical questions should be done in Markdown/MathJax directly below the associated question.  Your solutions to computational questions should include any specified Python code and results as well as written commentary on your conclusions.  Remember that you are encouraged to discuss the problems with your instructors and classmates, but **you must write all code and solutions on your own**. \n",
    "\n",
    "**NOTES**: \n",
    "\n",
    "- Do **NOT** load or use any Python packages that are not available in Anaconda 3.6. \n",
    "- Some problems with code may be autograded.  If we provide a function API **do not** change it.  If we do not provide a function API then you're free to structure your code however you like. \n",
    "- Because you can technically evaluate notebook cells is a non-linear order, it's a good idea to do Cell $\\rightarrow$ Run All as a check before submitting your solutions.  That way if we need to run your code you will know that it will work as expected. \n",
    "- Submit only this Jupyter notebook to Moodle.  Do not compress it using tar, rar, zip, etc. \n",
    "- This should go without saying, but... For any question that asks you to calculate something, you **must show all work to receive credit**. Sparse or nonexistent work will receive sparse or nonexistent credit.\n",
    "\n",
    "---\n",
    "**Shortcuts:**  [Problem 1](#p1) | [Problem 2](#p2) | [Problem 3](#p3) | [Problem 4](#p4) | [Problem 5](#p5)\n",
    "\n",
    "---"
   ]
  },
  {
   "cell_type": "code",
   "execution_count": 25,
   "metadata": {
    "collapsed": true,
    "scrolled": true
   },
   "outputs": [],
   "source": [
    "import numpy as np\n",
    "import matplotlib.pyplot as plt\n",
    "import pandas as pd\n",
    "import math\n",
    "from scipy import stats \n",
    "%matplotlib inline"
   ]
  },
  {
   "cell_type": "markdown",
   "metadata": {},
   "source": [
    "---\n",
    "[Back to top](#top)\n",
    "<a id='p1'></a>\n",
    "\n",
    "### [12 points] Problem 1 - Hypothesis Testing Whether your Co-worker is a Doofus\n",
    "\n",
    "You are working as a Data Scientist for an internet company. Your co-worker, Daley Jennanigans, is a lovable scamp! Unfortunately, Daley also makes a lot of mistakes throughout the day as the two of you team up to tackle some inference work regarding your company's customers. In each case, clearly explain why Daley's hypothesis testing setup or conclusion is incorrect."
   ]
  },
  {
   "cell_type": "markdown",
   "metadata": {},
   "source": []
  },
  {
   "cell_type": "markdown",
   "metadata": {},
   "source": [
    "**Part A**: Daley has some data on the characteristics of customers that visited the company's website over the previous month.  He wants to perform an analysis on the proportion of last month's website visitors that bought something.  Let $X$ be the random variable describing the number of website visitors who bought something in the previous month, and suppose that the population proportion of visitors who bought something is $p$. Daley is particularly interested to see if the data suggests that more than 10% of website visitors actually buy something.  He decides to perform the test with a null hypothesis of $H_0: \\hat{p} = 0.10$. "
   ]
  },
  {
   "cell_type": "markdown",
   "metadata": {
    "collapsed": true
   },
   "source": [
    "**In this case $ \\hat{p}$ should just be p, because the null hypothesis is supposed to be making a statement with regards to the *population* proportion, not a sample proportion.**"
   ]
  },
  {
   "cell_type": "markdown",
   "metadata": {},
   "source": [
    "**Part B**: Daley decides instead to do his hypothesis test with a null hypothesis of $H_0: p < 0.10$.  "
   ]
  },
  {
   "cell_type": "markdown",
   "metadata": {},
   "source": [
    "**This is the null hypothesis which requires $H_0$ to be defined and not on the end of an inequality, it should be $H_0: p = 0.10$.**"
   ]
  },
  {
   "cell_type": "markdown",
   "metadata": {},
   "source": [
    "**Part C**: Finally on track with reasonable hypotheses of $H_0: p = 0.10$ and $H_1: p > 0.10$, Daley computes a normalized test-statistic of $z = -1.4$ for the sample proportion and concludes that since $z = -1.4 < 0.05$ there is sufficient statistical evidence at the $\\alpha = 0.05$ (95%) significance level that the proportion of customers who buy something is less than 10%."
   ]
  },
  {
   "cell_type": "markdown",
   "metadata": {},
   "source": [
    "**He needs to compare the normalized test statistic he found with the z-crit value associated with his alpha value of .05, which should be -1.65. Since -1.4 is not less than -1.65 he does not have evidence to reject the null hypothesis** "
   ]
  },
  {
   "cell_type": "markdown",
   "metadata": {},
   "source": [
    "**Part D**: Daley is again conducting the hypothesis test of $H_0: p = 0.10$ and $H_1: p > 0.10$. He computes a p-value of $0.03$, and thus concludes that there is only a 3% probability that the null hypothesis is true. "
   ]
  },
  {
   "cell_type": "markdown",
   "metadata": {},
   "source": [
    "**The p-value represents the probability of taking a sample and seeing a test statistic as extreme or more extreme than the one we found. It has nothing to do with the probability of the null hypothesis being true, it just helps us determine the likelihood of seeing our test statistic in a sample given the conditions about the population given by the null hypothesis.**"
   ]
  },
  {
   "cell_type": "markdown",
   "metadata": {},
   "source": [
    "---\n",
    "[Back to top](#top)\n",
    "<a id='p2'></a>\n",
    "\n",
    "### [20 points] Problem 2 - Evaluating Pizza Delivery Performance \n",
    "\n",
    "The manager of a pizza chain with multiple locations likes to keep meticulous data on his pizza deliveries.  The data from more than 1200 deliveries in May 2014 is stored in [`pizza.csv`](https://piazza.com/class_profile/get_resource/jhaqogsdelf76h/jja0n7mvrrc671). "
   ]
  },
  {
   "cell_type": "code",
   "execution_count": 26,
   "metadata": {},
   "outputs": [
    {
     "data": {
      "text/html": [
       "<div>\n",
       "<style>\n",
       "    .dataframe thead tr:only-child th {\n",
       "        text-align: right;\n",
       "    }\n",
       "\n",
       "    .dataframe thead th {\n",
       "        text-align: left;\n",
       "    }\n",
       "\n",
       "    .dataframe tbody tr th {\n",
       "        vertical-align: top;\n",
       "    }\n",
       "</style>\n",
       "<table border=\"1\" class=\"dataframe\">\n",
       "  <thead>\n",
       "    <tr style=\"text-align: right;\">\n",
       "      <th></th>\n",
       "      <th>day</th>\n",
       "      <th>date</th>\n",
       "      <th>time</th>\n",
       "      <th>operator</th>\n",
       "      <th>branch</th>\n",
       "      <th>driver</th>\n",
       "      <th>temperature</th>\n",
       "      <th>bill</th>\n",
       "      <th>pizzas</th>\n",
       "    </tr>\n",
       "  </thead>\n",
       "  <tbody>\n",
       "    <tr>\n",
       "      <th>0</th>\n",
       "      <td>Thursday</td>\n",
       "      <td>1-May-14</td>\n",
       "      <td>33.708636</td>\n",
       "      <td>Laura</td>\n",
       "      <td>East</td>\n",
       "      <td>Bruno</td>\n",
       "      <td>71.433084</td>\n",
       "      <td>58.4</td>\n",
       "      <td>4</td>\n",
       "    </tr>\n",
       "    <tr>\n",
       "      <th>1</th>\n",
       "      <td>Thursday</td>\n",
       "      <td>1-May-14</td>\n",
       "      <td>29.382070</td>\n",
       "      <td>Melissa</td>\n",
       "      <td>East</td>\n",
       "      <td>Salvatore</td>\n",
       "      <td>64.952920</td>\n",
       "      <td>26.4</td>\n",
       "      <td>3</td>\n",
       "    </tr>\n",
       "    <tr>\n",
       "      <th>2</th>\n",
       "      <td>Thursday</td>\n",
       "      <td>1-May-14</td>\n",
       "      <td>33.580664</td>\n",
       "      <td>Melissa</td>\n",
       "      <td>West</td>\n",
       "      <td>Salvatore</td>\n",
       "      <td>49.113452</td>\n",
       "      <td>58.1</td>\n",
       "      <td>3</td>\n",
       "    </tr>\n",
       "    <tr>\n",
       "      <th>3</th>\n",
       "      <td>Thursday</td>\n",
       "      <td>1-May-14</td>\n",
       "      <td>32.505369</td>\n",
       "      <td>Melissa</td>\n",
       "      <td>East</td>\n",
       "      <td>Salvatore</td>\n",
       "      <td>64.872559</td>\n",
       "      <td>35.2</td>\n",
       "      <td>3</td>\n",
       "    </tr>\n",
       "    <tr>\n",
       "      <th>4</th>\n",
       "      <td>Thursday</td>\n",
       "      <td>1-May-14</td>\n",
       "      <td>25.493613</td>\n",
       "      <td>Melissa</td>\n",
       "      <td>West</td>\n",
       "      <td>Salvatore</td>\n",
       "      <td>59.630052</td>\n",
       "      <td>38.4</td>\n",
       "      <td>2</td>\n",
       "    </tr>\n",
       "  </tbody>\n",
       "</table>\n",
       "</div>"
      ],
      "text/plain": [
       "        day      date       time operator branch     driver  temperature  \\\n",
       "0  Thursday  1-May-14  33.708636    Laura   East      Bruno    71.433084   \n",
       "1  Thursday  1-May-14  29.382070  Melissa   East  Salvatore    64.952920   \n",
       "2  Thursday  1-May-14  33.580664  Melissa   West  Salvatore    49.113452   \n",
       "3  Thursday  1-May-14  32.505369  Melissa   East  Salvatore    64.872559   \n",
       "4  Thursday  1-May-14  25.493613  Melissa   West  Salvatore    59.630052   \n",
       "\n",
       "   bill  pizzas  \n",
       "0  58.4       4  \n",
       "1  26.4       3  \n",
       "2  58.1       3  \n",
       "3  35.2       3  \n",
       "4  38.4       2  "
      ]
     },
     "execution_count": 26,
     "metadata": {},
     "output_type": "execute_result"
    }
   ],
   "source": [
    "dfP = pd.read_csv(\"/home/elena/Documents/Data_Science/pizza.csv\")\n",
    "dfP.head()"
   ]
  },
  {
   "cell_type": "markdown",
   "metadata": {},
   "source": [
    "**Part A**: The manager's goal is to have an average delivery time across all branches of less than 30 minutes.  Perform an appropriate hypothesis test at the $\\alpha=0.05$ significance level to evaluate whether this goal has been achieved.  Be sure to clearly state your null and alternate hypotheses, describe your testing procedure, and show all calculations in Python. "
   ]
  },
  {
   "cell_type": "markdown",
   "metadata": {},
   "source": [
    "**A.) For this problem we are trying to answer whether or not it is probable to see a data set with a mean of 29.455 if the population mean is greater than 30. In other words, is it probable to see this sample mean if the population mean is greater than 30? This means our null and alternate hypothesis would be as follows:**\n",
    "\n",
    "$H_0: \\mu = 30$\n",
    "\n",
    "$H_1: \\mu < 30$"
   ]
  },
  {
   "cell_type": "code",
   "execution_count": 27,
   "metadata": {},
   "outputs": [
    {
     "name": "stdout",
     "output_type": "stream",
     "text": [
      "The mean delivery time is:  29.45529402793836\n",
      "Number of data points in sample:  1266\n",
      "Standard Deviation of the sample:  6.111591185889421\n"
     ]
    }
   ],
   "source": [
    "print(\"The mean delivery time is: \", dfP['time'].mean())\n",
    "\n",
    "print(\"Number of data points in sample: \", len(dfP['time']))\n",
    "\n",
    "print(\"Standard Deviation of the sample: \", dfP['time'].std())"
   ]
  },
  {
   "cell_type": "markdown",
   "metadata": {},
   "source": [
    "** Now we can find our $z_crit$ value by taking filling in the formula: $\\frac{\\bar{x}-\\mu}{\\frac{\\sigma}{\\sqrt{n}}}$ with $\\bar{x}$ = 29.45529, from our sample, and $\\mu$ = 30, from the null hypothesis stated above. n = 1266, since it is the number of times in our sample as calculated above. And $\\sigma$ = 6.111591, also calculated above.**"
   ]
  },
  {
   "cell_type": "markdown",
   "metadata": {},
   "source": [
    "**After plugging into the formula we are left with  $\\frac{29.4553-30}{\\frac{6.1116}{\\sqrt{1266}}}$ which can be computed with python like so: **"
   ]
  },
  {
   "cell_type": "code",
   "execution_count": 28,
   "metadata": {},
   "outputs": [
    {
     "name": "stdout",
     "output_type": "stream",
     "text": [
      "The z value is:  -3.1711684052051035\n"
     ]
    }
   ],
   "source": [
    "print(\"The z value is: \",(29.4553-30)/(6.1116/math.sqrt(1266)))"
   ]
  },
  {
   "cell_type": "markdown",
   "metadata": {},
   "source": [
    "**Now we can take this value and find the p-value by utilizing the cdf, which will give us the probability of seeing something this extreme, or more extreme give the null hypothesis. **"
   ]
  },
  {
   "cell_type": "code",
   "execution_count": 29,
   "metadata": {},
   "outputs": [
    {
     "name": "stdout",
     "output_type": "stream",
     "text": [
      "0.999240864516\n"
     ]
    }
   ],
   "source": [
    "print(1- (stats.norm.cdf(-3.1711684052051035)))  "
   ]
  },
  {
   "cell_type": "markdown",
   "metadata": {},
   "source": [
    "**Since the p value 0.99924 > .05, which was our $\\alpha$ (significance level). This makes sense, because 29.45529 is extremely close to 30, and with a standard deviation of 6.111591 it is understandable that we could take a sample with a mean of 29.45529 when the true population mean is 30. We do not have enough evidence to  reject the null hypothesis, i.e. the manager cannot assume the average delivery time is less than 30. **"
   ]
  },
  {
   "cell_type": "markdown",
   "metadata": {},
   "source": [
    "**Part B**: The pizza shop has fallen on hard times and is considering closing a branch. The manager knows that the East branch is the lowest performing branch, followed by the West branch, as measured by the the mean number of pizzas per delivery."
   ]
  },
  {
   "cell_type": "code",
   "execution_count": 187,
   "metadata": {},
   "outputs": [
    {
     "name": "stdout",
     "output_type": "stream",
     "text": [
      "Centre branch mean pizzas/delivery = 3.368\n",
      "Centre branch std pizzas/delivery = 1.384\n",
      "West   branch mean pizzas/delivery = 3.207\n",
      "West   branch std pizzas/delivery = 1.446\n",
      "East   branch mean pizzas/delivery = 2.429\n",
      "East   branch std pizzas/delivery = 1.275\n"
     ]
    }
   ],
   "source": [
    "for branch in set(dfP[\"branch\"]):\n",
    "    print(\"{:6s} branch mean pizzas/delivery = {:0.3f}\".format(branch, dfP.loc[dfP[\"branch\"]==branch, \"pizzas\"].mean()))\n",
    "    print(\"{:6s} branch std pizzas/delivery = {:0.3f}\".format(branch, dfP.loc[dfP[\"branch\"]==branch, \"pizzas\"].std()))"
   ]
  },
  {
   "cell_type": "code",
   "execution_count": 190,
   "metadata": {},
   "outputs": [
    {
     "data": {
      "text/plain": [
       "435"
      ]
     },
     "execution_count": 190,
     "metadata": {},
     "output_type": "execute_result"
    }
   ],
   "source": [
    "west = []\n",
    "west = dfP.groupby([\"branch\"]).get_group (\"West\")\n",
    "len(west)"
   ]
  },
  {
   "cell_type": "code",
   "execution_count": 195,
   "metadata": {},
   "outputs": [
    {
     "data": {
      "text/plain": [
       "410"
      ]
     },
     "execution_count": 195,
     "metadata": {},
     "output_type": "execute_result"
    }
   ],
   "source": [
    "east = []\n",
    "east = dfP.groupby([\"branch\"]).get_group (\"East\")\n",
    "len(east)"
   ]
  },
  {
   "cell_type": "code",
   "execution_count": 200,
   "metadata": {},
   "outputs": [
    {
     "data": {
      "text/plain": [
       "421"
      ]
     },
     "execution_count": 200,
     "metadata": {},
     "output_type": "execute_result"
    }
   ],
   "source": [
    "center = []\n",
    "center = dfP.groupby([\"branch\"]).get_group (\"Centre\")\n",
    "len(center)"
   ]
  },
  {
   "cell_type": "markdown",
   "metadata": {},
   "source": [
    "Can the manager conclude that the East branch is performing statistically significantly lower than the other two branches? Can he conclude that the West branch performs significantly worse than the Centre branch? Conduct hypothesis tests to answer these questions. Both of those questions will help him decide whether or not to close the East branch. The stakes are higher when making the decision to close an entire branch of pizza restaurant, so the manager decides to use the $\\alpha=0.01$ significance level for these tests. Be sure to clearly describe your hypotheses and methodology, and show any relevant computations in Python. "
   ]
  },
  {
   "cell_type": "markdown",
   "metadata": {},
   "source": [
    "**Let's assume the population mean is equivalent to the West Branch's mean and test against it. The null and alternate hypothesis are as follows: **\n",
    "\n",
    "For the under performance of the East Branch:\n",
    "\n",
    "$H_0: \\mu_1 = \\mu_2$\n",
    "\n",
    "$H_1: \\mu_1 < \\mu_2$\n",
    "\n",
    "For the under performance of the West Branch:\n",
    "\n",
    "$H_0: \\mu_1 = \\mu_2$\n",
    "\n",
    "$H_1: \\mu_1 > \\mu_2$"
   ]
  },
  {
   "cell_type": "markdown",
   "metadata": {},
   "source": []
  },
  {
   "cell_type": "code",
   "execution_count": 173,
   "metadata": {},
   "outputs": [
    {
     "name": "stdout",
     "output_type": "stream",
     "text": [
      "Then we can compute with python: \n",
      "The z-crit value for both tests:  -1.28155156554\n",
      "It's negative because this is a lower tail test\n"
     ]
    }
   ],
   "source": [
    "print(\"Then we can compute with python: \")\n",
    "print(\"The z-crit value for both tests: \", -(stats.norm.ppf(.9)))\n",
    "print(\"It's negative because this is a lower tail test\")"
   ]
  },
  {
   "cell_type": "code",
   "execution_count": 206,
   "metadata": {},
   "outputs": [
    {
     "data": {
      "text/plain": [
       "-8.306902940439967"
      ]
     },
     "execution_count": 206,
     "metadata": {},
     "output_type": "execute_result"
    }
   ],
   "source": [
    "(2.429 - 3.207)/math.sqrt(((1.446*1.446)/435)+((1.275*1.275)/410))"
   ]
  },
  {
   "cell_type": "markdown",
   "metadata": {},
   "source": [
    "**Since -8.3069029404 < -1.2815 there is reasonable evidence to reject the null hypothesis and conclude the East branch is under performing.**"
   ]
  },
  {
   "cell_type": "markdown",
   "metadata": {},
   "source": [
    "**Computation to find out if the West branch is under performing compared to the Centre Branch**"
   ]
  },
  {
   "cell_type": "code",
   "execution_count": 205,
   "metadata": {},
   "outputs": [
    {
     "data": {
      "text/plain": [
       "-1.7447805004847519"
      ]
     },
     "execution_count": 205,
     "metadata": {},
     "output_type": "execute_result"
    }
   ],
   "source": [
    "(3.207-3.368)/math.sqrt(((1.275*1.275)/410)+ ((1.384*1.384)/421))"
   ]
  },
  {
   "cell_type": "markdown",
   "metadata": {},
   "source": [
    "**Since -1.744 < -1.2815 there is reasonable evidence to reject the null hypothesis and conclude the west branch is under performing.**"
   ]
  },
  {
   "cell_type": "markdown",
   "metadata": {},
   "source": [
    "**Part C**: It has been hypothesized that two of the manager's finest drivers, Mario and Luigi, deliver different numbers of pizzas per delivery. Conduct an appropriate hypothesis test at the $\\alpha = 0.05$ significance level to determine if there is any statistically significant difference between the mean number of pizzas per delivery for the two drivers."
   ]
  },
  {
   "cell_type": "code",
   "execution_count": 31,
   "metadata": {},
   "outputs": [
    {
     "data": {
      "text/html": [
       "<div>\n",
       "<style>\n",
       "    .dataframe thead tr:only-child th {\n",
       "        text-align: right;\n",
       "    }\n",
       "\n",
       "    .dataframe thead th {\n",
       "        text-align: left;\n",
       "    }\n",
       "\n",
       "    .dataframe tbody tr th {\n",
       "        vertical-align: top;\n",
       "    }\n",
       "</style>\n",
       "<table border=\"1\" class=\"dataframe\">\n",
       "  <thead>\n",
       "    <tr style=\"text-align: right;\">\n",
       "      <th></th>\n",
       "      <th>day</th>\n",
       "      <th>date</th>\n",
       "      <th>time</th>\n",
       "      <th>operator</th>\n",
       "      <th>branch</th>\n",
       "      <th>driver</th>\n",
       "      <th>temperature</th>\n",
       "      <th>bill</th>\n",
       "      <th>pizzas</th>\n",
       "    </tr>\n",
       "  </thead>\n",
       "  <tbody>\n",
       "    <tr>\n",
       "      <th>7</th>\n",
       "      <td>Thursday</td>\n",
       "      <td>1-May-14</td>\n",
       "      <td>22.186179</td>\n",
       "      <td>Melissa</td>\n",
       "      <td>West</td>\n",
       "      <td>Mario</td>\n",
       "      <td>61.187654</td>\n",
       "      <td>35.8</td>\n",
       "      <td>2</td>\n",
       "    </tr>\n",
       "    <tr>\n",
       "      <th>8</th>\n",
       "      <td>Thursday</td>\n",
       "      <td>1-May-14</td>\n",
       "      <td>35.324994</td>\n",
       "      <td>Laura</td>\n",
       "      <td>Centre</td>\n",
       "      <td>Mario</td>\n",
       "      <td>64.204093</td>\n",
       "      <td>36.6</td>\n",
       "      <td>2</td>\n",
       "    </tr>\n",
       "    <tr>\n",
       "      <th>11</th>\n",
       "      <td>Thursday</td>\n",
       "      <td>1-May-14</td>\n",
       "      <td>29.131207</td>\n",
       "      <td>Laura</td>\n",
       "      <td>East</td>\n",
       "      <td>Mario</td>\n",
       "      <td>69.949241</td>\n",
       "      <td>49.7</td>\n",
       "      <td>4</td>\n",
       "    </tr>\n",
       "    <tr>\n",
       "      <th>12</th>\n",
       "      <td>Thursday</td>\n",
       "      <td>1-May-14</td>\n",
       "      <td>21.926461</td>\n",
       "      <td>Melissa</td>\n",
       "      <td>West</td>\n",
       "      <td>Mario</td>\n",
       "      <td>60.798941</td>\n",
       "      <td>41.1</td>\n",
       "      <td>1</td>\n",
       "    </tr>\n",
       "    <tr>\n",
       "      <th>16</th>\n",
       "      <td>Thursday</td>\n",
       "      <td>1-May-14</td>\n",
       "      <td>37.398504</td>\n",
       "      <td>Melissa</td>\n",
       "      <td>Centre</td>\n",
       "      <td>Mario</td>\n",
       "      <td>54.507040</td>\n",
       "      <td>34.9</td>\n",
       "      <td>3</td>\n",
       "    </tr>\n",
       "  </tbody>\n",
       "</table>\n",
       "</div>"
      ],
      "text/plain": [
       "         day      date       time operator  branch driver  temperature  bill  \\\n",
       "7   Thursday  1-May-14  22.186179  Melissa    West  Mario    61.187654  35.8   \n",
       "8   Thursday  1-May-14  35.324994    Laura  Centre  Mario    64.204093  36.6   \n",
       "11  Thursday  1-May-14  29.131207    Laura    East  Mario    69.949241  49.7   \n",
       "12  Thursday  1-May-14  21.926461  Melissa    West  Mario    60.798941  41.1   \n",
       "16  Thursday  1-May-14  37.398504  Melissa  Centre  Mario    54.507040  34.9   \n",
       "\n",
       "    pizzas  \n",
       "7        2  \n",
       "8        2  \n",
       "11       4  \n",
       "12       1  \n",
       "16       3  "
      ]
     },
     "execution_count": 31,
     "metadata": {},
     "output_type": "execute_result"
    }
   ],
   "source": [
    "mario = []\n",
    "mario = dfP.groupby([\"driver\"]).get_group (\"Mario\")\n",
    "mario.head()"
   ]
  },
  {
   "cell_type": "code",
   "execution_count": 32,
   "metadata": {},
   "outputs": [
    {
     "data": {
      "text/html": [
       "<div>\n",
       "<style>\n",
       "    .dataframe thead tr:only-child th {\n",
       "        text-align: right;\n",
       "    }\n",
       "\n",
       "    .dataframe thead th {\n",
       "        text-align: left;\n",
       "    }\n",
       "\n",
       "    .dataframe tbody tr th {\n",
       "        vertical-align: top;\n",
       "    }\n",
       "</style>\n",
       "<table border=\"1\" class=\"dataframe\">\n",
       "  <thead>\n",
       "    <tr style=\"text-align: right;\">\n",
       "      <th></th>\n",
       "      <th>day</th>\n",
       "      <th>date</th>\n",
       "      <th>time</th>\n",
       "      <th>operator</th>\n",
       "      <th>branch</th>\n",
       "      <th>driver</th>\n",
       "      <th>temperature</th>\n",
       "      <th>bill</th>\n",
       "      <th>pizzas</th>\n",
       "    </tr>\n",
       "  </thead>\n",
       "  <tbody>\n",
       "    <tr>\n",
       "      <th>52</th>\n",
       "      <td>Friday</td>\n",
       "      <td>2-May-14</td>\n",
       "      <td>26.901239</td>\n",
       "      <td>Melissa</td>\n",
       "      <td>West</td>\n",
       "      <td>Luigi</td>\n",
       "      <td>73.658217</td>\n",
       "      <td>48.4</td>\n",
       "      <td>5</td>\n",
       "    </tr>\n",
       "    <tr>\n",
       "      <th>53</th>\n",
       "      <td>Friday</td>\n",
       "      <td>2-May-14</td>\n",
       "      <td>34.346185</td>\n",
       "      <td>Laura</td>\n",
       "      <td>Centre</td>\n",
       "      <td>Luigi</td>\n",
       "      <td>68.012042</td>\n",
       "      <td>41.2</td>\n",
       "      <td>2</td>\n",
       "    </tr>\n",
       "    <tr>\n",
       "      <th>55</th>\n",
       "      <td>Friday</td>\n",
       "      <td>2-May-14</td>\n",
       "      <td>28.062180</td>\n",
       "      <td>Melissa</td>\n",
       "      <td>East</td>\n",
       "      <td>Luigi</td>\n",
       "      <td>56.797264</td>\n",
       "      <td>37.1</td>\n",
       "      <td>2</td>\n",
       "    </tr>\n",
       "    <tr>\n",
       "      <th>56</th>\n",
       "      <td>Friday</td>\n",
       "      <td>2-May-14</td>\n",
       "      <td>27.027611</td>\n",
       "      <td>Melissa</td>\n",
       "      <td>West</td>\n",
       "      <td>Luigi</td>\n",
       "      <td>72.592846</td>\n",
       "      <td>46.5</td>\n",
       "      <td>3</td>\n",
       "    </tr>\n",
       "    <tr>\n",
       "      <th>60</th>\n",
       "      <td>Friday</td>\n",
       "      <td>2-May-14</td>\n",
       "      <td>34.048307</td>\n",
       "      <td>Melissa</td>\n",
       "      <td>West</td>\n",
       "      <td>Luigi</td>\n",
       "      <td>72.046367</td>\n",
       "      <td>41.4</td>\n",
       "      <td>3</td>\n",
       "    </tr>\n",
       "  </tbody>\n",
       "</table>\n",
       "</div>"
      ],
      "text/plain": [
       "       day      date       time operator  branch driver  temperature  bill  \\\n",
       "52  Friday  2-May-14  26.901239  Melissa    West  Luigi    73.658217  48.4   \n",
       "53  Friday  2-May-14  34.346185    Laura  Centre  Luigi    68.012042  41.2   \n",
       "55  Friday  2-May-14  28.062180  Melissa    East  Luigi    56.797264  37.1   \n",
       "56  Friday  2-May-14  27.027611  Melissa    West  Luigi    72.592846  46.5   \n",
       "60  Friday  2-May-14  34.048307  Melissa    West  Luigi    72.046367  41.4   \n",
       "\n",
       "    pizzas  \n",
       "52       5  \n",
       "53       2  \n",
       "55       2  \n",
       "56       3  \n",
       "60       3  "
      ]
     },
     "execution_count": 32,
     "metadata": {},
     "output_type": "execute_result"
    }
   ],
   "source": [
    "luigi = []\n",
    "luigi = dfP.groupby([\"driver\"]).get_group (\"Luigi\")\n",
    "luigi.head()"
   ]
  },
  {
   "cell_type": "markdown",
   "metadata": {},
   "source": [
    "**The z-value for this hypothesis test can be computed like so: **"
   ]
  },
  {
   "cell_type": "code",
   "execution_count": 211,
   "metadata": {},
   "outputs": [
    {
     "name": "stdout",
     "output_type": "stream",
     "text": [
      "-1.64485362695\n"
     ]
    }
   ],
   "source": [
    "print(-stats.norm.ppf(.95))"
   ]
  },
  {
   "cell_type": "markdown",
   "metadata": {},
   "source": [
    "**It's negative because I am doing a lower tail test.**"
   ]
  },
  {
   "cell_type": "code",
   "execution_count": 208,
   "metadata": {},
   "outputs": [
    {
     "name": "stdout",
     "output_type": "stream",
     "text": [
      "Mario's mean:  2.952513966480447\n",
      "Mario's std:  1.3782958842796846\n",
      "Mario's n:  358\n",
      "Luigi's mean:  3.206896551724138\n",
      "Luigi's std:  1.4459376674399615\n",
      "Luigi's n:  435\n"
     ]
    }
   ],
   "source": [
    "print(\"Mario's mean: \", mario[\"pizzas\"].mean())\n",
    "print(\"Mario's std: \", mario[\"pizzas\"].std())\n",
    "print(\"Mario's n: \", len(mario))\n",
    "print(\"Luigi's mean: \", luigi[\"pizzas\"].mean())\n",
    "print(\"Luigi's std: \", luigi[\"pizzas\"].std())\n",
    "print(\"Luigi's n: \", len(luigi))\n"
   ]
  },
  {
   "cell_type": "code",
   "execution_count": 217,
   "metadata": {},
   "outputs": [
    {
     "data": {
      "text/plain": [
       "-2.529609882819934"
      ]
     },
     "execution_count": 217,
     "metadata": {},
     "output_type": "execute_result"
    }
   ],
   "source": [
    "(2.952513966480447-3.206896551724138)/math.sqrt(((1.3782958842796846*1.3782958842796846)/358)+(( 1.4459376674399615* 1.4459376674399615)/435))"
   ]
  },
  {
   "cell_type": "code",
   "execution_count": 219,
   "metadata": {},
   "outputs": [
    {
     "name": "stdout",
     "output_type": "stream",
     "text": [
      "P value\n"
     ]
    },
    {
     "data": {
      "text/plain": [
       "0.0057094706035383186"
      ]
     },
     "execution_count": 219,
     "metadata": {},
     "output_type": "execute_result"
    }
   ],
   "source": [
    "print(\"P value\")\n",
    "stats.norm.cdf((2.952513966480447-3.206896551724138)/math.sqrt(((1.3782958842796846*1.3782958842796846)/358)+(( 1.4459376674399615* 1.4459376674399615)/435)))"
   ]
  },
  {
   "cell_type": "markdown",
   "metadata": {},
   "source": [
    "**Since -2.53 is less than -1.644, and our p-value .006 < our alpha value .05 we know seeing this mean is very rare, and it is fair to reject the null hypothesis and say that Luigi is performing better than Mario to a statistically significant level. **"
   ]
  },
  {
   "cell_type": "markdown",
   "metadata": {},
   "source": [
    "---\n",
    "[Back to top](#top)\n",
    "<a id='p3'></a>\n",
    "\n",
    "### [20 points] Problem 3 - Naps vs Coffee for Memory? \n",
    "\n",
    "It is estimated that [about 75% of adults](https://www.ncbi.nlm.nih.gov/pmc/articles/PMC4997286/) in the United States drink coffee. Often, coffee is used to replace the need for sleep. It works alright, or so I think. Let's find out, in this exciting homework problem!\n",
    "\n",
    "One recent study investigated the effects of drinking coffee, taking a nap, and having a [\"coffee-nap\"](https://lifehacker.com/naps-vs-coffee-which-is-better-when-youre-exhausted-1730643671) - the practice of drinking some coffee *and then* having a short nap. The study broke participants up into three groups of 10 participants each, where the groups would have a nap, or have a coffee, or have a coffee-nap, then perform a task where their reaction time was measured. In previous experiments the mean reaction time measurement was found to be normally distributed. The reaction time means (milliseconds, ms) and standard deviations for the three groups of participants are given in the table below.\n",
    "\n",
    "$$\n",
    "\\begin{array}{c|c|c|c}\n",
    "\\textrm{Group} & \\textrm{Sample Size} & \\textrm{Mean} & \\textrm{Standard Deviation} \\\\\n",
    "\\hline \n",
    "\\textrm{Coffee+Nap} & 10 & 451.3 & 31.9 \\\\ \n",
    "\\textrm{Coffee} & 10 & 494.2 & 39.6 \\\\ \n",
    "\\textrm{Nap} & 10 & 492.8 & 45.2 \\\\ \n",
    "\\end{array}\n",
    "$$\n",
    "\n",
    "**Part A**: Compute a 95% t-confidence interval for the mean reaction time measurement for participants in each of these three groups. (You should find three separate confidence intervals.) Do all computations in Python, and report the results.  Can you make any conclusions regarding whether coffee, naps or both (coffee-naps) are better for faster reaction times?"
   ]
  },
  {
   "cell_type": "markdown",
   "metadata": {
    "collapsed": true
   },
   "source": [
    "**The t values can be computed using the following formula: lower bound = $\\bar{x} - t* \\frac{\\sigma}{\\sqrt{n}}$ and upper bound = $\\bar{x} + t* \\frac{\\sigma}{\\sqrt{n}}$where t = stats.t.ppf(.95, 9) since our confidence level is 95%, and our degrees of freedom, n-1, is 9.  **"
   ]
  },
  {
   "cell_type": "code",
   "execution_count": 34,
   "metadata": {},
   "outputs": [
    {
     "name": "stdout",
     "output_type": "stream",
     "text": [
      "The t-value for a 95% t-confidence interval with 9 degrees of freedom is:  1.83311293265\n"
     ]
    }
   ],
   "source": [
    "print(\"The t-value for a 95% t-confidence interval with 9 degrees of freedom is: \", stats.t.ppf(.95,9))"
   ]
  },
  {
   "cell_type": "code",
   "execution_count": 35,
   "metadata": {},
   "outputs": [
    {
     "name": "stdout",
     "output_type": "stream",
     "text": [
      "469.79069129397277 432.80930870602725\n"
     ]
    }
   ],
   "source": [
    "coffeenap_upper = 451.3 + (1.833*(31.9/math.sqrt(10)))\n",
    "coffeenap_lower = 451.3 - (1.833*(31.9/math.sqrt(10)))\n",
    "print(coffeenap_upper, coffeenap_lower)"
   ]
  },
  {
   "cell_type": "code",
   "execution_count": 36,
   "metadata": {},
   "outputs": [
    {
     "name": "stdout",
     "output_type": "stream",
     "text": [
      "517.153961606311 471.246038393689\n"
     ]
    }
   ],
   "source": [
    "coffee_upper = 494.2 + (1.833*(39.6/math.sqrt(10)))\n",
    "coffee_lower = 494.2 - (1.833*(39.6/math.sqrt(10)))\n",
    "print(coffee_upper, coffee_lower)"
   ]
  },
  {
   "cell_type": "code",
   "execution_count": 37,
   "metadata": {},
   "outputs": [
    {
     "name": "stdout",
     "output_type": "stream",
     "text": [
      "518.9999763789207 466.60002362107934\n"
     ]
    }
   ],
   "source": [
    "nap_upper = 492.8 + (1.833*(45.2/math.sqrt(10)))\n",
    "nap_lower = 492.8 - (1.833*(45.2/math.sqrt(10)))\n",
    "print(nap_upper, nap_lower)"
   ]
  },
  {
   "cell_type": "markdown",
   "metadata": {},
   "source": [
    "And we can plug in each sample's details like so (computed above):\n",
    "\n",
    "**Coffee+Nap: **\n",
    "\n",
    "lower bound: $451.3 - 1.833* \\frac{31.9}{\\sqrt{10}}$ \n",
    "\n",
    "upper bound: $451.3 + 1.833* \\frac{31.9}{\\sqrt{10}}$ \n",
    "\n",
    "Confidence t-interval = (469.491, 432.509)\n",
    "\n",
    "**Coffee: **\n",
    "\n",
    "lower bound: $494.2 - 1.833* \\frac{39.6}{\\sqrt{10}}$ \n",
    "\n",
    "upper bound: $494.2 + 1.833* \\frac{39.6}{\\sqrt{10}}$ \n",
    "\n",
    "Confidence t-interval = (517.154, 471.246)\n",
    "\n",
    "**Nap: **\n",
    "\n",
    "lower bound: $492.8 - 1.833* \\frac{45.2}{\\sqrt{10}}$ \n",
    "\n",
    "upper bound: $492.8 + 1.833* \\frac{45.2}{\\sqrt{10}}$ \n",
    "\n",
    "\n",
    "Confidence t-interval = (519.000, 466.600)\n"
   ]
  },
  {
   "cell_type": "markdown",
   "metadata": {},
   "source": [
    "**Part B**: Use an appropriate hypothesis test to determine if there sufficient evidence, at the $\\alpha = 0.05$ significance level, to conclude that taking a nap promotes faster reaction time than drinking coffee.  Be sure to clearly explain the test that you're doing and state all hypotheses. Do all computations in Python, and report results."
   ]
  },
  {
   "cell_type": "markdown",
   "metadata": {},
   "source": [
    "Let $\\theta$ = Mean reaction time of drinking coffee, and $\\theta_0$ = Mean reaction time of nap takers. Since we are trying to find out if the reaction time is faster for nap takers, the mean should be smaller. Therefore we are left with:\n",
    "\n",
    "**Null Hypothesis: $H_0: \\theta = \\theta_0$**\n",
    "\n",
    "**Alternate Hypothesis: $H_1: \\theta > \\theta_0$**"
   ]
  },
  {
   "cell_type": "code",
   "execution_count": 222,
   "metadata": {},
   "outputs": [
    {
     "name": "stdout",
     "output_type": "stream",
     "text": [
      "The t value for this test is: -1.83311293265\n"
     ]
    }
   ],
   "source": [
    "print(\"The t value for this test is:\", -stats.t.ppf(.95,9))"
   ]
  },
  {
   "cell_type": "code",
   "execution_count": 220,
   "metadata": {},
   "outputs": [
    {
     "data": {
      "text/plain": [
       "-0.07367196689546883"
      ]
     },
     "execution_count": 220,
     "metadata": {},
     "output_type": "execute_result"
    }
   ],
   "source": [
    "(492.8-494.2)/math.sqrt(((45.2*45.2)/10)+((39.6*39.6)/10))"
   ]
  },
  {
   "cell_type": "markdown",
   "metadata": {},
   "source": [
    "**Part C**: Use an appropriate hypothesis test to determine if there is sufficient evidence, at the $\\alpha = 0.05$ significance level, to conclude that taking a coffee-nap promotes faster reaction time than only drinking coffee, or only having a nap.  Be sure to clearly explain the test that you're doing and state all hypotheses. Do all computations in Python, and report results."
   ]
  },
  {
   "cell_type": "code",
   "execution_count": 221,
   "metadata": {},
   "outputs": [
    {
     "data": {
      "text/plain": [
       "-2.580792871533051"
      ]
     },
     "execution_count": 221,
     "metadata": {},
     "output_type": "execute_result"
    }
   ],
   "source": [
    "(451.3-492.8)/math.sqrt(((31.9*31.9)/10)+((39.6*39.6)/10))"
   ]
  },
  {
   "cell_type": "markdown",
   "metadata": {},
   "source": [
    "** Since -2.580792871533051 < -1.83311293265 there is significant evidence to reject the null hypothesis and claim that Coffee-nap promotes better reaction time then just drinking Coffee.**"
   ]
  },
  {
   "cell_type": "code",
   "execution_count": 223,
   "metadata": {},
   "outputs": [
    {
     "data": {
      "text/plain": [
       "-2.452169338545207"
      ]
     },
     "execution_count": 223,
     "metadata": {},
     "output_type": "execute_result"
    }
   ],
   "source": [
    "(451.3-494.2)/math.sqrt(((45.2*45.2)/10)+((31.9*31.9)/10))"
   ]
  },
  {
   "cell_type": "markdown",
   "metadata": {},
   "source": [
    "** Since -2.452169338545207 < -1.83311293265 there is significant evidence to reject the null hypothesis and claim that Coffee-nap promotes better reaction time then just taking a nap.**"
   ]
  },
  {
   "cell_type": "markdown",
   "metadata": {},
   "source": [
    "**Part D**: Compute a 95% confidence interval for the standard deviation of reaction time for coffee-nap takers. Do all computations in Python, and report the results."
   ]
  },
  {
   "cell_type": "markdown",
   "metadata": {},
   "source": [
    "** this follows a chi-square distribution and can be computed like so: **\n",
    "\n",
    "** (df x std^2)/(chi-test statistic ^2) for both the upper and lower chi-square test statistic (from table)**\n",
    "**in this case df = 9 b/c n is 10**"
   ]
  },
  {
   "cell_type": "code",
   "execution_count": 336,
   "metadata": {},
   "outputs": [
    {
     "name": "stdout",
     "output_type": "stream",
     "text": [
      "The CI for the standard deviation is: \n",
      "1256.3086419753085 25.308468173508835\n"
     ]
    }
   ],
   "source": [
    "upper = (9*31.9**2)/(2.7**2) \n",
    "lower = (9*31.9**2)/(19.023**2)\n",
    "print(\"The CI for the standard deviation is: \")\n",
    "print(upper, lower)"
   ]
  },
  {
   "cell_type": "markdown",
   "metadata": {},
   "source": [
    "---\n",
    "[Back to top](#top)\n",
    "<a id='p4'></a>\n",
    "\n",
    "### [15 points] Problem 4 - Bad Science for Fun and Profit \n",
    "\n",
    "[Data Dredging](https://en.wikipedia.org/wiki/Data_dredging) and [p-hacking](https://www.explainxkcd.com/wiki/index.php/882:_Significant) are umbrella terms for the dangerous practice of automatically testing a large number of hypotheses on the entirety or subsets of a single dataset in order to find statistically significant results. In this exercise we will focus on the idea of testing hypotheses on subsets of a single data set.  \n",
    "\n",
    "Johnny Nefarious has landed his first data science internship at an online marketing firm.  His primary summer project has been to design and test a new email advertisement for his company's best-selling product. To test his advertisement his supervisors have allowed him to send his ad to 4 targeted customer groups of 50 people every day for a month, and keep track of which email client (Outlook or Gmail) the customers use.\n",
    "\n",
    "The effectiveness of online advertising is typically measured by the ad's [click-through rate](https://en.wikipedia.org/wiki/Click-through_rate) (CTR), which is defined to be the _proportion_ of users that click on an advertisement. The company's standard email advertisement has a CTR of $0.05$.  Johnny is hoping to land a permanent position at the company when he graduates, so he's **really** motivated to show his supervisors that the CTR of his email advertisement is a (statistically) significant improvement over their previous ad. \n",
    "\n",
    "The data from Johnny's summer experiment can be found in [`email.csv`](https://piazza.com/class_profile/get_resource/jhaqogsdelf76h/jja0n7qay9y674). Load this dataset into Pandas. "
   ]
  },
  {
   "cell_type": "code",
   "execution_count": 38,
   "metadata": {},
   "outputs": [
    {
     "data": {
      "text/html": [
       "<div>\n",
       "<style>\n",
       "    .dataframe thead tr:only-child th {\n",
       "        text-align: right;\n",
       "    }\n",
       "\n",
       "    .dataframe thead th {\n",
       "        text-align: left;\n",
       "    }\n",
       "\n",
       "    .dataframe tbody tr th {\n",
       "        vertical-align: top;\n",
       "    }\n",
       "</style>\n",
       "<table border=\"1\" class=\"dataframe\">\n",
       "  <thead>\n",
       "    <tr style=\"text-align: right;\">\n",
       "      <th></th>\n",
       "      <th>Group</th>\n",
       "      <th>Client</th>\n",
       "      <th>Sent</th>\n",
       "      <th>Clicked</th>\n",
       "    </tr>\n",
       "  </thead>\n",
       "  <tbody>\n",
       "    <tr>\n",
       "      <th>0</th>\n",
       "      <td>1</td>\n",
       "      <td>Gmail</td>\n",
       "      <td>50</td>\n",
       "      <td>4</td>\n",
       "    </tr>\n",
       "    <tr>\n",
       "      <th>1</th>\n",
       "      <td>1</td>\n",
       "      <td>Gmail</td>\n",
       "      <td>50</td>\n",
       "      <td>3</td>\n",
       "    </tr>\n",
       "    <tr>\n",
       "      <th>2</th>\n",
       "      <td>1</td>\n",
       "      <td>Gmail</td>\n",
       "      <td>50</td>\n",
       "      <td>1</td>\n",
       "    </tr>\n",
       "    <tr>\n",
       "      <th>3</th>\n",
       "      <td>1</td>\n",
       "      <td>Outlook</td>\n",
       "      <td>50</td>\n",
       "      <td>4</td>\n",
       "    </tr>\n",
       "    <tr>\n",
       "      <th>4</th>\n",
       "      <td>1</td>\n",
       "      <td>Gmail</td>\n",
       "      <td>50</td>\n",
       "      <td>3</td>\n",
       "    </tr>\n",
       "  </tbody>\n",
       "</table>\n",
       "</div>"
      ],
      "text/plain": [
       "   Group   Client  Sent  Clicked\n",
       "0      1    Gmail    50        4\n",
       "1      1    Gmail    50        3\n",
       "2      1    Gmail    50        1\n",
       "3      1  Outlook    50        4\n",
       "4      1    Gmail    50        3"
      ]
     },
     "execution_count": 38,
     "metadata": {},
     "output_type": "execute_result"
    }
   ],
   "source": [
    "dfAd = pd.read_csv(\"/home/elena/email.csv\")\n",
    "dfAd.head()"
   ]
  },
  {
   "cell_type": "markdown",
   "metadata": {},
   "source": [
    "**Part A**: State the null and alternate hypotheses that Johnny should test to see if his ad campaign is an improvement over the company's standard mailer with a CTR of $0.05$. "
   ]
  },
  {
   "cell_type": "markdown",
   "metadata": {},
   "source": [
    "**The null hypothesis that the click through rate is 0.05 can be represented as: $H_0: p = 0.05$ and alternate hypothesis would be, $H_1: p > 0.05$.**"
   ]
  },
  {
   "cell_type": "markdown",
   "metadata": {},
   "source": [
    "**Part B**: Test the hypothesis from **Part A** at the $\\alpha = 0.05$ significance level using a p-value test. Is there sufficient evidence for Johnny to conclude that his ad campaign is an improvement?   "
   ]
  },
  {
   "cell_type": "code",
   "execution_count": 55,
   "metadata": {},
   "outputs": [
    {
     "name": "stdout",
     "output_type": "stream",
     "text": [
      "Mean CTR:  0.0513333333333\n",
      "standard Deviation:  0.030521395046\n"
     ]
    }
   ],
   "source": [
    "ctrs = np.array([])\n",
    "for index, row in dfAd.iterrows():\n",
    "    ctr = row['Clicked']/row['Sent']\n",
    "    ctrs = np.append(ctrs, ctr)\n",
    "print(\"Mean CTR: \", ctrs.mean())\n",
    "print(\"standard Deviation: \", ctrs.std())"
   ]
  },
  {
   "cell_type": "code",
   "execution_count": 70,
   "metadata": {},
   "outputs": [
    {
     "data": {
      "text/plain": [
       "0.03460723650703077"
      ]
     },
     "execution_count": 70,
     "metadata": {},
     "output_type": "execute_result"
    }
   ],
   "source": [
    "(0.0513333333333 - .05)/math.sqrt((.05*(1-.05))/len(ctrs))"
   ]
  },
  {
   "cell_type": "code",
   "execution_count": 60,
   "metadata": {},
   "outputs": [
    {
     "data": {
      "text/plain": [
       "1.6448536269514722"
      ]
     },
     "execution_count": 60,
     "metadata": {},
     "output_type": "execute_result"
    }
   ],
   "source": [
    "stats.norm.ppf(0.95) "
   ]
  },
  {
   "cell_type": "markdown",
   "metadata": {},
   "source": [
    "**Since the z-critical value computed, 0.0346, is not greater than the z value that defines the rejection region, 1.65, which is needed to reject the null hypothesis, Johnny does not have enough evidence to suggest that the ad campaign provides a statistically significant improvement in CTR.**"
   ]
  },
  {
   "cell_type": "markdown",
   "metadata": {},
   "source": [
    "**Part C**: \"Aw, shucks!\", Johnny thinks. This is the part where he decides to resort to some questionable science.  Maybe there is a reasonable subset of the data for which his alternative hypothesis is supported?  Can he find it?  Can he come up for a reasonable justification for why this subset of the data should be considered while the rest should be discarded? \n",
    "\n",
    "Here are the **rules**: Johnny cannot modify the original data (e.g. by adding nonexistent clicks to certain groups) because his boss will surely notice.  Instead he needs to find a subset of the data for which his hypothesis is supported by a p-value test at the $\\alpha = 0.05$ significance level _and_ be able to explain to his supervisors why his sub-selection of the data is reasonable.  \n",
    "\n",
    "In addition to your explanation of why your successful subset of the data is potentially reasonable, be sure to thoroughly explain the details of the tests that you perform and show all of your Python computation.  "
   ]
  },
  {
   "cell_type": "code",
   "execution_count": 148,
   "metadata": {},
   "outputs": [
    {
     "name": "stdout",
     "output_type": "stream",
     "text": [
      "Mean CTR:  0.091875\n",
      "standard Deviation:  0.0156998208589\n",
      "N:  32\n"
     ]
    }
   ],
   "source": [
    "ctrs = np.array([])\n",
    "for index, row in dfAd.iterrows():\n",
    "    ctr = row['Clicked']/row['Sent']\n",
    "    if(ctr >= .07):\n",
    "        ctrs = np.append(ctrs, ctr)\n",
    "print(\"Mean CTR: \", ctrs.mean())\n",
    "print(\"standard Deviation: \", ctrs.std())\n",
    "print(\"N: \", len(ctrs))"
   ]
  },
  {
   "cell_type": "code",
   "execution_count": 160,
   "metadata": {},
   "outputs": [
    {
     "name": "stdout",
     "output_type": "stream",
     "text": [
      "Maybe the hypothesis itself was wrong, let's just go back and change the alternate hypothesis to be p > .04\n",
      "Z-crit value for subset: \n"
     ]
    },
    {
     "data": {
      "text/plain": [
       "1.7291666666666667"
      ]
     },
     "execution_count": 160,
     "metadata": {},
     "output_type": "execute_result"
    }
   ],
   "source": [
    "print(\"Maybe the hypothesis itself was wrong, let's just go back and change the alternate hypothesis to be p > .04\")\n",
    "print(\"Z-crit value for subset: \")\n",
    "#fill in .04 for .05 \n",
    "(0.091875 - .04)/math.sqrt((.03*(1 -.04))/len(ctrs))"
   ]
  },
  {
   "cell_type": "markdown",
   "metadata": {},
   "source": [
    "And viola! Since 1.729 > 1.65, the results are significant enough for Johnny to reject the null hypothesis."
   ]
  },
  {
   "cell_type": "markdown",
   "metadata": {},
   "source": [
    "**Johnny did nothing to change the original data, and hopefully he can tell his boss that with a straight face. If not, he doesn't deserve to be in this cut-throat business. He basically moved the goal posts to test at the same significance level against a different p-value, and on top of that only selected data points with a CTR that was greater than or equal to .07. He could justify this to his boss by saying that the higher datapoints are more *interesting* and we should focus on our success because it makes us feel good.**"
   ]
  },
  {
   "cell_type": "markdown",
   "metadata": {},
   "source": [
    "---\n",
    "[Back to top](#top)\n",
    "<a id='p5'></a>\n",
    "\n",
    "### [15 points] Problem 5 - Simple Linear Regression for the Consumption of Ice Cream Treats\n",
    "\n",
    "The data in [`icecream.csv`](https://piazza.com/class_profile/get_resource/jhaqogsdelf76h/jja0n80849467a) contains information on a particular runner's ice cream eaten (in scoops) and miles run on particular days over the past year. In this exercise you will construct a simple linear regression model for the response variable \"amount of ice cream consumed\" (`scoops`), using \"number of miles run\" (`miles`) as the feature. Load the data into a Pandas DataFrame."
   ]
  },
  {
   "cell_type": "code",
   "execution_count": 229,
   "metadata": {},
   "outputs": [
    {
     "data": {
      "text/plain": [
       "100"
      ]
     },
     "execution_count": 229,
     "metadata": {},
     "output_type": "execute_result"
    }
   ],
   "source": [
    "dfTreats = pd.read_csv(\"/home/elena/icecream.csv\")\n",
    "dfTreats.head()\n"
   ]
  },
  {
   "cell_type": "markdown",
   "metadata": {},
   "source": [
    "**Part A**: Perform a simple linear regression with `miles` as the feature and `scoops` as the response.  Report the estimated regression model in the form $Y = \\alpha + \\beta x$. Do all computations in Python. "
   ]
  },
  {
   "cell_type": "code",
   "execution_count": 238,
   "metadata": {},
   "outputs": [
    {
     "name": "stdout",
     "output_type": "stream",
     "text": [
      "Alpha = 2.88047729639\n",
      "Beta = 0.415533124951\n",
      "Regression Line: Y =  2.88047729639 + 0.415533124951 x\n"
     ]
    },
    {
     "data": {
      "text/plain": [
       "0     8.822821\n",
       "1     6.770495\n",
       "2     8.668576\n",
       "3     8.146710\n",
       "4     9.551906\n",
       "5     5.711998\n",
       "6     8.291190\n",
       "7     7.175169\n",
       "8     5.518207\n",
       "9     8.786929\n",
       "10    7.372100\n",
       "11    9.235549\n",
       "12    5.834610\n",
       "13    7.736248\n",
       "14    5.696787\n",
       "15    5.942269\n",
       "16    6.520570\n",
       "17    5.940855\n",
       "18    6.668322\n",
       "19    8.262656\n",
       "20    7.850904\n",
       "21    5.694391\n",
       "22    6.669112\n",
       "23    3.447010\n",
       "24    4.975827\n",
       "25    7.107693\n",
       "26    8.970198\n",
       "27    4.841267\n",
       "28    5.080523\n",
       "29    7.360473\n",
       "        ...   \n",
       "70    5.460395\n",
       "71    7.119351\n",
       "72    5.936471\n",
       "73    4.464611\n",
       "74    9.243262\n",
       "75    5.869671\n",
       "76    7.874186\n",
       "77    7.473346\n",
       "78    8.805009\n",
       "79    5.919889\n",
       "80    5.426009\n",
       "81    9.407866\n",
       "82    8.149784\n",
       "83    9.597319\n",
       "84    4.999223\n",
       "85    3.704755\n",
       "86    5.430884\n",
       "87    5.026321\n",
       "88    5.420617\n",
       "89    5.596891\n",
       "90    5.340394\n",
       "91    6.645947\n",
       "92    7.973690\n",
       "93    4.880092\n",
       "94    4.658007\n",
       "95    7.594194\n",
       "96    8.490702\n",
       "97    3.535931\n",
       "98    9.127248\n",
       "99    4.427078\n",
       "Name: miles, Length: 100, dtype: float64"
      ]
     },
     "execution_count": 238,
     "metadata": {},
     "output_type": "execute_result"
    }
   ],
   "source": [
    "def regression(x,y):\n",
    "    xbar = x.mean()\n",
    "    ybar = y.mean()\n",
    "    numerator = np.array((x-xbar)*(y-ybar)).sum()\n",
    "    denominator = np.array((x-xbar)*(x-xbar)).sum()\n",
    "    beta = numerator/denominator\n",
    "    alpha = ybar - beta*xbar\n",
    "    yhat = alpha + beta*x\n",
    "    print(\"Alpha =\", alpha)\n",
    "    print(\"Beta =\", beta)\n",
    "    print(\"Regression Line: Y = \", alpha, '+',beta, 'x')\n",
    "    return yhat\n",
    "regression(dfTreats['miles'],dfTreats['scoops'])"
   ]
  },
  {
   "cell_type": "markdown",
   "metadata": {},
   "source": [
    "**Part B**: Make a scatter-plot of the data with `miles` as the feature and `scoops` as the response, and overlay the estimated regression line.  Clearly label all relevant plot elements and include a legend."
   ]
  },
  {
   "cell_type": "code",
   "execution_count": 253,
   "metadata": {},
   "outputs": [
    {
     "name": "stdout",
     "output_type": "stream",
     "text": [
      "Alpha = 2.88047729639\n",
      "Beta = 0.415533124951\n",
      "Regression Line: Y =  2.88047729639 + 0.415533124951 x\n"
     ]
    },
    {
     "data": {
      "text/plain": [
       "Text(0.5,1,'Scoops per Mile')"
      ]
     },
     "execution_count": 253,
     "metadata": {},
     "output_type": "execute_result"
    },
    {
     "data": {
      "image/png": "[encoded data removed]",
      "text/plain": [
       "<matplotlib.figure.Figure at 0x7f5c29178d68>"
      ]
     },
     "metadata": {},
     "output_type": "display_data"
    }
   ],
   "source": [
    "fig, ax = plt.subplots()\n",
    "scatter = ax.scatter(dfTreats['miles'], dfTreats['scoops'])\n",
    "line = ax.plot(dfTreats['miles'],regression(dfTreats['miles'],dfTreats['scoops']),color='red')\n",
    "ax.set_xlabel(\"Miles\", fontdict=None, labelpad=None)\n",
    "ax.set_ylabel(\"Scoops\", fontdict=None, labelpad=None)\n",
    "ax.set_title(\"Scoops per Mile\")"
   ]
  },
  {
   "cell_type": "markdown",
   "metadata": {},
   "source": [
    "**Part C**: Give a physical interpretation of the coefficients $\\hat{\\alpha}$ and $\\hat{\\beta}$, estimated from your model. Is the relationship between run lengths and ice cream consumption positive or negative? Fully justify your responses."
   ]
  },
  {
   "cell_type": "markdown",
   "metadata": {},
   "source": [
    "**$\\hat{\\alpha}$ is the estimate of the $\\alpha$ coefficient, that becomes more accurate as the model progresses. $\\alpha$ ends up representing a baseline number of scoops in this problem as it is the y intercept. $\\hat{\\beta}$ is similar but represents the estimation of the $\\beta$ coefficient which measures the slope of the regression line. The rekationship between run lengths and ice cream consumption is positive, because $\\beta$ is positive which means as the number of miles increases so does the amount of icecream consumed.**"
   ]
  },
  {
   "cell_type": "markdown",
   "metadata": {},
   "source": [
    "**Part D**: How much ice cream does your simple linear regression model predict the runner will consume if they run a marathon (26.2 miles)? What are potential drawbacks to this model for ice cream consumption?"
   ]
  },
  {
   "cell_type": "markdown",
   "metadata": {},
   "source": [
    "**My model predicts that after a marathon the runner will consume 14 scoops of icecream. This kind of extrapolation will lead to errors since common knowledge tells us that this model should not be divergent since no one can consume an infinite number of scoops of icecream. In fact the limit would be long before that, and the model should be able to contain a peak number of miles run and a peak number of scoops because both of those events are not limitless. **"
   ]
  },
  {
   "cell_type": "markdown",
   "metadata": {
    "collapsed": true
   },
   "source": [
    "**Part E**: Are there any other features you think should be added to the model, making this a *multiple* linear regression model?"
   ]
  },
  {
   "cell_type": "markdown",
   "metadata": {},
   "source": [
    "**It might be important to factor in age because it is very possible that age has an effect on overall icecream consumption. **"
   ]
  },
  {
   "cell_type": "markdown",
   "metadata": {},
   "source": [
    "---\n",
    "[Back to top](#top)\n",
    "<a id='p6'></a>\n",
    "\n",
    "### [15 points] Problem 6 - \"Central Limit-ish Theorem\" for the Log-normal Distribution\n",
    "\n",
    "The log-normal distribution arises in many applications, such as (but not limited to!) modeling the distribution of extreme values like monthly rainfall, modeling the distribution of income for the bulk of the population, and the length of some board games. It is useful, but can be a little tough to wrap your head around at first. There is a \"logarithm\" right in the name, after all. So let's tame this beast.\n",
    "\n",
    "Execute the code below to obtain a sample of 10,000 random draws from a [log-normal distribution](https://docs.scipy.org/doc/numpy/reference/generated/numpy.random.lognormal.html) with parameters $\\mu = 3$ and $\\sigma = 0.25$."
   ]
  },
  {
   "cell_type": "code",
   "execution_count": 294,
   "metadata": {},
   "outputs": [
    {
     "data": {
      "image/png": "[encoded data removed]",
      "text/plain": [
       "<matplotlib.figure.Figure at 0x7f5c295359e8>"
      ]
     },
     "metadata": {},
     "output_type": "display_data"
    }
   ],
   "source": [
    "sigma = 0.25\n",
    "mu = 3\n",
    "n = 10000\n",
    "x = pd.Series(np.random.lognormal(mean=mu, sigma=sigma, size=n))\n",
    "fig, ax = plt.subplots(nrows=1, ncols=1, figsize=(8,5))\n",
    "x.hist(ax=ax, edgecolor=\"white\", bins=20, normed=True)\n",
    "ax.set_xlim([0,50])\n",
    "ax.set_xlabel('X')\n",
    "ax.set_ylabel('Density')\n",
    "ax.set_title('X ~ LogNorm({}, {})'.format(mu,sigma))\n",
    "ax.set_axisbelow(True)\n",
    "ax.grid(alpha=0.25);"
   ]
  },
  {
   "cell_type": "markdown",
   "metadata": {},
   "source": [
    "**Part A**: Recall that the log-normal pdf for a random variable $X$ is given by\n",
    "$$f(x \\mid \\mu, \\sigma) = \\dfrac{1}{x\\sigma \\sqrt{2 \\pi}} e^{-\\frac{1}{2}\\left(\\frac{\\log{x} - \\mu}{\\sigma}\\right)^2}$$\n",
    "\n",
    "Thus, if you have a random variable $X \\sim LogNorm(\\mu, \\sigma)$, the transformed random variable $Y = \\log(X)$ must have $Y \\sim N(\\mu, \\sigma^2)$. Verify this by plotting a density histogram of $Y = \\log(X)$, along with the normal pdf $f(y \\mid \\mu, \\sigma^2)$. Be sure to label everything in your _single-panel_ figure and include a legend. Write 1-2 sentences commenting on the agreement."
   ]
  },
  {
   "cell_type": "code",
   "execution_count": 327,
   "metadata": {},
   "outputs": [
    {
     "data": {
      "text/plain": [
       "(array([    4.,    94.,   459.,  1455.,  2751.,  2915.,  1595.,   590.,\n",
       "          122.,    15.]),\n",
       " array([-2.53702443, -2.41066674, -2.28430904, -2.15795135, -2.03159365,\n",
       "        -1.90523596, -1.77887827, -1.65252057, -1.52616288, -1.39980518,\n",
       "        -1.27344749]),\n",
       " <a list of 10 Patch objects>)"
      ]
     },
     "execution_count": 327,
     "metadata": {},
     "output_type": "execute_result"
    },
    {
     "data": {
      "image/png": "[encoded data removed]",
      "text/plain": [
       "<matplotlib.figure.Figure at 0x7f5c28cc1390>"
      ]
     },
     "metadata": {},
     "output_type": "display_data"
    }
   ],
   "source": [
    "results = []\n",
    "def X(x):\n",
    "    a = (1/((x*.25)*math.sqrt(2*math.pi)))\n",
    "    f = (x-3)\n",
    "    e = (f/.25)**2\n",
    "    d = math.log(e,10)\n",
    "    c= -.5*(d)\n",
    "    b = math.e**c\n",
    "    return math.log(a*b,10)\n",
    "    \n",
    "#print(x)\n",
    "results = x.apply(X)\n",
    "plt.hist(results)\n"
   ]
  },
  {
   "cell_type": "markdown",
   "metadata": {},
   "source": []
  },
  {
   "cell_type": "markdown",
   "metadata": {},
   "source": [
    "**Part B**: Now, read in the file [`lognorm.csv`](https://piazza.com/class_profile/get_resource/jhaqogsdelf76h/jja0n7bg98m66x), available linked here and on Piazza. These are 25 samples from a log-normal distribution with unknown parameters $\\mu$ and $\\sigma$. Use bootstrapping with at least 1,000 re-sampling iterations to obtain 95% confidence intervals for each of the median and the parameter $\\mu$ of the unknown log-normal distribution from which these data originate. Note that the two are related by $\\tilde{x} = e^{\\mu}$, so the two confidence intervals are related."
   ]
  },
  {
   "cell_type": "code",
   "execution_count": 164,
   "metadata": {},
   "outputs": [
    {
     "data": {
      "text/html": [
       "<div>\n",
       "<style>\n",
       "    .dataframe thead tr:only-child th {\n",
       "        text-align: right;\n",
       "    }\n",
       "\n",
       "    .dataframe thead th {\n",
       "        text-align: left;\n",
       "    }\n",
       "\n",
       "    .dataframe tbody tr th {\n",
       "        vertical-align: top;\n",
       "    }\n",
       "</style>\n",
       "<table border=\"1\" class=\"dataframe\">\n",
       "  <thead>\n",
       "    <tr style=\"text-align: right;\">\n",
       "      <th></th>\n",
       "      <th>10.676828893379225</th>\n",
       "    </tr>\n",
       "  </thead>\n",
       "  <tbody>\n",
       "    <tr>\n",
       "      <th>0</th>\n",
       "      <td>12.436454</td>\n",
       "    </tr>\n",
       "    <tr>\n",
       "      <th>1</th>\n",
       "      <td>13.765776</td>\n",
       "    </tr>\n",
       "    <tr>\n",
       "      <th>2</th>\n",
       "      <td>14.930567</td>\n",
       "    </tr>\n",
       "    <tr>\n",
       "      <th>3</th>\n",
       "      <td>9.339963</td>\n",
       "    </tr>\n",
       "    <tr>\n",
       "      <th>4</th>\n",
       "      <td>10.074658</td>\n",
       "    </tr>\n",
       "  </tbody>\n",
       "</table>\n",
       "</div>"
      ],
      "text/plain": [
       "   10.676828893379225\n",
       "0           12.436454\n",
       "1           13.765776\n",
       "2           14.930567\n",
       "3            9.339963\n",
       "4           10.074658"
      ]
     },
     "execution_count": 164,
     "metadata": {},
     "output_type": "execute_result"
    }
   ],
   "source": [
    "dfLog = pd.read_csv(\"/home/elena/lognorm.csv\")\n",
    "dfLog.head()"
   ]
  },
  {
   "cell_type": "code",
   "execution_count": 166,
   "metadata": {},
   "outputs": [
    {
     "data": {
      "text/plain": [
       "array([ 12.43645368,  13.76577576,  14.93056694, ...,   6.        ,\n",
       "        15.        ,  12.        ])"
      ]
     },
     "execution_count": 166,
     "metadata": {},
     "output_type": "execute_result"
    }
   ],
   "source": [
    "def bootstrap_resample(X, n=None):\n",
    "    if n == None:\n",
    "        n = len(X)  \n",
    "    resample_i = np.floor(np.random.rand(n)*len(X)).astype(int)\n",
    "    X_resample = np.append(dfLog, resample_i)\n",
    "    return X_resample\n",
    "bootstrap_resample(dfLog, 1000)"
   ]
  },
  {
   "cell_type": "markdown",
   "metadata": {},
   "source": [
    "**Since we bootstrapped, we can take advantage of the CLT and use the classic confidence interval formula**"
   ]
  },
  {
   "cell_type": "code",
   "execution_count": 243,
   "metadata": {},
   "outputs": [
    {
     "name": "stdout",
     "output_type": "stream",
     "text": [
      "Mean:  11.1535087304\n"
     ]
    }
   ],
   "source": [
    "bootlog = bootstrap_resample(dfLog, 1000)\n",
    "print(\"Mean: \", bootlog.mean())"
   ]
  },
  {
   "cell_type": "code",
   "execution_count": 245,
   "metadata": {},
   "outputs": [
    {
     "name": "stdout",
     "output_type": "stream",
     "text": [
      "Std:  6.88820414463\n"
     ]
    }
   ],
   "source": [
    "print(\"Std: \", bootlog.std())"
   ]
  },
  {
   "cell_type": "code",
   "execution_count": 246,
   "metadata": {},
   "outputs": [
    {
     "name": "stdout",
     "output_type": "stream",
     "text": [
      "n:  1024\n"
     ]
    }
   ],
   "source": [
    "print(\"n: \", len(bootlog))"
   ]
  },
  {
   "cell_type": "code",
   "execution_count": 244,
   "metadata": {},
   "outputs": [
    {
     "data": {
      "text/plain": [
       "1.6448536269514722"
      ]
     },
     "execution_count": 244,
     "metadata": {},
     "output_type": "execute_result"
    }
   ],
   "source": [
    "stats.norm.ppf(.95)"
   ]
  },
  {
   "cell_type": "code",
   "execution_count": 247,
   "metadata": {},
   "outputs": [
    {
     "data": {
      "text/plain": [
       "11.5075739669774"
      ]
     },
     "execution_count": 247,
     "metadata": {},
     "output_type": "execute_result"
    }
   ],
   "source": [
    "11.1535087304 + (1.6448536269514722 *(math.sqrt((6.88820414463*6.88820414463)/1024)))"
   ]
  },
  {
   "cell_type": "code",
   "execution_count": 248,
   "metadata": {},
   "outputs": [
    {
     "data": {
      "text/plain": [
       "10.7994434938226"
      ]
     },
     "execution_count": 248,
     "metadata": {},
     "output_type": "execute_result"
    }
   ],
   "source": [
    "11.1535087304 - (1.6448536269514722 *(math.sqrt((6.88820414463*6.88820414463)/1024)))"
   ]
  },
  {
   "cell_type": "markdown",
   "metadata": {},
   "source": [
    "**The confidence interval is (11.508,  10.799)**"
   ]
  },
  {
   "cell_type": "markdown",
   "metadata": {},
   "source": [
    "**Part C**: If $Y$ is normally distributed with mean $\\mu$ and standard deviation $\\sigma$, the Central Limit Theorem and what is commonly known as the [\"68-95-99.7 Rule\"](https://en.wikipedia.org/wiki/68%E2%80%9395%E2%80%9399.7_rule) suggest that:\n",
    "* 68.3% of the data for $Y$ fall within the interval $[\\mu - \\sigma, \\mu + \\sigma]$\n",
    "* 95.4% of the data fall within the interval $[\\mu - 2\\sigma, \\mu + 2\\sigma]$\n",
    "* 99.7% of the data fall within the interval $[\\mu - 3\\sigma, \\mu + 3\\sigma]$\n",
    "\n",
    "If we have $X \\sim LogNorm(\\mu, \\sigma)$, then $Y = \\log(X) \\sim N(\\mu, \\sigma^2)$ follows this 68-95-99.7 Rule for normal distributions. Since $Y = \\log(X)$ is a one-to-one function, we can develop a similar 68-95-99.7 Rule for the log-normal distribution. This is just one of many reasons why we love one-to-one functions! Take the 68% part of the rule, for example.\n",
    "\n",
    "* 68.3% of the data for $Y$ are within $[\\mu - \\sigma, \\mu + \\sigma]$.\n",
    "* This means that 68.3% of the data for $X = e^Y$ are within $\\left[ e^{\\mu - \\sigma}, e^{\\mu + \\sigma}\\right] = \\left[ e^{\\mu}/e^{\\sigma}, ~~ e^{\\mu} e^{\\sigma}\\right]$\n",
    "* For brevity's sake, we often rewrite $m = e^{\\mu}$ and $s = e^{\\sigma}$, so that this interval becomes $[m/s, ms]$. Note that $m = \\tilde{x}$ is the median.\n",
    "\n",
    "Formulate a hypothesis regarding the form for the 95 and 99.7% parts of the Rule are for the log-normal distribution. Then, finish the code below to verify that your hypotheses are correct."
   ]
  },
  {
   "cell_type": "markdown",
   "metadata": {},
   "source": [
    "** If the data is distributed logrithmically then it will be skewed and one side will be contributing greater to the total percentage of the data that falls within a region, and the total area will change because it should be equal to the integral of the range. So if there is a range that is one standard deviation above and below, the area should equal the cdf of the function from one standard deviation below and above the mean as the bounds and since the distribution is some function that involves e to a power, the area should increase exponentially because the integral of e^x is e^x. **"
   ]
  },
  {
   "cell_type": "code",
   "execution_count": 328,
   "metadata": {
    "collapsed": true
   },
   "outputs": [],
   "source": [
    "sigma = 0.25\n",
    "mu = 3\n",
    "n = 10000\n",
    "x = pd.Series(np.random.lognormal(mean=mu, sigma=sigma, size=n))"
   ]
  },
  {
   "cell_type": "code",
   "execution_count": 356,
   "metadata": {},
   "outputs": [
    {
     "data": {
      "text/plain": [
       "1.6038242145315998e-13"
      ]
     },
     "execution_count": 356,
     "metadata": {},
     "output_type": "execute_result"
    }
   ],
   "source": [
    "#one std from mean \n",
    "stats.lognorm.cdf(3.25,s = .25,scale = math.e**3)"
   ]
  },
  {
   "cell_type": "code",
   "execution_count": 357,
   "metadata": {},
   "outputs": [
    {
     "data": {
      "text/plain": [
       "1.3847739539286893e-12"
      ]
     },
     "execution_count": 357,
     "metadata": {},
     "output_type": "execute_result"
    }
   ],
   "source": [
    "#two std from mean \n",
    "stats.lognorm.cdf(3.5,s = .25,scale = math.e** 3)"
   ]
  },
  {
   "cell_type": "code",
   "execution_count": 358,
   "metadata": {},
   "outputs": [
    {
     "data": {
      "text/plain": [
       "9.5346826099919074e-12"
      ]
     },
     "execution_count": 358,
     "metadata": {},
     "output_type": "execute_result"
    }
   ],
   "source": [
    "#three std from mean \n",
    "stats.lognorm.cdf(3.75,s = .25,scale = math.e**3)"
   ]
  },
  {
   "cell_type": "code",
   "execution_count": null,
   "metadata": {
    "collapsed": true
   },
   "outputs": [],
   "source": []
  }
 ],
 "metadata": {
  "kernelspec": {
   "display_name": "Python 3",
   "language": "python",
   "name": "python3"
  },
  "language_info": {
   "codemirror_mode": {
    "name": "ipython",
    "version": 3
   },
   "file_extension": ".py",
   "mimetype": "text/x-python",
   "name": "python",
   "nbconvert_exporter": "python",
   "pygments_lexer": "ipython3",
   "version": "3.6.3"
  }
 },
 "nbformat": 4,
 "nbformat_minor": 2
}
