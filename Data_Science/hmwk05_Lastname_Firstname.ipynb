{
 "cells": [
  {
   "cell_type": "markdown",
   "metadata": {},
   "source": [
    "<a id='top'></a>\n",
    "\n",
    "# Homework 5: Confidence intervals and other things\n",
    "***\n",
    "\n",
    "**Name**: **Elena Ingraham**\n",
    "\n",
    "***\n",
    "\n",
    "This assignment is due on Moodle by **5 PM on Friday July 6**. Your solutions to theoretical questions should be done in Markdown/MathJax directly below the associated question.  Your solutions to computational questions should include any specified Python code and results as well as written commentary on your conclusions.  Remember that you are encouraged to discuss the problems with your instructors and classmates, but **you must write all code and solutions on your own**.  \n",
    "\n",
    "**NOTES**: \n",
    "\n",
    "- Do **NOT** load or use any Python packages that are not available in Anaconda 3.6. \n",
    "- Some problems with code may be autograded.  If we provide a function API **do not** change it.  If we do not provide a function API then you're free to structure your code however you like. \n",
    "- Because you can technically evaluate notebook cells is a non-linear order, it's a good idea to do Cell $\\rightarrow$ Run All as a check before submitting your solutions.  That way if we need to run your code you will know that it will work as expected. \n",
    "- Submit only this Jupyter notebook to Moodle.  Do not compress it using tar, rar, zip, etc. \n",
    "- This should go without saying, but... For any question that asks you to calculate something, you **must show all work to receive credit**. Sparse or nonexistent work will receive sparse or nonexistent credit.\n",
    "\n",
    "---\n",
    "**Shortcuts:**  [Problem 1](#p1) | [Problem 2](#p2) | [Problem 3](#p3) | [Problem 4](#p4)\n",
    "\n",
    "---"
   ]
  },
  {
   "cell_type": "code",
   "execution_count": null,
   "metadata": {
    "collapsed": true,
    "scrolled": true
   },
   "outputs": [],
   "source": [
    "import numpy as np\n",
    "import matplotlib.pyplot as plt\n",
    "import pandas as pd\n",
    "import math\n",
    "import scipy.stats as stats\n",
    "from datetime import datetime\n",
    "import random\n",
    "%matplotlib inline"
   ]
  },
  {
   "cell_type": "markdown",
   "metadata": {},
   "source": [
    "---\n",
    "\n",
    "<a id='p1'></a>\n",
    "[Back to top](#top)\n",
    "\n",
    "### [30 points] Problem 1 - Sea-level rise, schmee-level rise!\n",
    "\n",
    "You have been contacted by the local government of Key West, Florida, to assess whether there is statistical evidence for sea-level rise in the area. You obtain from the University of Hawaii Sea Level Center's [gigantic repository of sea-level data](https://uhslc.soest.hawaii.edu/data/?rq) the daily mean sea levels file [linked here](https://piazza.com/class_profile/get_resource/jhaqogsdelf76h/jixzm0rl5dp6y4) and below.\n",
    "\n",
    "In this problem, you will:\n",
    "1. practice calculating confidence intervals, \n",
    "1. practice wrangling a real-life data set into a form where you can actually compute these confidence intervals, because life will rarely be so kind as to simply hand you a nicely packaged and cleaned set of data, and\n",
    "1. save Key West from a watery fate?"
   ]
  },
  {
   "cell_type": "code",
   "execution_count": null,
   "metadata": {
    "collapsed": true
   },
   "outputs": [],
   "source": [
    "# Local and web paths to the data; pick which works for you.\n",
    "local_path = \"data/sealevel_keywest.csv\"\n",
    "web_path   = \"https://piazza.com/class_profile/get_resource/jhaqogsdelf76h/jixzm0rl5dp6y4\"\n",
    "file_path  = web_path\n",
    "\n",
    "dfSL = pd.read_csv(file_path, header=None)\n",
    "dfSL.rename(columns={0 : 'Year', 1 : 'Month', 2 : 'Day', 3 : 'SL'}, inplace=True)\n",
    "dfSL.head()"
   ]
  },
  {
   "cell_type": "markdown",
   "metadata": {},
   "source": [
    "**Part A:**  Write a function `clean_data` to:\n",
    "1. take in a single argument of a raw sea level data frame (e.g., `dfSL` above),\n",
    "2. compute the fill-value used to replace missing sea level (SL) data (**not** hard-coded!),\n",
    "3. use the Pandas `DataFrame.dropna` method to remove all missing rows of data, \n",
    "4. select only the data point on the second day of each month, and\n",
    "4. return a cleaned Pandas data frame.\n",
    "\n",
    "Use your shiny new function to clean the `dfSL` data frame and save the results in a new data frame.\n",
    "\n",
    "There is a very specific reason to sample only one daily data point per month. We will talk about it later."
   ]
  },
  {
   "cell_type": "code",
   "execution_count": null,
   "metadata": {
    "collapsed": true
   },
   "outputs": [],
   "source": [
    "def clean_data(df):\n",
    "    for index, row in df.iterrows():\n",
    "        if (row['Year'] <= 1900):\n",
    "            df.drop(index, inplace = True)\n",
    "        elif (row['Month'] <= 1 | row['Month'] >= 12):\n",
    "            df.drop(index, inplace = True)\n",
    "        elif (row['Day'] != 2):\n",
    "            df.drop(index, inplace = True)\n",
    "        elif (row['SL'] <= 0):\n",
    "            df.drop(index, inplace = True)\n",
    "            \n",
    "    # your code goes here!    \n",
    "    return df\n",
    "\n",
    "dfClean = clean_data(dfSL)\n",
    "dfClean.head()"
   ]
  },
  {
   "cell_type": "markdown",
   "metadata": {},
   "source": [
    "**Part B:**  Plot the cleaned time series of sea levels. Be sure to label your axes, including units. The UHSLC data portal includes a link to the metadata accompanying our data set; if you are not sure about units, that would be a good place to start looking. For the $x$-axis, place the $x$ tick marks on January 2 of each year that is divisible by 10 (i.e., 1920, 1930, ...), and label with that year. You may need to do additional processing in order to grab these indices. \n",
    "\n",
    "**Bonus challenge (0 points):**  Why did I choose to work with the second day of each month instead of the first?  You may need to look at the original data set to answer this."
   ]
  },
  {
   "cell_type": "code",
   "execution_count": null,
   "metadata": {
    "collapsed": true
   },
   "outputs": [],
   "source": [
    "times = pd.to_datetime(dfClean[['Day','Month', 'Year']])\n",
    "ts = pd.Series(dfClean['SL'].values, index = times)\n",
    "ts.head()\n",
    "\n"
   ]
  },
  {
   "cell_type": "code",
   "execution_count": null,
   "metadata": {
    "collapsed": true,
    "scrolled": true
   },
   "outputs": [],
   "source": [
    "#CHANGE TICKS\n",
    "ts.plot()\n",
    "ts.plot(xticks=['1920','1930','1940','1950','1960','1970','1980','1990','2000','2010'])\n",
    "print(\"       Sea Level Time Series\")"
   ]
  },
  {
   "cell_type": "markdown",
   "metadata": {},
   "source": [
    "**Part C:** Use your cleaned sea levels data frame to create two new Pandas data frames or series:\n",
    "1. one object to contain the sea levels between (and including) the years 1986 and 1995, and\n",
    "2. another object to contain the sea levels between (and including) the years 2006 and 2015.\n",
    "\n",
    "Then, create a single-panel figure that includes density histograms of each decade of sea levels. Be sure to label everything appropriately.\n",
    "\n",
    "Finally, based on the data in front of you, formulate and state a hypothesis about how the mean sea level in the decade 2006-2015 compares to the mean sea level in the decade 1986-1995."
   ]
  },
  {
   "cell_type": "code",
   "execution_count": null,
   "metadata": {
    "collapsed": true
   },
   "outputs": [],
   "source": [
    "dfEarly = pd.DataFrame(dfClean)\n",
    "#dfEarly.head()\n",
    "for index, row in dfEarly.iterrows():\n",
    "        if (row['Year'] not in range(1986,1995)):\n",
    "            dfEarly.drop(index, inplace = True)\n",
    "dfEarly.head()"
   ]
  },
  {
   "cell_type": "code",
   "execution_count": null,
   "metadata": {
    "collapsed": true
   },
   "outputs": [],
   "source": [
    "dfLate = pd.DataFrame(dfClean)\n",
    "for index, row in dfLate.iterrows():\n",
    "        if (row['Year'] not in range(2006,2015)):\n",
    "            dfLate.drop(index, inplace = True)\n",
    "dfLate.head()"
   ]
  },
  {
   "cell_type": "code",
   "execution_count": null,
   "metadata": {
    "collapsed": true
   },
   "outputs": [],
   "source": [
    "plt.hist(x = dfEarly['SL'], color = 'red', alpha = .95)\n",
    "plt.hist(x = dfLate['SL'], color = 'blue', alpha = .35)\n",
    "print(\"     Differences in Sea Level\")\n",
    "plt.show()\n",
    "print(\"Blue = 1986 - 1995\",\" \",\"Red = 2006 - 2015\")\n",
    "#LABELS "
   ]
  },
  {
   "cell_type": "markdown",
   "metadata": {},
   "source": [
    "**Based on the histogram of the two subsets of data, I would hypothesize that the mean of the data from 2006-2015 is larger than the mean of the subset of data from 1986 to 1995.**"
   ]
  },
  {
   "cell_type": "markdown",
   "metadata": {},
   "source": [
    "**Part D:** Compute a 99.9% confidence interval for each of (1) the mean sea level in the 1986-1995 decade ($\\mu_{1986-1995}$) and (2) the mean sea level in the 2006-2015 decade ($\\mu_{2006-2015}$).  You may use Python for arithmetic operations and executing the calculations, but the relevant steps/set-up should be displayed in Markdown/MathJax.\n",
    "\n",
    "Based on these two confidence intervals, do you think there is sufficient evidence to conclude that there is or is not a significant difference in the mean sea level between 1986-1995 and 2006-2015? Justify your answer. "
   ]
  },
  {
   "cell_type": "code",
   "execution_count": null,
   "metadata": {
    "collapsed": true
   },
   "outputs": [],
   "source": [
    "earlyMean =  dfEarly['SL'].mean()\n",
    "earlyStd = dfEarly['SL'].std()\n",
    "n_early = len(dfEarly)\n",
    "lateMean = dfLate['SL'].mean()\n",
    "lateStd = dfLate['SL'].std()\n",
    "n_late = len(dfLate)\n",
    "z_score = stats.norm.ppf(.9995)\n",
    "print(z_score)\n",
    "early_low_bound = earlyMean - (z_score*(earlyStd/math.sqrt(n_early)))\n",
    "print(early_low_bound)\n",
    "early_upper_bound = earlyMean + (z_score*(earlyStd/math.sqrt(n_early)))\n",
    "print(early_upper_bound)\n"
   ]
  },
  {
   "cell_type": "code",
   "execution_count": null,
   "metadata": {
    "collapsed": true
   },
   "outputs": [],
   "source": [
    "late_low_bound = lateMean - (z_score*(lateStd/math.sqrt(n_late)))\n",
    "print(late_low_bound)\n",
    "late_upper_bound = lateMean + (z_score*(earlyStd/math.sqrt(n_late)))\n",
    "print(late_upper_bound)\n"
   ]
  },
  {
   "cell_type": "markdown",
   "metadata": {},
   "source": [
    "**Part E:**  Compute a 99.9% confidence interval for the ***difference in mean sea level*** between the 2006-2015 and the 1986-1995 decades ($\\mu_{2006-2015} - \\mu_{1986-1995}$. Based on this, make a conclusion regarding your hypothesis from **Part C**, and compare to what your results in **Part D** implied. You may use Python for arithmetic operations and executing the calculations, but the relevant steps/set-up should be displayed in Markdown/MathJax."
   ]
  },
  {
   "cell_type": "code",
   "execution_count": null,
   "metadata": {
    "collapsed": true
   },
   "outputs": [],
   "source": [
    "upperBound = (lateMean - earlyMean) + (z_score*math.sqrt(((earlyStd*earlyStd)/n_early)+((lateStd*lateStd)/n_late)))\n",
    "lowerBound = (lateMean - earlyMean) - (z_score*math.sqrt(((earlyStd*earlyStd)/n_early)+((lateStd*lateStd)/n_late)))\n",
    "print(upperBound, lowerBound)"
   ]
  },
  {
   "cell_type": "markdown",
   "metadata": {},
   "source": [
    "**Since the Confidence Interval covers 0, we can conclude at the 99.9% confidence level, that there is no significant difference in mean sea levels between the 1986-1995 and 2006-2015 timeframes. **"
   ]
  },
  {
   "cell_type": "markdown",
   "metadata": {},
   "source": [
    "**Part F:**  The confidence intervals from **Parts D** and **E** were derived using the Central Limit Theorem.  Which assumption of the Central Limit Theorem would likely be violated if we took more than one measurement per month to form our samples, and why?"
   ]
  },
  {
   "cell_type": "markdown",
   "metadata": {},
   "source": [
    "**If we were to select more than one measurement per month to form our samples the variance could become infinite and the Central Limit Theorum would be violated since the months with naturally higher sea levels would be over represented **"
   ]
  },
  {
   "cell_type": "markdown",
   "metadata": {},
   "source": [
    "---\n",
    "\n",
    "<a id='p2'></a>\n",
    "[Back to top](#top)\n",
    "\n",
    "### [25 points] Problem 2 - Quality of Red vs White Wine \n",
    "\n",
    "**Part A:** Load the data in [`winequalityred.csv`](https://piazza.com/class_profile/get_resource/jhaqogsdelf76h/jixzm1ebc6q6ye) and [`winequalitywhite.csv`](https://piazza.com/class_profile/get_resource/jhaqogsdelf76h/jixzm17x9pu6y9) into Pandas DataFrames.  They are available under Resources on Piazza, and linked here and below.  A description of this dataset can be found on [UC Irvine's Machine Learning Repository](https://archive.ics.uci.edu/ml/datasets/Wine+Quality). The quantity of interest for this problem is the quality of the wine.\n",
    "\n",
    "Are we justified in using the Central Limit Theorem in our analysis of estimates of the mean and proportions of the data?  Justify your response. "
   ]
  },
  {
   "cell_type": "code",
   "execution_count": null,
   "metadata": {
    "collapsed": true
   },
   "outputs": [],
   "source": [
    "# read either local or web file version; pick whichever works for you\n",
    "local_file_white = \"../../data/winequalitywhite.csv\"\n",
    "local_file_red   = \"../../data/winequalityred.csv\"\n",
    "web_file_white = \"https://piazza.com/class_profile/get_resource/jhaqogsdelf76h/jixzm17x9pu6y9\"\n",
    "web_file_red   = \"https://archive.ics.uci.edu/ml/machine-learning-databases/wine-quality/winequality-red.csv\"\n",
    "\n",
    "dfRed   = pd.read_csv(web_file_red, sep = ';')\n",
    "dfWhite = pd.read_csv(web_file_white, sep = ';')\n",
    "\n",
    "dfRed.head()"
   ]
  },
  {
   "cell_type": "code",
   "execution_count": null,
   "metadata": {
    "collapsed": true
   },
   "outputs": [],
   "source": [
    "plt.hist(dfRed['quality'], bins = 6)\n",
    "print(\"     Red Wine Distribution\")\n",
    "plt.show()"
   ]
  },
  {
   "cell_type": "code",
   "execution_count": null,
   "metadata": {
    "collapsed": true
   },
   "outputs": [],
   "source": [
    "plt.hist(dfWhite['quality'], bins = 6)\n",
    "print(\"      White Wine Distribution\")\n",
    "plt.show()"
   ]
  },
  {
   "cell_type": "markdown",
   "metadata": {},
   "source": [
    "**Part B:** Let $X$ be a random variable denoting the quality of a bottle of wine, and let $C$ be a random variable denoting its color (either red ($r$) or white ($w$)). For the remainder of this problem, we are concerned with probabilities such as \"If I buy a random bottle of red wine, what is the probability that its quality is at least a 7?\". We could write that probability as $P(X \\geq 7 \\mid C=r)$, for example, and consider it the ***proportion*** of the population of red wines that are at least a 7 in quality. Calculate and report estimates of $P(X \\geq 7 \\mid C=r)$ and $P(X \\geq 7 \\mid C=w)$.\n",
    "\n",
    "Obtain 95% confidence intervals for the proportion of red and white wines that are **at least** a 7 in quality (obtain one CI for each color).  Based on your results, if you are interested in buying many high quality bottles of wine but are buying totally at random, is one color a better bet than the other? Fully justify your answer.\n",
    "\n",
    "Calculations may be executed in Python, but you need to set up your work (*what* it is you are calculating) in Markdown/MathJax."
   ]
  },
  {
   "cell_type": "code",
   "execution_count": null,
   "metadata": {
    "collapsed": true
   },
   "outputs": [],
   "source": [
    "dfRedSucc = pd.DataFrame(dfRed)\n",
    "dfWhiteSucc = pd.DataFrame(dfWhite)\n",
    "n_white = len(dfWhite)\n",
    "n_red = len(dfRed)\n",
    "print(n_white)\n",
    "print(n_red)\n",
    "for index, row in dfRedSucc.iterrows():\n",
    "        if (row['quality'] < 7):\n",
    "            dfRedSucc.drop(index, inplace = True)\n",
    "for index, row in dfWhiteSucc.iterrows():\n",
    "        if (row['quality'] < 7):\n",
    "            dfWhiteSucc.drop(index, inplace = True)\n",
    "print(\"Proportion of Red Wine Bottles that are at least 7 in quality: \", len(dfRedSucc)/len(dfRed))\n",
    "print(\"Proportion of White Wine Bottles that are at least 7 in quality: \", len(dfWhiteSucc)/len(dfWhite))\n",
    "red_phat = len(dfRedSucc)/len(dfRed)\n",
    "white_phat = len(dfWhiteSucc)/len(dfWhite)\n"
   ]
  },
  {
   "cell_type": "code",
   "execution_count": null,
   "metadata": {
    "collapsed": true
   },
   "outputs": [],
   "source": [
    "z_score_wine = stats.norm.ppf(.975)\n",
    "red_upper = red_phat + (z_score_wine * math.sqrt((red_phat*(1-red_phat))/n_red))\n",
    "red_lower = red_phat - (z_score_wine * math.sqrt((red_phat*(1-red_phat))/n_red))\n",
    "print(\"Red Wine Confidence Interval:\", red_upper, \"-\", red_lower)\n",
    "white_upper = white_phat + (z_score_wine * math.sqrt((white_phat*(1-white_phat))/n_white))\n",
    "white_lower = white_phat - (z_score_wine * math.sqrt((white_phat*(1-white_phat))/n_white))\n",
    "print(\"White Wine Confidence Interval:\", white_upper, \"-\",  white_lower)"
   ]
  },
  {
   "cell_type": "markdown",
   "metadata": {},
   "source": [
    "**Part C:** Now, as college students (and teachers), we might not be super concerned with buying a really high quality bottle of wine.  In fact, you might be confused about what these \"bottles\" this problem is referring to are... don't we mean \"bags\"?  But I digress.  Let's focus instead on making sure we do *not* buy a really disgusting bottle of wine.  Calculate and report estimates of $P(X \\geq 5 \\mid C=r)$ and $P(X \\geq 5 \\mid C=w)$.\n",
    "\n",
    "Obtain two 95% confidence intervals, one for the proportion of red wines and one for white wines, that are **at least** a 5 in quality, that is, $P(X \\geq 5 \\mid C)$.  Based on your results - and what you saw in Problem 1 - if you are interested in buying bottles of wine that are at least a 5 in quality, but are again buying wine totally randomly, can you conclude that you are better off buying one color over the other? Fully justify your answer."
   ]
  },
  {
   "cell_type": "code",
   "execution_count": null,
   "metadata": {
    "collapsed": true
   },
   "outputs": [],
   "source": [
    "dfRedSucc1 = pd.DataFrame(dfRed)\n",
    "dfWhiteSucc1 = pd.DataFrame(dfWhite)\n",
    "for index, row in dfRedSucc1.iterrows():\n",
    "        if (row['quality'] < 5):\n",
    "            dfRedSucc1.drop(index, inplace = True)\n",
    "for index, row in dfWhiteSucc1.iterrows():\n",
    "        if (row['quality'] < 5):\n",
    "            dfWhiteSucc1.drop(index, inplace = True)\n",
    "red_phat5 = len(dfRedSucc1)/len(dfRed)\n",
    "print(red_phat5)\n",
    "white_phat5 = len(dfWhiteSucc1)/len(dfWhite)\n",
    "red_upper5 = red_phat5 + (z_score_wine * math.sqrt((red_phat5*(1-red_phat5))/n_red))\n",
    "red_lower5 = red_phat5 - (z_score_wine * math.sqrt((red_phat5*(1-red_phat5))/n_red))\n",
    "print(\"Red Wine Confidence Interval:\", red_upper5, \"-\", red_lower5)\n",
    "white_upper5 = white_phat5 + (z_score_wine * math.sqrt((white_phat5*(1-white_phat5))/n_white))\n",
    "white_lower5 = white_phat5 - (z_score_wine * math.sqrt((white_phat5*(1-white_phat5))/n_white))\n",
    "print(\"White Wine Confidence Interval:\", white_upper5, \"-\",  white_lower5)"
   ]
  },
  {
   "cell_type": "markdown",
   "metadata": {},
   "source": [
    "**Part D:** Compute a 95% confidence interval for the difference in proportions of red and white wines that are at least a 5 in quality. \n",
    "\n",
    "Now, based on your results for this part, can you conclude that you are better off buying one color over the other? Fully justify your answer. How does your work here differ from your work in **Part C**?"
   ]
  },
  {
   "cell_type": "code",
   "execution_count": null,
   "metadata": {
    "collapsed": true
   },
   "outputs": [],
   "source": [
    "wine_upper = (red_phat5 - white_phat5)+(z_score_wine*(math.sqrt(((red_phat5*(1-red_phat5))/n_red)+((white_phat5*(1-white_phat5))/n_white))))\n",
    "wine_lower = (red_phat5 - white_phat5)-(z_score_wine*(math.sqrt(((red_phat5*(1-red_phat5))/n_red)+((white_phat5*(1-white_phat5))/n_white))))\n",
    "print(\"Upper Bound: \",wine_upper, \"Lower Bound: \",wine_lower)"
   ]
  },
  {
   "cell_type": "markdown",
   "metadata": {},
   "source": [
    "**Since the confidence interval contains 0, we cannot conclude anything about the difference in means between white and red wines. This is because we are saying 0 is a reasonable difference in mean which would suggest the population means are the same. **"
   ]
  },
  {
   "cell_type": "markdown",
   "metadata": {},
   "source": [
    "**Part E:**  Now, we have many more observations of white wines than red. This certainly contributes to the width of the 95% confidence interval for the proportion of red wines that are at least a 5 in quality, which you should have found in **Part C** to be wider than the corresponding confidence interval for white wines. \n",
    "\n",
    "How large would our sample size of red wines need to be in order to guarantee that this 95% confidence interval width is at most 0.01? Note that we are hypothetically adding more samples, so we do not know the precise value of $\\hat{p}$."
   ]
  },
  {
   "cell_type": "markdown",
   "metadata": {},
   "source": [
    "Basically the problem is asking to make the previous interval computed like so: \n",
    "\n",
    "red_upper5 = red_phat5 + (z_score_wine * math.sqrt((red_phat5*(1-red_phat5))/n_red))\n",
    "\n",
    "red_lower5 = red_phat5 - (z_score_wine * math.sqrt((red_phat5*(1-red_phat5))/n_red))\n",
    "\n",
    "meet the requirement red_upper5 - red_lower5 < .01\n",
    "\n",
    "Since we do not know $\\hat{p}$ we can use $\\hat{p}$ = .5 for maximum variability and solve like so:\n",
    "\n",
    ".01 = 1.96*(sqrt($\\hat{p}$(1-$\\hat{p}$))/n) =>\n",
    "\n",
    "0.00510204082 = (sqrt($\\hat{p}$(1-$\\hat{p}$))/n)\n",
    "\n",
    ".00002603082 = ($\\hat{p}$(1-$\\hat{p}$))/n =>\n",
    "\n",
    ".00002603082n =$\\hat{p}$(1-$\\hat{p}$) =>\n",
    "\n",
    ".00002603082n = .25\n",
    "\n",
    "\n",
    "**The sample size, n must be greater than or equal to 9604 for the width of the confidence interval to be less than .01**"
   ]
  },
  {
   "cell_type": "markdown",
   "metadata": {},
   "source": [
    "---\n",
    "\n",
    "<a id='p3'></a>\n",
    "[Back to top](#top)\n",
    "\n",
    "### [15 points] Problem 3:  Are you tired of re-doing the same confidence intervals calculation over and over again? Then this is the problem for you!\n",
    "\n",
    "Turns out, the mechanics of computing confidence intervals are fairly formulaic, once you get the hang of it.  If you have done the first two problems, I would say with 99% confidence that you are tired of copy-pasting code and putting in new data frames and numbers. So let's develop some flexible, generic software to do this for us. Yay computers!\n",
    "\n",
    "In order to test drive our software, we will use the [weather data set](https://piazza.com/class_profile/get_resource/jhaqogsdelf76h/jhzhwu02pxq4eq) from the in-class notebooks back in the beginning of the semester (and linked here).  Execute the code cell below to load the data, print out the valid site names, and view the first few lines, including the column headers."
   ]
  },
  {
   "cell_type": "code",
   "execution_count": null,
   "metadata": {
    "collapsed": true
   },
   "outputs": [],
   "source": [
    "# Two different paths to the data \n",
    "local_path = 'data/clean_boulder_weather.csv'\n",
    "web_path   = 'https://piazza.com/class_profile/get_resource/jhaqogsdelf76h/jhzhwu02pxq4eq'\n",
    "\n",
    "# Select the path that works for you \n",
    "file_path = web_path \n",
    "\n",
    "# View the site names\n",
    "#print(\"Site names are:\",set(df[\"NAME\"]))\n",
    "\n",
    "# Load the data into a DataFrame \n",
    "df = pd.read_csv(file_path)\n",
    "df.head()"
   ]
  },
  {
   "cell_type": "markdown",
   "metadata": {},
   "source": [
    "**Your task:** Write a function called `ci_mean` with the following specifications.  You are **NOT** allowed to use this function for Problems 1 and 2, but are encouraged to use it to check your answers. You may use this function for Problem 4.\n",
    "\n",
    "**Code Specifications:**\n",
    "\n",
    "Arguments:\n",
    "* `x` -- A list, numpy array, or Pandas DataSeries (\"array-like object\") that constitutes the data we want a confidence interval for the mean of its population, $\\mu_x$.\n",
    "* `y` -- An optional argument with a default of `None`. Also an array-like object. If `y` is specified, then the function should return a confidence interval for the difference in means, $\\mu_x - \\mu_y$.\n",
    "* `sx` -- An optional argument with a default of `None`. If specified, `sx` is the true known standard deviation of the population of `x`.\n",
    "* `sy` -- An optional argument with a default of `None`. If specified, `sy` is the true known standard deviation of the population of `y`. If `sy` is specified but `y` is not, your code should proceed with computing a confidence interval for the mean of the `x` population only.\n",
    "* `alp` -- Tail area for the confidence interval (i.e., you want to calculate a $100(1-\\textrm{alp})\\%$ confidence interval). Should have a default value of $0.05$.\n",
    "\n",
    "Output:\n",
    "* `CI` -- A tuple giving the lower and upper confidence bounds for the $100(1-\\textrm{alp})\\%$ confidence interval.\n",
    "\n",
    "Required Output: show us output for the following\n",
    "* For NIWOT, CO US, use your `ci_mean` function to construct a 90% confidence interval for the mean July 2017 maximum temperatures, $\\mu_{niwot}$.\n",
    "* For BOULDER 14 W, CO US, use your `ci_mean` function to construct a 90% confidence interval for the mean July 2017 maximum temperatures, $\\mu_{boulder14}$. Based on your answers so far, can you conclude anything at the 90% confidence level about any differences in mean July 2017 daily maximum temperature in Niwot and Boulder 14 W?\n",
    "* Use your `ci_mean` function to compute a 90% confidence interval for the difference in mean July 2017 daily maximum temperature between NIWOT and BOULDER 14 W, $\\mu_{niwot} - \\mu_{boulder14}$. Can you conclude anything, at the 90% confidence level, about the difference in mean daily maximum temperature in July for the two sites?\n",
    "\n",
    "Unit Tests: not required, but encouraged\n",
    "* Check your answers to Problems 1 and 2.\n",
    "* Check your answers for the Required Output by hand.\n",
    "* Crowd-source some unit tests:  Check your answers for other combinations of the weather data sites and confidence levels with your peers on Piazza!\n",
    "* There is sizable probability that we will use other test cases to grade your code, including possibly other problems from this homework, and other sets of data. So your code must **not** be hard-coded to expect input from the weather data set."
   ]
  },
  {
   "cell_type": "code",
   "execution_count": 27,
   "metadata": {},
   "outputs": [
    {
     "data": {
      "text/html": [
       "<div>\n",
       "<style>\n",
       "    .dataframe thead tr:only-child th {\n",
       "        text-align: right;\n",
       "    }\n",
       "\n",
       "    .dataframe thead th {\n",
       "        text-align: left;\n",
       "    }\n",
       "\n",
       "    .dataframe tbody tr th {\n",
       "        vertical-align: top;\n",
       "    }\n",
       "</style>\n",
       "<table border=\"1\" class=\"dataframe\">\n",
       "  <thead>\n",
       "    <tr style=\"text-align: right;\">\n",
       "      <th></th>\n",
       "      <th>STATION</th>\n",
       "      <th>NAME</th>\n",
       "      <th>DATE</th>\n",
       "      <th>PRCP</th>\n",
       "      <th>TMAX</th>\n",
       "      <th>TMIN</th>\n",
       "    </tr>\n",
       "  </thead>\n",
       "  <tbody>\n",
       "    <tr>\n",
       "      <th>0</th>\n",
       "      <td>USW00094075</td>\n",
       "      <td>BOULDER 14 W, CO US</td>\n",
       "      <td>2017-07-01</td>\n",
       "      <td>0.00</td>\n",
       "      <td>68.0</td>\n",
       "      <td>31.0</td>\n",
       "    </tr>\n",
       "    <tr>\n",
       "      <th>1</th>\n",
       "      <td>USW00094075</td>\n",
       "      <td>BOULDER 14 W, CO US</td>\n",
       "      <td>2017-07-02</td>\n",
       "      <td>0.00</td>\n",
       "      <td>73.0</td>\n",
       "      <td>35.0</td>\n",
       "    </tr>\n",
       "    <tr>\n",
       "      <th>2</th>\n",
       "      <td>USW00094075</td>\n",
       "      <td>BOULDER 14 W, CO US</td>\n",
       "      <td>2017-07-03</td>\n",
       "      <td>0.00</td>\n",
       "      <td>68.0</td>\n",
       "      <td>46.0</td>\n",
       "    </tr>\n",
       "    <tr>\n",
       "      <th>3</th>\n",
       "      <td>USW00094075</td>\n",
       "      <td>BOULDER 14 W, CO US</td>\n",
       "      <td>2017-07-04</td>\n",
       "      <td>0.05</td>\n",
       "      <td>68.0</td>\n",
       "      <td>43.0</td>\n",
       "    </tr>\n",
       "    <tr>\n",
       "      <th>4</th>\n",
       "      <td>USW00094075</td>\n",
       "      <td>BOULDER 14 W, CO US</td>\n",
       "      <td>2017-07-05</td>\n",
       "      <td>0.01</td>\n",
       "      <td>73.0</td>\n",
       "      <td>40.0</td>\n",
       "    </tr>\n",
       "  </tbody>\n",
       "</table>\n",
       "</div>"
      ],
      "text/plain": [
       "       STATION                 NAME        DATE  PRCP  TMAX  TMIN\n",
       "0  USW00094075  BOULDER 14 W, CO US  2017-07-01  0.00  68.0  31.0\n",
       "1  USW00094075  BOULDER 14 W, CO US  2017-07-02  0.00  73.0  35.0\n",
       "2  USW00094075  BOULDER 14 W, CO US  2017-07-03  0.00  68.0  46.0\n",
       "3  USW00094075  BOULDER 14 W, CO US  2017-07-04  0.05  68.0  43.0\n",
       "4  USW00094075  BOULDER 14 W, CO US  2017-07-05  0.01  73.0  40.0"
      ]
     },
     "execution_count": 27,
     "metadata": {},
     "output_type": "execute_result"
    }
   ],
   "source": [
    "dfBoulder = pd.DataFrame(df)\n",
    "for index, row in dfBoulder.iterrows():\n",
    "        if (row['NAME'] != \"BOULDER 14 W, CO US\"):\n",
    "            dfBoulder.drop(index, inplace = True)\n",
    "dfBoulder.head()"
   ]
  },
  {
   "cell_type": "code",
   "execution_count": 28,
   "metadata": {},
   "outputs": [
    {
     "data": {
      "text/html": [
       "<div>\n",
       "<style>\n",
       "    .dataframe thead tr:only-child th {\n",
       "        text-align: right;\n",
       "    }\n",
       "\n",
       "    .dataframe thead th {\n",
       "        text-align: left;\n",
       "    }\n",
       "\n",
       "    .dataframe tbody tr th {\n",
       "        vertical-align: top;\n",
       "    }\n",
       "</style>\n",
       "<table border=\"1\" class=\"dataframe\">\n",
       "  <thead>\n",
       "    <tr style=\"text-align: right;\">\n",
       "      <th></th>\n",
       "      <th>STATION</th>\n",
       "      <th>NAME</th>\n",
       "      <th>DATE</th>\n",
       "      <th>PRCP</th>\n",
       "      <th>TMAX</th>\n",
       "      <th>TMIN</th>\n",
       "    </tr>\n",
       "  </thead>\n",
       "  <tbody>\n",
       "    <tr>\n",
       "      <th>93</th>\n",
       "      <td>USS0005J42S</td>\n",
       "      <td>NIWOT, CO US</td>\n",
       "      <td>2017-07-01</td>\n",
       "      <td>0.0</td>\n",
       "      <td>69.0</td>\n",
       "      <td>32.0</td>\n",
       "    </tr>\n",
       "    <tr>\n",
       "      <th>94</th>\n",
       "      <td>USS0005J42S</td>\n",
       "      <td>NIWOT, CO US</td>\n",
       "      <td>2017-07-02</td>\n",
       "      <td>0.0</td>\n",
       "      <td>73.0</td>\n",
       "      <td>37.0</td>\n",
       "    </tr>\n",
       "    <tr>\n",
       "      <th>95</th>\n",
       "      <td>USS0005J42S</td>\n",
       "      <td>NIWOT, CO US</td>\n",
       "      <td>2017-07-03</td>\n",
       "      <td>0.0</td>\n",
       "      <td>68.0</td>\n",
       "      <td>47.0</td>\n",
       "    </tr>\n",
       "    <tr>\n",
       "      <th>96</th>\n",
       "      <td>USS0005J42S</td>\n",
       "      <td>NIWOT, CO US</td>\n",
       "      <td>2017-07-04</td>\n",
       "      <td>0.1</td>\n",
       "      <td>70.0</td>\n",
       "      <td>41.0</td>\n",
       "    </tr>\n",
       "    <tr>\n",
       "      <th>97</th>\n",
       "      <td>USS0005J42S</td>\n",
       "      <td>NIWOT, CO US</td>\n",
       "      <td>2017-07-05</td>\n",
       "      <td>0.0</td>\n",
       "      <td>74.0</td>\n",
       "      <td>40.0</td>\n",
       "    </tr>\n",
       "  </tbody>\n",
       "</table>\n",
       "</div>"
      ],
      "text/plain": [
       "        STATION          NAME        DATE  PRCP  TMAX  TMIN\n",
       "93  USS0005J42S  NIWOT, CO US  2017-07-01   0.0  69.0  32.0\n",
       "94  USS0005J42S  NIWOT, CO US  2017-07-02   0.0  73.0  37.0\n",
       "95  USS0005J42S  NIWOT, CO US  2017-07-03   0.0  68.0  47.0\n",
       "96  USS0005J42S  NIWOT, CO US  2017-07-04   0.1  70.0  41.0\n",
       "97  USS0005J42S  NIWOT, CO US  2017-07-05   0.0  74.0  40.0"
      ]
     },
     "execution_count": 28,
     "metadata": {},
     "output_type": "execute_result"
    }
   ],
   "source": [
    "dfNiwot = pd.DataFrame(df)\n",
    "for index, row in dfNiwot.iterrows():\n",
    "        if (row['NAME'] != \"NIWOT, CO US\"):\n",
    "            dfNiwot.drop(index, inplace = True)\n",
    "dfNiwot.head()"
   ]
  },
  {
   "cell_type": "code",
   "execution_count": 29,
   "metadata": {},
   "outputs": [
    {
     "name": "stdout",
     "output_type": "stream",
     "text": [
      "Niwot confidence interval:  (70.539180976297601, 69.138238378541118)\n",
      "Boulder confidence interval:  (69.49335558030721, 68.119547645499253)\n",
      "Mean difference Niwot and Boulder Confidence interval:  (2.2419235170777663, -4.3064396461100225)\n"
     ]
    }
   ],
   "source": [
    "def ci_mean(x,y = None, sx = None, sy = None, alp = .05):\n",
    "    upper_bound = 0 \n",
    "    lower_bound = 0\n",
    "    inner = 0\n",
    "    innery = 0\n",
    "    n = len(x)\n",
    "    x_mean = x.mean()\n",
    "    #print(x_mean)\n",
    "    zcrit = 1-(alp/2)\n",
    "    z_score = stats.norm.ppf(zcrit)\n",
    "   # print(z_score)\n",
    "    if(sx is None):\n",
    "        sx = x.std()\n",
    "    inner = sx/n\n",
    "   # print(sx)\n",
    "    var = math.sqrt(inner)\n",
    "    if(y is None):\n",
    "        upper_bound = (x_mean) + (z_score * (var))\n",
    "        lower_bound = (x_mean) - (z_score * (var))\n",
    "    elif(y is not None):\n",
    "        n2 = len(y)\n",
    "        if(sy is None):\n",
    "            sy = y.std()\n",
    "            inner = sy/n\n",
    "        upper_bound = (x.mean()-y.mean())+z_score*(math.sqrt((sx*sx)/n)+((sy*sy)/n2))\n",
    "        lower_bound = (x.mean()-y.mean())-z_score*(math.sqrt((sx*sx)/n)+((sy*sy)/n2))\n",
    "    return (upper_bound, lower_bound)\n",
    "niwot = ci_mean(dfNiwot['TMAX'],None, None,None, .1)\n",
    "print(\"Niwot confidence interval: \", niwot)\n",
    "boulder = ci_mean(dfBoulder['TMAX'],None, None,None, .1)\n",
    "print(\"Boulder confidence interval: \", boulder)\n",
    "diff_nibo = ci_mean(dfBoulder['TMAX'], dfNiwot['TMAX'], None,None,.1)\n",
    "print(\"Mean difference Niwot and Boulder Confidence interval: \", diff_nibo)"
   ]
  },
  {
   "cell_type": "markdown",
   "metadata": {},
   "source": [
    "---\n",
    "\n",
    "<a id='p4'></a>\n",
    "[Back to top](#top)\n",
    "\n",
    "### [30 points] Problem 4 - Exploring Confidence Intervals \n",
    "\n",
    "The [Gumbel](https://en.wikipedia.org/wiki/Gumbel_distribution) distribution is one of several distributions frequently used to model environmental extremes (for example, extreme temperatures and sea levels).  It is also fairly asymmetric, and thus interesting for investigating confidence intervals.  It is implemented in scipy.stats as [gumbel_r](https://docs.scipy.org/doc/scipy/reference/generated/scipy.stats.gumbel_r.html), where the appendix \"\\_r\" denotes the right-skewed version of the Gumbel distribution (as opposed to the left-skewed)."
   ]
  },
  {
   "cell_type": "markdown",
   "metadata": {},
   "source": [
    "**Part A**: Complete the following code cell to plot a histogram of 1,000 realizations from the Gumbel distribution with parameters $\\mu=8$ and $\\beta=2$.  Be sure to leave this cell executed before turning in your assignment!"
   ]
  },
  {
   "cell_type": "code",
   "execution_count": 30,
   "metadata": {},
   "outputs": [
    {
     "data": {
      "image/png": "[encoded data removed]",
      "text/plain": [
       "<matplotlib.figure.Figure at 0x7f0576569400>"
      ]
     },
     "metadata": {},
     "output_type": "display_data"
    }
   ],
   "source": [
    "mu = 8\n",
    "beta = 2\n",
    "n_sample = 1000\n",
    "x = stats.gumbel_r.rvs(loc=mu, scale=beta, size=n_sample)\n",
    "\n",
    "fig, ax = plt.subplots(nrows=1, ncols=1, figsize=(8,4))\n",
    "x = stats.gumbel_r.rvs(loc=mu, scale=beta, size=n_sample)\n",
    "plt.hist(x = x, bins = 100)\n",
    "plt.show()\n",
    "# your code goes here!s.rumbel\n"
   ]
  },
  {
   "cell_type": "markdown",
   "metadata": {},
   "source": [
    "**Part B:** Look up the analytical mean and variance of the Gumbel distribution with parameters $\\mu=8$ and $\\beta=2$ and calculate them here by hand.  Note that the Euler–Mascheroni constant can be accessed via `np.euler_gamma`. \n",
    "\n",
    "Use the empirical mean from your sample in **Part A**, and the true variance of the Gumbel distribution to compute by hand a 95% confidence interval for the mean.  Feel free to use your code from **Problem 3** here!"
   ]
  },
  {
   "cell_type": "code",
   "execution_count": 31,
   "metadata": {},
   "outputs": [
    {
     "name": "stdout",
     "output_type": "stream",
     "text": [
      "Mean:  9.154431329803066\n",
      "Variance:  2.565099660323728\n"
     ]
    },
    {
     "data": {
      "text/plain": [
       "(9.1576715477584276, 8.9591396891955259)"
      ]
     },
     "execution_count": 31,
     "metadata": {},
     "output_type": "execute_result"
    }
   ],
   "source": [
    "mean = 8+(np.euler_gamma*2)\n",
    "var1 = (2*math.pi)/math.sqrt(6)\n",
    "print('Mean: ', mean)\n",
    "print('Variance: ', var1)\n",
    "ci_mean(x,None,var1,None, .05)"
   ]
  },
  {
   "cell_type": "code",
   "execution_count": 32,
   "metadata": {},
   "outputs": [
    {
     "data": {
      "text/plain": [
       "(9.1566138042100444, 8.9601974327439091)"
      ]
     },
     "execution_count": 32,
     "metadata": {},
     "output_type": "execute_result"
    }
   ],
   "source": [
    "ci_mean(x, None,None,None, .05)"
   ]
  },
  {
   "cell_type": "markdown",
   "metadata": {},
   "source": [
    "**Part C:  A theoretical interlude.** When I ran my solution code for **Part B**, I obtained a 95% confidence interval of $[8.81, 9.82]$ for the mean of the $Gum(\\mu=8, \\beta=2)$ distribution. For each of the following, explain why or why not the situation described is correct, given the technical definition of a 95% confidence interval we went over in class.\n",
    "\n",
    "**(i)** If you had no other evidence regarding true mean of the $Gum(\\mu=8, \\beta=2)$ distribution, you could say there is a 95% chance that its true mean falls between 8.81 and 9.82.\n",
    "\n",
    "**(ii)** If a class of 100 students all construct 95% confidence intervals for the mean of the $Gum(\\mu=8, \\beta=2)$ distribution, then we expect about 95 of their CIs to contain the true mean, and about 5 of them to miss the true mean.\n",
    "\n",
    "**(iii)** There is a 95% probability that any given random variable sampled from $Gum(\\mu=8, \\beta=2)$ will be between 8.81 and 9.82."
   ]
  },
  {
   "cell_type": "markdown",
   "metadata": {},
   "source": [
    "i). This is an **incorrect** statement because the population mean is one unknown value. If you repeated the experiment, that value wouldn't change. Therefore it isn't strictly correct to ask about the probability that the population mean lies within a certain range. However, it is correct to state that within the confidence level the interval contains the population mean.  \n",
    "\n",
    "ii). This is a **correct** statement.Since the confidence interval should be different from each student and they are all computing them with 95% confidence, we would expect 95%  of them to contain the true mean.\n",
    "\n",
    "\n",
    "iii). This statement is **incorrect**. The target value, which serves as the parameter for which we are finding the confidence value, is the mean. This means the 95% confidence interval is with regards to the mean, and not any data point in the sample. "
   ]
  },
  {
   "cell_type": "markdown",
   "metadata": {},
   "source": [
    "**Part D:** In this part you'll write a function to investigate the _coverage properties_ of a confidence interval for the mean of the Gumbel distribution. Complete the following function to randomly sample $m=500$ sample means with sample size $n=100$ for the Gumbel distribution with parameters $\\mu=8$ and $\\beta=2$.  For each random sample, compute the 95% confidence interval for the mean.  Note that you actually know that the variance for the true population distribution is, $\\sigma^2$.  Your function should do two things: \n",
    "\n",
    "1. Report the proportion of confidence intervals that successfully cover the true mean of the distribution \n",
    "2. Make a plot of 50 randomly selected confidence intervals. Overlay the intervals on the line $y=\\textrm{True mean}$ (from **Part B**). Color confidence intervals black if they cover the true mean, and red if they don't.  \n",
    "\n",
    "Be sure to leave this cell executed before turning in your assignment!"
   ]
  },
  {
   "cell_type": "code",
   "execution_count": 45,
   "metadata": {
    "scrolled": false
   },
   "outputs": [
    {
     "name": "stdout",
     "output_type": "stream",
     "text": [
      "Proportion that contain true mean:  0.774\n",
      "          50 Sampled Confidence Intervals\n"
     ]
    },
    {
     "data": {
      "image/png": "[encoded data removed]",
      "text/plain": [
       "<matplotlib.figure.Figure at 0x7f0576342be0>"
      ]
     },
     "metadata": {},
     "output_type": "display_data"
    },
    {
     "name": "stdout",
     "output_type": "stream",
     "text": [
      "            Red Line Represents True Mean\n"
     ]
    }
   ],
   "source": [
    "var1 = (2*math.pi)/math.sqrt(6)\n",
    "def confidence_intervals(m=500, n=100):\n",
    "    mu = 8\n",
    "    beta = 2\n",
    "    mean = 8+(np.euler_gamma*2)\n",
    "    var1 = (2*math.pi)/math.sqrt(6)\n",
    "    prop = 0\n",
    "    ends = []\n",
    "    for i in range(m): \n",
    "        x = stats.gumbel_r.rvs(loc=mu, scale=beta, size=n)\n",
    "        means = ci_mean(x,None,None,None, .05)\n",
    "        ends.append(means)\n",
    "    for i in range(len(ends)): \n",
    "        high,low = ends[i]\n",
    "        if low <= mean <= high:\n",
    "            prop += 1\n",
    "    print(\"Proportion that contain true mean: \", (prop/len(ends)))\n",
    "    return ends\n",
    "plts = confidence_intervals(500, 100)\n",
    "choices = []\n",
    "highs = []\n",
    "lows = []\n",
    "for i in range(50):\n",
    "    choices.append(random.choice(plts))\n",
    "for i in range(len(choices)): \n",
    "        high,low = choices[i]\n",
    "        highs.append(high)\n",
    "        lows.append(low)\n",
    "plt.plot(range(50), lows)\n",
    "plt.plot(range(50), highs)\n",
    "plt.axhline(y=(8+(np.euler_gamma*2)), color='r', linestyle='-')\n",
    "print(\"          50 Sampled Confidence Intervals\")\n",
    "plt.show()\n",
    "print(\"            Red Line Represents True Mean\")"
   ]
  },
  {
   "cell_type": "markdown",
   "metadata": {},
   "source": [
    "**Part E:** Does the proportion of confidence intervals that cover the true mean of the distribution agree with the theory described in class?  Justify your conclusion. \n",
    "\n",
    "\n",
    "**It is close but not quite, this is most likely because we are sampling the Gumbel distribution which is skewed. And since we are only taking samples of 100 we are not working with a lot of data which can explain this discrepency.**"
   ]
  },
  {
   "cell_type": "markdown",
   "metadata": {},
   "source": [
    "**Part F**: In general, which is wider: a 95% confidence interval or a 99% confidence interval? Now, ELIF.  That is, *Explain it Like I'm Five*."
   ]
  },
  {
   "cell_type": "markdown",
   "metadata": {},
   "source": [
    "**In general a 99% confidence interval is wider that a 95% confidence interval because the interval gives us a range where we may expect to see the population mean. In order to have a higher confidence we must increase the width of the range. For example if I were to guess someone's weight and wanted to be sure I give a correct range, I would guess between 0-10,000 lbs because there is no way they could exist outside that range. In a range with a lower confidence I could guess 150-200 lbs. ** "
   ]
  },
  {
   "cell_type": "markdown",
   "metadata": {
    "collapsed": true
   },
   "source": [
    "---\n",
    "[Back to top](#top)"
   ]
  }
 ],
 "metadata": {
  "kernelspec": {
   "display_name": "Python 3",
   "language": "python",
   "name": "python3"
  },
  "language_info": {
   "codemirror_mode": {
    "name": "ipython",
    "version": 3
   },
   "file_extension": ".py",
   "mimetype": "text/x-python",
   "name": "python",
   "nbconvert_exporter": "python",
   "pygments_lexer": "ipython3",
   "version": "3.6.3"
  }
 },
 "nbformat": 4,
 "nbformat_minor": 2
}
