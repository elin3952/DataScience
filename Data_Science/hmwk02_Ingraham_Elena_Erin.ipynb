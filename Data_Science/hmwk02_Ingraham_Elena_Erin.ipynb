{
 "cells": [
  {
   "cell_type": "markdown",
   "metadata": {},
   "source": [
    "<a/ id='top'></a>\n",
    "# Homework 2: Introduction to Probability and Simulation \n",
    "***\n",
    "\n",
    "**Name**: **Elena Ingraham**\n",
    "\n",
    "***\n",
    "\n",
    "This assignment is due on Moodle by **5 PM on Friday June 15**. Your solutions to theoretical questions should be **done in Markdown/MathJax** directly below the associated question.  Your solutions to computational questions should include any specified Python code and results as well as written commentary on your conclusions.  Remember that you are encouraged to discuss the problems with your instructors and classmates, but **you must write all code and solutions on your own**. \n",
    "\n",
    "**NOTES**: \n",
    "\n",
    "- It is **bad form** to make your reader interpret numerical output from your code.  If a question asks you to compute some value from the data you should show your code output **AND** write a summary of the results in Markdown directly below your code.\n",
    "- Because you can technically evaluate notebook cells in a non-linear order, it's a good idea to do Cell $\\rightarrow$ Run All as a check before submitting your solutions.  That way if we need to run your code you will know that it will work as expected. \n",
    "- Submit only this Jupyter notebook to Moodle.  Do not compress it using tar, rar, zip, etc. \n",
    "\n",
    "---\n",
    "**Shortcuts:**  [Problem 1](#p1) | [Problem 2](#p2) | [Problem 3](#p3) | [Problem 4](#p4)\n",
    "\n",
    "---"
   ]
  },
  {
   "cell_type": "code",
   "execution_count": null,
   "metadata": {
    "collapsed": true,
    "scrolled": true
   },
   "outputs": [],
   "source": [
    "import pandas as pd\n",
    "import numpy as np\n",
    "import matplotlib.pylab as plt\n",
    "import random\n",
    "%matplotlib inline"
   ]
  },
  {
   "cell_type": "markdown",
   "metadata": {},
   "source": [
    "***\n",
    "<a/ id='p1'></a>\n",
    "[Back to top](#top)\n",
    "\n",
    "### [20 pts] Problem 1\n",
    "\n",
    "Access the data from URL https://www.stat.berkeley.edu/~statlabs/data/babies.data and store the information in a Pandas DataFrame.  These data are a subset from a much larger study dealing with child health and development.  A description of the variables can be found at https://www.stat.berkeley.edu/~statlabs/labs.html#babies, and a brief summary is given below.\n",
    "\n",
    "- **bwt**: birth weight (ounces; 999 if unknown) \n",
    "- **gestation**: length of pregnancy in days (999 if unknown)\n",
    "- **parity**: 0=first born, 9=unknown\n",
    "- **age**: mother's age in years\n",
    "- **height**: mother's height in inches (99 if unknown)\n",
    "- **weight**: mother's prepregnancy weight in pounds (999 if unknown)\n",
    "- **smoke**: smoking status of mother; 0=not now, 1=yes now, 9=unknown\n",
    "\n",
    "These data are also available on the course Piazza page, under the Resources tab."
   ]
  },
  {
   "cell_type": "code",
   "execution_count": null,
   "metadata": {},
   "outputs": [
    {
     "data": {
      "text/html": [
       "<div>\n",
       "<style>\n",
       "    .dataframe thead tr:only-child th {\n",
       "        text-align: right;\n",
       "    }\n",
       "\n",
       "    .dataframe thead th {\n",
       "        text-align: left;\n",
       "    }\n",
       "\n",
       "    .dataframe tbody tr th {\n",
       "        vertical-align: top;\n",
       "    }\n",
       "</style>\n",
       "<table border=\"1\" class=\"dataframe\">\n",
       "  <thead>\n",
       "    <tr style=\"text-align: right;\">\n",
       "      <th></th>\n",
       "      <th>bwt</th>\n",
       "      <th>gestation</th>\n",
       "      <th>parity</th>\n",
       "      <th>age</th>\n",
       "      <th>height</th>\n",
       "      <th>weight</th>\n",
       "      <th>smoke</th>\n",
       "    </tr>\n",
       "  </thead>\n",
       "  <tbody>\n",
       "    <tr>\n",
       "      <th>0</th>\n",
       "      <td>120</td>\n",
       "      <td>284</td>\n",
       "      <td>0</td>\n",
       "      <td>27</td>\n",
       "      <td>62</td>\n",
       "      <td>100</td>\n",
       "      <td>0</td>\n",
       "    </tr>\n",
       "    <tr>\n",
       "      <th>1</th>\n",
       "      <td>113</td>\n",
       "      <td>282</td>\n",
       "      <td>0</td>\n",
       "      <td>33</td>\n",
       "      <td>64</td>\n",
       "      <td>135</td>\n",
       "      <td>0</td>\n",
       "    </tr>\n",
       "    <tr>\n",
       "      <th>2</th>\n",
       "      <td>128</td>\n",
       "      <td>279</td>\n",
       "      <td>0</td>\n",
       "      <td>28</td>\n",
       "      <td>64</td>\n",
       "      <td>115</td>\n",
       "      <td>1</td>\n",
       "    </tr>\n",
       "    <tr>\n",
       "      <th>3</th>\n",
       "      <td>123</td>\n",
       "      <td>999</td>\n",
       "      <td>0</td>\n",
       "      <td>36</td>\n",
       "      <td>69</td>\n",
       "      <td>190</td>\n",
       "      <td>0</td>\n",
       "    </tr>\n",
       "    <tr>\n",
       "      <th>4</th>\n",
       "      <td>108</td>\n",
       "      <td>282</td>\n",
       "      <td>0</td>\n",
       "      <td>23</td>\n",
       "      <td>67</td>\n",
       "      <td>125</td>\n",
       "      <td>1</td>\n",
       "    </tr>\n",
       "    <tr>\n",
       "      <th>5</th>\n",
       "      <td>136</td>\n",
       "      <td>286</td>\n",
       "      <td>0</td>\n",
       "      <td>25</td>\n",
       "      <td>62</td>\n",
       "      <td>93</td>\n",
       "      <td>0</td>\n",
       "    </tr>\n",
       "    <tr>\n",
       "      <th>6</th>\n",
       "      <td>138</td>\n",
       "      <td>244</td>\n",
       "      <td>0</td>\n",
       "      <td>33</td>\n",
       "      <td>62</td>\n",
       "      <td>178</td>\n",
       "      <td>0</td>\n",
       "    </tr>\n",
       "    <tr>\n",
       "      <th>7</th>\n",
       "      <td>132</td>\n",
       "      <td>245</td>\n",
       "      <td>0</td>\n",
       "      <td>23</td>\n",
       "      <td>65</td>\n",
       "      <td>140</td>\n",
       "      <td>0</td>\n",
       "    </tr>\n",
       "    <tr>\n",
       "      <th>8</th>\n",
       "      <td>120</td>\n",
       "      <td>289</td>\n",
       "      <td>0</td>\n",
       "      <td>25</td>\n",
       "      <td>62</td>\n",
       "      <td>125</td>\n",
       "      <td>0</td>\n",
       "    </tr>\n",
       "    <tr>\n",
       "      <th>9</th>\n",
       "      <td>143</td>\n",
       "      <td>299</td>\n",
       "      <td>0</td>\n",
       "      <td>30</td>\n",
       "      <td>66</td>\n",
       "      <td>136</td>\n",
       "      <td>1</td>\n",
       "    </tr>\n",
       "  </tbody>\n",
       "</table>\n",
       "</div>"
      ],
      "text/plain": [
       "   bwt  gestation  parity  age  height  weight  smoke\n",
       "0  120        284       0   27      62     100      0\n",
       "1  113        282       0   33      64     135      0\n",
       "2  128        279       0   28      64     115      1\n",
       "3  123        999       0   36      69     190      0\n",
       "4  108        282       0   23      67     125      1\n",
       "5  136        286       0   25      62      93      0\n",
       "6  138        244       0   33      62     178      0\n",
       "7  132        245       0   23      65     140      0\n",
       "8  120        289       0   25      62     125      0\n",
       "9  143        299       0   30      66     136      1"
      ]
     },
     "execution_count": 2,
     "metadata": {},
     "output_type": "execute_result"
    }
   ],
   "source": [
    "df = pd.read_csv(\"https://www.stat.berkeley.edu/~statlabs/data/babies.data\", delim_whitespace=True)\n",
    "df.head(10)"
   ]
  },
  {
   "cell_type": "code",
   "execution_count": null,
   "metadata": {},
   "outputs": [
    {
     "data": {
      "text/plain": [
       "bwt          1236\n",
       "gestation    1236\n",
       "parity       1236\n",
       "age          1236\n",
       "height       1236\n",
       "weight       1236\n",
       "smoke        1236\n",
       "dtype: int64"
      ]
     },
     "execution_count": 3,
     "metadata": {},
     "output_type": "execute_result"
    }
   ],
   "source": [
    "df.count()"
   ]
  },
  {
   "cell_type": "markdown",
   "metadata": {},
   "source": [
    "**Part A**: Create a clean data set that removes subjects if any observations on the subject are unknown.  Note that that collectors of the data set used values like $9$, $99$, $999$, to denote unknown values.  You can look at the documentation linked in the problem description to determine which unknown-value marker was used for each characteristics.  Store the modified data set in a Pandas DataFrame called dfBabies. "
   ]
  },
  {
   "cell_type": "code",
   "execution_count": null,
   "metadata": {
    "collapsed": true
   },
   "outputs": [],
   "source": [
    "for index, row in df.iterrows():\n",
    "    if (row['bwt'] >= 999):\n",
    "        df.drop(index, inplace = True)\n",
    "    elif (row['gestation'] == 999):\n",
    "        df.drop(index, inplace = True)\n",
    "    elif (row['parity'] == 9):\n",
    "        df.drop(index, inplace = True)\n",
    "    elif (row['height'] == 99):\n",
    "        df.drop(index, inplace = True)\n",
    "    elif (row['weight'] == 999):\n",
    "        df.drop(index, inplace = True)\n",
    "    elif (row['smoke'] == 9):\n",
    "        df.drop(index, inplace = True)\n",
    "dfBabies = pd.DataFrame(df)"
   ]
  },
  {
   "cell_type": "code",
   "execution_count": null,
   "metadata": {},
   "outputs": [
    {
     "data": {
      "text/plain": [
       "bwt          1175\n",
       "gestation    1175\n",
       "parity       1175\n",
       "age          1175\n",
       "height       1175\n",
       "weight       1175\n",
       "smoke        1175\n",
       "dtype: int64"
      ]
     },
     "execution_count": 5,
     "metadata": {},
     "output_type": "execute_result"
    }
   ],
   "source": [
    "dfBabies.count()\n"
   ]
  },
  {
   "cell_type": "markdown",
   "metadata": {},
   "source": [
    "**Part B**: Use the information in dfBabies to create a density histogram of the birth weights of babies whose mothers have never smoked (smoke=0) and another histogram placed directly below the first in the same graphics device for the birth weights of babies whose mothers currently smoke (smoke=1).  Make the range of the horizontal axis $30$ to $180$ (ounces) for both histograms.  Make sure to give each subplot titles and label axes. "
   ]
  },
  {
   "cell_type": "code",
   "execution_count": null,
   "metadata": {},
   "outputs": [
    {
     "data": {
      "image/png": "[encoded data removed]",
      "text/plain": [
       "<matplotlib.figure.Figure at 0x7f4d3f9f3518>"
      ]
     },
     "metadata": {},
     "output_type": "display_data"
    },
    {
     "data": {
      "image/png": "[encoded data removed]",
      "text/plain": [
       "<matplotlib.figure.Figure at 0x7f4d37b8de10>"
      ]
     },
     "metadata": {},
     "output_type": "display_data"
    }
   ],
   "source": [
    "dfNonSmoke = dfBabies.copy()\n",
    "dfSmoke = dfBabies.copy()\n",
    "for index, row in dfNonSmoke.iterrows():\n",
    "    if (row['smoke'] == 1):\n",
    "        dfNonSmoke.drop(index, inplace = True)\n",
    "for index, row in dfSmoke.iterrows():\n",
    "    if (row['smoke'] == 0):\n",
    "        dfSmoke.drop(index, inplace = True)\n",
    "plt.hist(dfNonSmoke['bwt'], bins = 50, range = (30,180), label = \"Non-Smoker Birth Weight Distribution\", stacked = False)\n",
    "plt.show()\n",
    "plt.hist(dfSmoke['bwt'], bins = 50, range = (30,180), label = \"Smoker Birth Weight Distribution\", stacked = False)\n",
    "plt.show()\n"
   ]
  },
  {
   "cell_type": "code",
   "execution_count": null,
   "metadata": {
    "collapsed": true
   },
   "outputs": [],
   "source": []
  },
  {
   "cell_type": "markdown",
   "metadata": {},
   "source": [
    "**Part C**: Based on the histograms in **Part B**, characterize the distribution of baby birth weights for both non-smoking and smoking mothers."
   ]
  },
  {
   "cell_type": "markdown",
   "metadata": {
    "collapsed": true
   },
   "source": [
    "**The non-smoker distribution is dense and unimodal, whereas the smoker distribution is multimodal. **"
   ]
  },
  {
   "cell_type": "markdown",
   "metadata": {},
   "source": [
    "**Part D**: What are the mean and median weight difference between babies of smokers and non-smokers?  Can you think of any reason not to use the mean as a measure of center to compare birth weights for this problem? "
   ]
  },
  {
   "cell_type": "code",
   "execution_count": null,
   "metadata": {
    "collapsed": true
   },
   "outputs": [],
   "source": [
    "alpha1 = round(dfNonSmoke.bwt.mean(), 3)\n",
    "alpha2 = round(dfSmoke.bwt.mean(),3)\n",
    "med1 = dfNonSmoke.bwt.median()\n",
    "med2 = dfSmoke.bwt.median()"
   ]
  },
  {
   "cell_type": "code",
   "execution_count": null,
   "metadata": {},
   "outputs": [
    {
     "name": "stdout",
     "output_type": "stream",
     "text": [
      "Difference in Median:\n",
      "9.261\n"
     ]
    }
   ],
   "source": [
    "difference = alpha1 - alpha2\n",
    "print(\"Difference in Median:\")\n",
    "print(round(difference, 3))"
   ]
  },
  {
   "cell_type": "code",
   "execution_count": null,
   "metadata": {},
   "outputs": [
    {
     "name": "stdout",
     "output_type": "stream",
     "text": [
      "Difference in Median:\n",
      "8.0\n"
     ]
    }
   ],
   "source": [
    "diff_med = med1 - med2 \n",
    "print(\"Difference in Median:\")\n",
    "print(diff_med)"
   ]
  },
  {
   "cell_type": "markdown",
   "metadata": {},
   "source": [
    "**The median may not be a good measure to compare the datasets because the non-smoker distribution is sparse, and the outliers provide a lot of important information. Since the data is in regards to birthweight, the lowest values are extremely important for assessing risk. Since the mean is sensitive to this skewing, it provides a better understanding of the difference in birthweight between smoking and non-smoking mothers. **"
   ]
  },
  {
   "cell_type": "markdown",
   "metadata": {},
   "source": [
    "**Part E**: Create side-by-side box-and-whisker plots to compare the birth weights of babies whose mothers never smoked and those who currently smoke.  Use the box-and-whisker plot conventions discussed in lecture, and be sure to label your axes and any relevant components of the plot!"
   ]
  },
  {
   "cell_type": "code",
   "execution_count": null,
   "metadata": {},
   "outputs": [
    {
     "data": {
      "image/png": "[encoded data removed]",
      "text/plain": [
       "<matplotlib.figure.Figure at 0x7f4d37acd358>"
      ]
     },
     "metadata": {},
     "output_type": "display_data"
    },
    {
     "data": {
      "image/png": "[encoded data removed]",
      "text/plain": [
       "<matplotlib.figure.Figure at 0x7f4d379f4400>"
      ]
     },
     "metadata": {},
     "output_type": "display_data"
    }
   ],
   "source": [
    "fig, ax1 = plt.subplots(figsize=(10, 6))\n",
    "plt.boxplot(dfNonSmoke['bwt'], showfliers = True)\n",
    "ax1.set_ylabel('Birthweight')\n",
    "plt.figtext(0.35, 0.013, ' Non-Smoking Mothers', color='black', weight='roman', size='x-large')\n",
    "plt.show()\n",
    "fig, ax1 = plt.subplots(figsize=(10, 6))\n",
    "plt.boxplot(dfSmoke['bwt'], showfliers = True)\n",
    "ax1.set_ylabel('Birthweight')\n",
    "plt.figtext(0.35, 0.013, ' Smoking Mothers', color='black', weight='roman',\n",
    "            size='x-large')\n",
    "plt.show()"
   ]
  },
  {
   "cell_type": "markdown",
   "metadata": {
    "collapsed": true
   },
   "source": []
  },
  {
   "cell_type": "markdown",
   "metadata": {},
   "source": [
    "**Part F**: Using the box-and-whisker plots from **Part E** comment on the distributions of body weights of babies within each smoking / non-smoking groups as well as the comparison of the two classes. "
   ]
  },
  {
   "cell_type": "markdown",
   "metadata": {
    "collapsed": true
   },
   "source": [
    "**Based on the boxplots, we can see that the distribution of non-smoking mothers is much denser than the non-smokers. This makes sense after comparing the plots with the histograms made previously. In the smoking mother's histogram we can see a chunk missing, which is represented by a bigger box in the boxplot. Whereas the non-smoking mother's have a dense, normal distribution which is represented by the small box in the boxplot. **"
   ]
  },
  {
   "cell_type": "markdown",
   "metadata": {},
   "source": [
    "***\n",
    "<a/ id='p2'></a>\n",
    "[Back to top](#top)\n",
    "\n",
    "### [20 points] Problem 2\n",
    "\n",
    "To play a game, you have a bag containing 28 fair [four-sided dice](https://en.wikipedia.org/wiki/Four-sided_die), with faces `{1,2,3,4}`.  This bag also contains 10 fair six-sided dice (faces `{1,2,3,4,5,6}`) and 2 fair twenty-sided dice (faces `{1,2,3,4,...,19,20}`).  Call these 3 classes of die \"Four\", \"Six\" and \"Twenty\" (or F, S, and T, for short).  You grab one die at random from the box.  \n",
    "\n",
    "Work the following problems by hand unless otherwise stated (but don't be afraid to simulate to check your result!). "
   ]
  },
  {
   "cell_type": "markdown",
   "metadata": {},
   "source": [
    "**Part A**: You roll your die one time.  What is the probability of the event $R_5$, that you roll a 5?  Include at least 4 decimal places in your answer."
   ]
  },
  {
   "cell_type": "code",
   "execution_count": null,
   "metadata": {},
   "outputs": [
    {
     "name": "stdout",
     "output_type": "stream",
     "text": [
      "Probability of Rolling a five: \n",
      "18.900%\n"
     ]
    }
   ],
   "source": [
    "print('Probability of Rolling a five: ')\n",
    "print('{:.3%}'.format(round((40/212),3)))"
   ]
  },
  {
   "cell_type": "markdown",
   "metadata": {},
   "source": [
    "**Part B**: Suppose you roll a 5.  What is the probability that the die you chose from the box is a Six-sided die? "
   ]
  },
  {
   "cell_type": "code",
   "execution_count": null,
   "metadata": {},
   "outputs": [
    {
     "name": "stdout",
     "output_type": "stream",
     "text": [
      "Probability of a six-sided die, given you roll a 5: \n",
      "22.083%\n"
     ]
    }
   ],
   "source": [
    "print(\"Probability of a six-sided die, given you roll a 5: \") #P(A | R5) = P(B and A)/P(B) #P(B | A) = P(A and B)/P(A)\n",
    "p5 = (40/212)\n",
    "p_5and6 =  (((1/4)*(1/6))/ p5 )                  #P(Six ∩ B) = P(Six) P(R5|Six) \n",
    "print('{:.3%}'.format(p_5and6))"
   ]
  },
  {
   "cell_type": "markdown",
   "metadata": {},
   "source": [
    "**Part C:**  Are the events $R_5$ and $S$ independent?  Justify your answer **using math**."
   ]
  },
  {
   "cell_type": "code",
   "execution_count": null,
   "metadata": {
    "collapsed": true
   },
   "outputs": [],
   "source": [
    "#calculate P(A), P(B), and P(A ∩ B)\n",
    "#then check whether P(A ∩ B) equals P(A)P(B). \n",
    "#If they are equal, A and B are independent; if not, they are dependent. "
   ]
  },
  {
   "cell_type": "code",
   "execution_count": null,
   "metadata": {},
   "outputs": [
    {
     "name": "stdout",
     "output_type": "stream",
     "text": [
      "0.042\n",
      "0.042\n"
     ]
    }
   ],
   "source": [
    "p5_or_6 = (10/40)*(1/6)    #P(A ∩ B) = P(A) P(B|A) #P(A) = p5 P(B) = \n",
    "p5_times_p6 = p_5and6 * p5             \n",
    "print(round(p5_times_p6, 3))\n",
    "print(round(p5_or_6, 3))\n"
   ]
  },
  {
   "cell_type": "markdown",
   "metadata": {},
   "source": [
    "**Since the probabilities are equal, so the events are independent.**"
   ]
  },
  {
   "cell_type": "markdown",
   "metadata": {},
   "source": [
    "**Part D:**  Suppose you roll your die $n$ times and record each outcome.  Obviously, if you roll 5 or 6 you know you did *not* pick a Four-sided die, and if you roll a 7 or higher, you must have picked a Twenty-sided die.\n",
    "\n",
    "But, if you roll $n$ times in a row and get only 1, 2, 3 or 4, you would have a stronger belief that you in fact grabbed one of the Four-sided dice.  Let $E_n$ be the event that you roll $n$ rolls of 1, 2, 3 or 4 in a row.  For example, one outcome in $E_3$ is the sequence 2, 3, 1.\n",
    "\n",
    "Given that you roll a single value of 1, 2, 3 or 4, what is the probability that you have grabbed a Four-sided die?  That is, calculate **by hand** $P(F \\mid E_1)$."
   ]
  },
  {
   "cell_type": "code",
   "execution_count": null,
   "metadata": {},
   "outputs": [
    {
     "name": "stdout",
     "output_type": "stream",
     "text": [
      "92.750%\n"
     ]
    }
   ],
   "source": [
    "#P(B | A) = P(A and B)/P(A)\n",
    "#212 total numbers \n",
    "#40 1,2,3,4 = 160 opportunities \n",
    "pFourSide = ((28/40)*(4/4))/(160/212)\n",
    "print('{:.3%}'.format(pFourSide))"
   ]
  },
  {
   "cell_type": "markdown",
   "metadata": {},
   "source": [
    "$P(F \\mid E_1)$. = 18.550%"
   ]
  },
  {
   "cell_type": "markdown",
   "metadata": {},
   "source": [
    "**Part E**:  \n",
    "\n",
    "First, work out **by hand** a formula for the probability in general that you are rolling a Four-sided die, given that you have rolled $n$ values in a row that are 1, 2, 3 or 4 (that is, $E_n$).  So you want a formula for $P(F \\mid E_n)$ in terms of $n$.\n",
    "\n",
    "Then, define a function `prob_four` to calculate $P(F \\mid E_n)$.  This function should only take one positive integer argument, $n$.\n",
    "\n",
    "Verify that your function is performing as expected by checking your answer to **Part C**."
   ]
  },
  {
   "cell_type": "code",
   "execution_count": null,
   "metadata": {},
   "outputs": [
    {
     "name": "stdout",
     "output_type": "stream",
     "text": [
      "0.9535694112\n"
     ]
    }
   ],
   "source": [
    "def prob_four(n):\n",
    "        p = (10/40)*( np.power((4/6),1)/(160/212)) + (2/40)*(np.power((4/20),1)/(160/212))\n",
    "        new_roll = False\n",
    "        p4 = (((28/40)*((4/4)))/(160/212))\n",
    "        bag_of_die = [4,4,4,4,4,4,4,4,4,4,4,4,4,4,4,4,4,4,4,4,4,4,4,4,4,4,4,4,6,6,6,6,6,6,6,6,6,6,20,20]\n",
    "        rolls = n\n",
    "        for i in range(n):\n",
    "            die = random.choice(bag_of_die)\n",
    "            #print(die)\n",
    "            if (die == 4):\n",
    "                p4 = 1 - (p/n) #(((28/40)*((4/4)))/(160/212))\n",
    "            if (die == 6):\n",
    "                new_roll = True\n",
    "                p += ((10/40)*( np.power((4/6),i)/(160/212)))\n",
    "            elif(die == 20):\n",
    "                new_roll = True\n",
    "                p += ((2/40)*(np.power((4/20),i)/(160/212)))\n",
    "        return p4\n",
    "mean_prob = (prob_four(10) + prob_four(10) + prob_four(10) + prob_four(10)+prob_four(10)+prob_four(10) + prob_four(10) + prob_four(10) + prob_four(10)+prob_four(10))/10\n",
    "print(mean_prob)\n",
    "\n",
    "\n",
    "\n"
   ]
  },
  {
   "cell_type": "markdown",
   "metadata": {},
   "source": [
    "**Part F:**  What is the smallest value of $n$ successive rolls of 1, 2, 3 or 4 that would make you believe that there's a better-than-95% chance that the die you grabbed is Four-sided?  Plugging larger and larger values for $n$ into your `prob_four` function is a very reasonable way to check this."
   ]
  },
  {
   "cell_type": "markdown",
   "metadata": {
    "collapsed": true
   },
   "source": [
    "**After ten rolls I would be confident that there's a better than 95% chance that the die is four-sided, based on the simulation above**"
   ]
  },
  {
   "cell_type": "markdown",
   "metadata": {},
   "source": [
    "***\n",
    "<a/ id='p3'></a>\n",
    "[Back to top](#top)\n",
    "\n",
    "### [30 points] Problem 3\n",
    "\n",
    "When Chris and Dan leave work in the CU Engineering Center ($E$), they each head for one of five other locations: the Gym to get big ($G$), the Library to get learned ($L$), the Boulder Reservoir to have a nice swim ($R$), the Hill to have a sandwich ($H$), or to Brewing Market to have a nice Coffee ($C$).  \n",
    "\n",
    "Here are some rules governing their movements throughout the fair city of Boulder:\n",
    "* When Chris and/or Dan is leaving one location, they randomly select one of the available adjacent locations, with equal probability.\n",
    "* This includes back-tracking, but note that to return to their original location would require 2 moves.\n",
    "* Assume that all moves require the same amount of time.\n",
    "* They are also not allowed to stay put; they always must move to some *other* adjacent location.\n",
    "* Chris and Dan, being the think-for-yourselfers that they are, also act **independently** of one another. That is, the probability that Chris goes from one place to another is independent of the probability of Dan's movements.\n",
    "\n",
    "<img src=\"http://www.cs.colorado.edu/~tonyewong/home/resources/chris_and_dan_statespace.png\" style=\"width: 300px;\"/>"
   ]
  },
  {
   "cell_type": "markdown",
   "metadata": {},
   "source": [
    "**Part A**: Compute (by hand) the probability that Dan ends up at the the Library ($L$) after first visiting one other location, after he is initially at the Engineering Center ($E$). "
   ]
  },
  {
   "cell_type": "code",
   "execution_count": null,
   "metadata": {},
   "outputs": [
    {
     "name": "stdout",
     "output_type": "stream",
     "text": [
      "Probability Dan ends up at the Library: \n",
      "20.000%\n"
     ]
    }
   ],
   "source": [
    "print(\"Probability Dan ends up at the Library: \")\n",
    "print('{:.3%}'.format(2/10))"
   ]
  },
  {
   "cell_type": "markdown",
   "metadata": {},
   "source": [
    "**Part B**: Compute (by hand) the probability that Chris ends up at the Gym _either_ as his first _or_ second location visited after leaving the Reservsoir. (Again, assume that Chris wanders the streets of Boulder randomly using the same rules described above.)"
   ]
  },
  {
   "cell_type": "code",
   "execution_count": null,
   "metadata": {},
   "outputs": [
    {
     "name": "stdout",
     "output_type": "stream",
     "text": [
      "Probability Chris ends up at the gym as first or second location: \n",
      "25.000%\n"
     ]
    }
   ],
   "source": [
    "print(\"Probability Chris ends up at the gym as first or second location: \")\n",
    "print('{:.3%}'.format((2/8), 4))"
   ]
  },
  {
   "cell_type": "markdown",
   "metadata": {},
   "source": [
    "**Part C**: Suppose that Chris works late at the Engineering Center, while Dan goes to the Hill.  Later, they both leave and wander around, randomly and independently of one another, as described above. \n",
    "1. What is the probability that they run into each other in the same location on the first location visited?  \n",
    "2. Given their two initial locations, what is the probability that they meet at the Hill after 2 moves?"
   ]
  },
  {
   "cell_type": "code",
   "execution_count": null,
   "metadata": {},
   "outputs": [
    {
     "name": "stdout",
     "output_type": "stream",
     "text": [
      "1. 16.667%\n",
      "2. 2.098%\n"
     ]
    }
   ],
   "source": [
    "#Position 3 is equal for Chris and Dan \n",
    "print('1.', '{:.3%}'.format((3/18)))\n",
    "print('2.', '{:.3%}'.format(((1/11)*(3/13))))\n",
    "#e 13"
   ]
  },
  {
   "cell_type": "markdown",
   "metadata": {},
   "source": [
    "**Part D**: Write a simulation to confirm that your by-hand calculations in **Part A**, **Part B**, and **Part C** (both parts of C) are correct. Make sure you run your simulations for enough trials that your estimates are reasonably close to your analytic results. In addition to showing your code, you should explain in Markdown (not just in code comments) what your code is doing and why it is a reasonable approximation of the probabilities in **Part A**, **Part B**, and **Part C**.  "
   ]
  },
  {
   "cell_type": "code",
   "execution_count": null,
   "metadata": {},
   "outputs": [
    {
     "data": {
      "text/plain": [
       "['E', 'C', 'H', 'G', 'R']"
      ]
     },
     "execution_count": 20,
     "metadata": {},
     "output_type": "execute_result"
    }
   ],
   "source": [
    "graph = {'L': ['L','C', 'E', 'G', 'H'],\n",
    "             'C': ['C','H', 'L', 'E'],\n",
    "             'E': ['E','C', 'L', 'G', 'R'],\n",
    "             'G': ['G','H', 'L', 'E', 'R'],\n",
    "             'H': ['H','G', 'L', 'C'],\n",
    "             'R': ['R','G', 'E']}\n",
    "def find_path(graph, start, end, path=[]):\n",
    "        path = path + [start]\n",
    "        if start == end:\n",
    "            return path\n",
    "        if start not in graph:\n",
    "            return None\n",
    "        for node in graph[start]:\n",
    "            if node not in path:\n",
    "                newpath = find_path(graph, node, end, path)\n",
    "                if newpath: return newpath\n",
    "        return None\n",
    "find_path(graph, 'E','R' )"
   ]
  },
  {
   "cell_type": "code",
   "execution_count": null,
   "metadata": {},
   "outputs": [
    {
     "data": {
      "text/plain": [
       "[['L', 'C', 'H', 'G', 'E', 'R'],\n",
       " ['L', 'C', 'H', 'G', 'R'],\n",
       " ['L', 'C', 'E', 'G', 'R'],\n",
       " ['L', 'C', 'E', 'R'],\n",
       " ['L', 'E', 'C', 'H', 'G', 'R'],\n",
       " ['L', 'E', 'G', 'R'],\n",
       " ['L', 'E', 'R'],\n",
       " ['L', 'G', 'H', 'C', 'E', 'R'],\n",
       " ['L', 'G', 'E', 'R'],\n",
       " ['L', 'G', 'R'],\n",
       " ['L', 'H', 'G', 'E', 'R'],\n",
       " ['L', 'H', 'G', 'R'],\n",
       " ['L', 'H', 'C', 'E', 'G', 'R'],\n",
       " ['L', 'H', 'C', 'E', 'R']]"
      ]
     },
     "execution_count": 21,
     "metadata": {},
     "output_type": "execute_result"
    }
   ],
   "source": [
    " def find_all_paths(graph, start, end, path=[]):\n",
    "        path = path + [start]\n",
    "        if start == end:\n",
    "            return [path]\n",
    "        if start not in graph:\n",
    "            return []\n",
    "        paths = []\n",
    "        for node in graph[start]:\n",
    "            if node not in path:\n",
    "                newpaths = find_all_paths(graph, node, end, path)\n",
    "                for newpath in newpaths:\n",
    "                    paths.append(newpath)\n",
    "        return paths\n",
    "find_all_paths(graph, 'L', 'R')"
   ]
  },
  {
   "cell_type": "code",
   "execution_count": null,
   "metadata": {
    "scrolled": true
   },
   "outputs": [
    {
     "data": {
      "text/plain": [
       "'17.070%'"
      ]
     },
     "execution_count": 22,
     "metadata": {},
     "output_type": "execute_result"
    }
   ],
   "source": [
    "def randomPath(n, position):\n",
    "    same = 0\n",
    "    sun = 0\n",
    "    rowz = 0 \n",
    "    pathz = 0\n",
    "    pathArray = ['L','C', 'E', 'G', 'H', 'R']\n",
    "    for i in range(n):\n",
    "        endC = random.choice(pathArray)\n",
    "        endD= random.choice(pathArray)\n",
    "        chris = find_all_paths(graph, 'E', endC)\n",
    "        dan = find_all_paths(graph, 'H', endD)\n",
    "        #print(dan)\n",
    "        #print(chris)\n",
    "        lengthC = (len(chris))\n",
    "        lengthD = (len(dan))\n",
    "        lengthDiff = lengthC - lengthD\n",
    "        if ((lengthD > position) & (lengthC > position)):\n",
    "            sun += 1\n",
    "            for row in chris:\n",
    "                pathz +=1\n",
    "                for row1 in dan:\n",
    "                    pathz += 1\n",
    "                    for i in row:\n",
    "                        rowz += 1\n",
    "                        for j in row1:\n",
    "                            rowz += 1\n",
    "                            if(row[position] == row1[position]):\n",
    "                                same += 1\n",
    "                                rowz += 1\n",
    "        else:\n",
    "            pathz +=1\n",
    "            #rowz += 1\n",
    "    #print(same)\n",
    "    #print(pathz)\n",
    "    #print(rowz)\n",
    "    probability = same/rowz\n",
    "    return ('{:.3%}'.format(probability) )#(np.sqrt(same)/ n)\n",
    "randomPath(10000, 1)"
   ]
  },
  {
   "cell_type": "code",
   "execution_count": 65,
   "metadata": {},
   "outputs": [
    {
     "data": {
      "text/plain": [
       "'3.059%'"
      ]
     },
     "execution_count": 65,
     "metadata": {},
     "output_type": "execute_result"
    }
   ],
   "source": [
    "graph2 = {'L': ['L','C', 'E', 'G', 'H', 'H2'],\n",
    "             'C': ['C','H', 'L', 'E','H2'],\n",
    "             'E': ['E','C', 'L', 'G', 'R','H2'],\n",
    "             'G': ['G','H', 'L', 'E', 'R','H2'],\n",
    "             'H': ['H','G', 'L', 'C'],\n",
    "             'H2':['H','G', 'L', 'C'],\n",
    "             'R': ['R','G', 'E','H2']}\n",
    "def randomHillPath(n, position):\n",
    "    same = 0\n",
    "    sun = 0\n",
    "    rowz = 0 \n",
    "    pathz = 0\n",
    "    pathArray = ['L','C', 'E', 'G', 'H', 'R']\n",
    "    for i in range(n):\n",
    "        endC = random.choice(pathArray)\n",
    "        endD= random.choice(pathArray)\n",
    "        chris = find_all_paths(graph2, 'E', endC)\n",
    "        dan = find_all_paths(graph2, 'H', endD)\n",
    "        lengthC = (len(chris))\n",
    "        lengthD = (len(dan))\n",
    "        lengthDiff = lengthC - lengthD\n",
    "        if ((lengthD > position) & (lengthC > position)):\n",
    "            sun += 1\n",
    "            for row in chris:\n",
    "                pathz +=1\n",
    "                for row1 in dan:\n",
    "                    pathz += 1\n",
    "                    if(len(row)>position):\n",
    "                        if(len(row1)>position):\n",
    "                            for i in row:\n",
    "                                rowz += 1\n",
    "                                for j in row1:\n",
    "                                    rowz += 1\n",
    "                                    if((row[position] == 'H')): #& (row1[position] == 'H')):\n",
    "                                        if(row1[position] == 'H2'):\n",
    "                                                same += 1\n",
    "                                                rowz += 1\n",
    "            else:\n",
    "                pathz +=1\n",
    "    probability = same/rowz\n",
    "    return ('{:.3%}'.format(probability) )#(np.sqrt(same)/ n)\n",
    "randomHillPath(1000, 2)"
   ]
  },
  {
   "cell_type": "raw",
   "metadata": {},
   "source": [
    "**The code above gives the possible paths given a start by utilizing the graph data structure. By counting the possible paths that meet the conditions, divided by the total paths give the probability. The random path function is finding the number of equalities at a position passed in as an argument. By setting the position to one we can see the probability of them running into at the first location. By altering to check if the positions are equal and 'H' we can find the simulated probability of running into each other at the hill.**"
   ]
  },
  {
   "cell_type": "markdown",
   "metadata": {},
   "source": [
    "***\n",
    "<a/ id='p4'></a>\n",
    "[Back to top](#top)\n",
    "\n",
    "### [30 points] Problem 4\n",
    "\n",
    "\n",
    "In this problem you will write some code to simulate the game of **Miniopoly** (a very rough approximation of [Monopoly](https://en.wikipedia.org/wiki/Monopoly_(game)).  The game consists of a round board with 40 \"squares\" numbered from $0$ to $40$, where squares $0$ and $40$ are [coincident](https://en.wikipedia.org/wiki/Coincident) and called **GO**.  A player starts on **GO** with \\$200 in their pocket.  On each turn the player rolls a pair of dice and then moves a number of spaces equal to the sum of the dice.  Landing on different squares have different results: \n",
    "\n",
    "- Squares 2, 7, 17, 22, 33, and 36 cause you to draw a card.  The cards tell you to collect \\$50, \\$100 or \\$200, or pay the bank \\$50 or \\$100.  There is always an equal probability associated with each of these possible cards.\n",
    "\n",
    "<p> </p>\n",
    "\n",
    "- Squares 0, 10, and 20 do not trigger any action \n",
    "\n",
    "<p> </p>\n",
    "\n",
    "- Square 30 is **Go To Jail**, which sends the player directly to **Jail** and ends the turn \n",
    "\n",
    "<p> </p>\n",
    "\n",
    "- If a player starts a turn from **Jail** she rolls two dice: \n",
    "\n",
    "    - If the player rolls doubles (i.e. the dice have equal values) the player moves from Square 10 a number of squares equal to the sum of the dice\n",
    "    \n",
    "    - If the player rolls anything other than doubles she pays the bank \\$20 and remains in **Jail** \n",
    "    \n",
    "<p> </p>\n",
    "\n",
    "- If the player passes or lands on **GO** she collects \\$200. \n",
    "\n",
    "<p> </p>\n",
    "\n",
    "- If the player lands on any other square not mentioned above, she pays the bank an amount equal to the square's number (e.g. if she lands on Square 29 she pays the bank \\$29). \n",
    "\n",
    "<p> </p>\n",
    "\n",
    "If at any point the player has \\$0 or less they go bankrupt and the game ends. \n",
    "\n",
    "<br>\n",
    "\n",
    "**Part A**: Complete the function miniopoly_turn below. The function should simulate one turn of Miniopoly.  It should take as arguments the player's current location on the board as well as the player's current cash reserves, and return the player's new location and cash reserves after the turn has completed. Note that if a player goes bankrupt during the game you should return their cash as 0 instead of a negative value.  "
   ]
  },
  {
   "cell_type": "code",
   "execution_count": null,
   "metadata": {
    "collapsed": true,
    "scrolled": true
   },
   "outputs": [],
   "source": [
    "cardSquares = [2, 7, 17, 22, 33, 36]\n",
    "nothing = [10, 20]\n",
    "def miniopoly_turn(square, cash):\n",
    "    if cash is None:\n",
    "        cash = 0\n",
    "    if square is None:\n",
    "        square = 0\n",
    "    if (square >= 40):\n",
    "        square = square - 40\n",
    "    if(square in cardSquares):\n",
    "        cash = cardDraw(cash)\n",
    "    elif(square == 30):\n",
    "        square = roll_dice(square)\n",
    "        cash += -20\n",
    "    elif(square == 30):\n",
    "        cash -= 20\n",
    "        print('in jail')\n",
    "        roll_dice(square)\n",
    "    elif(square == 0):\n",
    "        cash += 200\n",
    "    elif(square == 40):\n",
    "        cash += 200\n",
    "        square = 0 \n",
    "    elif(square in nothing):\n",
    "        square = square\n",
    "    else:\n",
    "        cash -= square\n",
    "    if(cash <= 0):\n",
    "        cash = 0\n",
    "        return\n",
    "    return cash\n",
    "miniopoly_turn(0,10)\n",
    "def cardDraw(cash):\n",
    "    cards = [-100, -50, 50, 100, 200]\n",
    "    cash = cash + random.choice(cards)\n",
    "    return cash\n",
    "def roll_dice(square):\n",
    "    die1 = [1, 2, 3, 4, 5, 6]\n",
    "    die2 = [1, 2, 3, 4, 5, 6]\n",
    "    roll1 = random.choice(die1)\n",
    "    roll2 = random.choice(die2)\n",
    "    if(roll1 == roll2):\n",
    "        square = 10 + roll1 + roll2\n",
    "    else:\n",
    "       # print('still in jail')\n",
    "        square = 30\n",
    "    return square"
   ]
  },
  {
   "cell_type": "markdown",
   "metadata": {},
   "source": [
    "**Part B**: Use your function from **Part A** to Simulate at least 5000 30-turn games of Miniopoly and make a frequency histogram of the player's cash at the end of the game. Be sure to label your axes!"
   ]
  },
  {
   "cell_type": "code",
   "execution_count": 66,
   "metadata": {
    "scrolled": false
   },
   "outputs": [
    {
     "data": {
      "image/png": "[encoded data removed]",
      "text/plain": [
       "<matplotlib.figure.Figure at 0x7f4d37a79198>"
      ]
     },
     "metadata": {},
     "output_type": "display_data"
    }
   ],
   "source": [
    "die = [1, 2, 3, 4, 5, 6]\n",
    "def miniopoly_game(square, cash, games):\n",
    "    gameEnds = []\n",
    "    for i in range(games):\n",
    "        square = 0\n",
    "        cash = 0\n",
    "        jail = 0\n",
    "        for i in range(30):\n",
    "            cash = miniopoly_turn(square, cash)\n",
    "            square = (square + random.choice(die))\n",
    "            if (square == 30):\n",
    "                jail = jail + 1\n",
    "            if (square >= 40):\n",
    "                square -= 40\n",
    "            #print(cash, square)\n",
    "        if cash is None:\n",
    "            cash = 0 \n",
    "        gameEnds = np.append(gameEnds, cash) \n",
    "        if(jail > 0):\n",
    "            gameEnds = np.insert(gameEnds, 0, 1)\n",
    "        elif(jail == 0):\n",
    "            gameEnds = np.insert(gameEnds, 0, 0)\n",
    "    return (gameEnds)\n",
    "gamesRun = miniopoly_game(0,0,50000)\n",
    "gamesTotal = gamesRun[(len(gamesRun)//2):]\n",
    "jailRun = gamesRun[:(len(gamesRun)//2)]\n",
    "#print(len(gamesRun))\n",
    "ax1 = plt.subplot2grid((40,40), (0,0), rowspan=40, colspan=40)\n",
    "ax1.set_ylabel('Number of Games')\n",
    "plt.hist(gamesTotal, bins = 30, label = \"Game Winning Distribution\")\n",
    "plt.figtext(0.35, 0.013, 'Final amount of Cash', color='black', weight='roman',size='x-large')\n",
    "plt.show()   \n",
    "#plt.hist(jailRun, bins = 10)\n",
    "#plt.show()"
   ]
  },
  {
   "cell_type": "markdown",
   "metadata": {},
   "source": [
    "**Part C**: Use your codes to estimate the probability that a player goes bankrupt in the first 30 turns of the game. "
   ]
  },
  {
   "cell_type": "code",
   "execution_count": 120,
   "metadata": {},
   "outputs": [
    {
     "name": "stdout",
     "output_type": "stream",
     "text": [
      "[  0 116 128 ..., 256 196   0]\n",
      "12460\n",
      "Probability Player Goes Bankrupt in First 30 Turns\n",
      "49.840%\n"
     ]
    }
   ],
   "source": [
    "games = 50000\n",
    "gamesArray = miniopoly_game(0, 0, games).astype('int64')\n",
    "gamesTotal = gamesArray[(len(gamesRun)//2):]\n",
    "print(gamesTotal)\n",
    "bankrupt = 0\n",
    "for i in range(len(gamesTotal)):\n",
    "    if(gamesTotal[i] <= 0):\n",
    "        bankrupt = bankrupt + 1\n",
    "print(bankrupt)\n",
    "p_bankr = bankrupt/(games/2)\n",
    "print('Probability Player Goes Bankrupt in First 30 Turns')\n",
    "print('{:.3%}'.format(p_bankr))"
   ]
  },
  {
   "cell_type": "markdown",
   "metadata": {},
   "source": [
    "**Part D**: Use your codes to estimate the probability that a player goes bankrupt in the first 30 turns _given_ that they went to **Jail** at least once.  Is a player more or less likely to go bankrupt if they've been to **Jail**?  "
   ]
  },
  {
   "cell_type": "code",
   "execution_count": 119,
   "metadata": {},
   "outputs": [
    {
     "name": "stdout",
     "output_type": "stream",
     "text": [
      "Probability of going to jail: \n",
      "54.202%\n"
     ]
    }
   ],
   "source": [
    "print(\"Probability of going to jail: \")\n",
    "jailRun = gamesArray[:(len(gamesArray)//2)]\n",
    "jails = jailRun.sum()\n",
    "p_jail = jails/len(jailRun)\n",
    "print('{:.3%}'.format(p_jail))\n",
    "        "
   ]
  },
  {
   "cell_type": "code",
   "execution_count": 118,
   "metadata": {
    "scrolled": true
   },
   "outputs": [
    {
     "name": "stdout",
     "output_type": "stream",
     "text": [
      "Probability that a player goes bankrupt in the first 30 turns, given that they went to Jail at least once:\n",
      "49.744%\n"
     ]
    }
   ],
   "source": [
    "#jail and bankrupt \n",
    "jailrupt = 0\n",
    "jail = 0 \n",
    "for i in range(len(gamesTotal)):\n",
    "    if(jailRun[i] == 1):\n",
    "        jail += 1\n",
    "    if((gamesTotal[i] == 0) & (jailRun[i] == 1)):\n",
    "        jailrupt += 1\n",
    "bank_sect_jail = (jailrupt/jail)\n",
    "p_given_jail = bank_sect_jail/ p_bankr\n",
    "print(\"Probability that a player goes bankrupt in the first 30 turns, given that they went to Jail at least once:\")\n",
    "print('{:.3%}'.format(p_given_jail))"
   ]
  },
  {
   "cell_type": "markdown",
   "metadata": {},
   "source": [
    "**A player is as likely to go bankrupt if they've been to jail, since the probability of going to bankrupt if you've been to jail is ~50% and just going bankrupt is ~50% **"
   ]
  },
  {
   "cell_type": "markdown",
   "metadata": {},
   "source": [
    "**Part E**: Use your code from **Part A** to estimate the probability (either directly or using Bayes' Rule) that a player has gone to jail at least once, given that the player went bankrupt in the first 30 turns."
   ]
  },
  {
   "cell_type": "markdown",
   "metadata": {},
   "source": [
    "**The probability of a player going to jail, given they went bankrupt, calculated by using Bayes' Rule:**"
   ]
  },
  {
   "cell_type": "code",
   "execution_count": 116,
   "metadata": {},
   "outputs": [
    {
     "name": "stdout",
     "output_type": "stream",
     "text": [
      "Probability that a player goes bankrupt in the first 30 turns, given that they went to Jail at least once:\n",
      "91.291%\n"
     ]
    }
   ],
   "source": [
    "# bayes P( jail | bankrupt) =  P(bankrupt |jail) * P(bankrupt) / P (Jail)\n",
    "print(\"Probability that a player goes bankrupt in the first 30 turns, given that they went to Jail at least once:\")\n",
    "p_bankr_given_jail = (p_given_jail* p_bankr)/p_jail\n",
    "print('{:.3%}'.format(p_bankr_given_jail))\n"
   ]
  },
  {
   "cell_type": "code",
   "execution_count": null,
   "metadata": {
    "collapsed": true
   },
   "outputs": [],
   "source": []
  },
  {
   "cell_type": "code",
   "execution_count": null,
   "metadata": {
    "collapsed": true
   },
   "outputs": [],
   "source": []
  }
 ],
 "metadata": {
  "kernelspec": {
   "display_name": "Python 3",
   "language": "python",
   "name": "python3"
  },
  "language_info": {
   "codemirror_mode": {
    "name": "ipython",
    "version": 3
   },
   "file_extension": ".py",
   "mimetype": "text/x-python",
   "name": "python",
   "nbconvert_exporter": "python",
   "pygments_lexer": "ipython3",
   "version": "3.6.3"
  }
 },
 "nbformat": 4,
 "nbformat_minor": 2
}
